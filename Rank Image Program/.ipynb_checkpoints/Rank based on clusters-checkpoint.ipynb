{
 "cells": [
  {
   "cell_type": "markdown",
   "id": "96565e36",
   "metadata": {},
   "source": [
    "# 0. Run fastdup and kmeans"
   ]
  },
  {
   "cell_type": "code",
   "execution_count": 10,
   "id": "b35921d9",
   "metadata": {},
   "outputs": [],
   "source": [
    "import fastdup"
   ]
  },
  {
   "cell_type": "code",
   "execution_count": 11,
   "id": "7ff8f4bd",
   "metadata": {},
   "outputs": [
    {
     "name": "stdout",
     "output_type": "stream",
     "text": [
      "FastDup Software, (C) copyright 2022 Dr. Amir Alush and Dr. Danny Bickson.\n",
      "Going to loop over dir Kartaview_Dataset\n",
      "Found total 11084 images to run on\n",
      "Found total 11084 images to run on■■■■■■■■■■■■■■■■■] 100% Estimated: 0 Minutes 0 Features\n",
      "3790) Finished write_index() NN model\n",
      "Stored nn model index file Karta_out/nnf.index\n",
      "Total time took 344213 ms\n",
      "Found a total of 165 fully identical images (d>0.990), which are 0.50 %\n",
      "Found a total of 490 nearly identical images(d>0.980), which are 1.47 %\n",
      "Found a total of 13327 above threshold images (d>0.900), which are 40.08 %\n",
      "Found a total of 1108 outlier images         (d<0.050), which are 3.33 %\n",
      "Min distance found 0.637 max distance 0.997\n",
      "\u001b[1;32m1675891110 : INFO:     (add_vertices:460): Num vertices for group 0: 11084\n",
      "\u001b[0m\u001b[1;32m1675891110 : INFO:     (commit_edge_buffer:609): In commit edge buffer (0,0)\n",
      "\u001b[0m\u001b[1;32m1675891110 : INFO:     (commit_edge_buffer:680): Shuffling edges ...\n",
      "\u001b[0m\u001b[1;32m1675891110 : INFO:     (commit_edge_buffer:688): Done shuffling edges in 0.017814 secs\n",
      "\u001b[0m\u001b[1;32m1675891110 : INFO:     (commit_edge_buffer:692): Aggregating unique vertices...\n",
      "\u001b[0m\u001b[1;32m1675891110 : INFO:     (commit_edge_buffer:705): Done aggregating unique vertex in 0.015165 secs\n",
      "\u001b[0m\u001b[1;32m1675891110 : INFO:     (commit_edge_buffer:713): Combine vertex data\n",
      "\u001b[0m\u001b[1;32m1675891110 : INFO:     (commit_edge_buffer:779): Done phase 2 in 0.056941 secs\n",
      "\u001b[0m\u001b[1;32m1675891110 : INFO:     (commit_edge_buffer:787): Rename id columns \n",
      "\u001b[0m\u001b[1;32m1675891110 : INFO:     (commit_edge_buffer:890): Done in 0.091878 secs\n",
      "\u001b[0m\u001b[1;32m1675891110 : INFO:     (commit_edge_buffer:892): Finish committing edge in 0.181896 secs\n",
      "\u001b[0m\u001b[1;32m1675891110 : INFO:     (add_edges:584): Num vertices for group 0: 11084\n",
      "\u001b[0m\u001b[1;32mNum vertices for group 0: 11084\n",
      "\u001b[0m\u001b[1;32mNum edges 0 -> 0: 655\n",
      "\u001b[0m1675891111 : PROGRESS: (_p:516): +-----------------------------+\n",
      "\u001b[0m1675891111 : PROGRESS: (_p:516): | Number of components merged |\n",
      "\u001b[0m1675891111 : PROGRESS: (_p:516): +-----------------------------+\n",
      "\u001b[0m1675891111 : PROGRESS: (_p:516): | 547                         |\n",
      "\u001b[0m1675891111 : PROGRESS: (_p:516): | 0                           |\n",
      "\u001b[0m1675891111 : PROGRESS: (_p:516): +-----------------------------+\n",
      "\u001b[0m1675891111 : PROGRESS: (triple_apply_pagerank:69): Counting out degree\n",
      "\u001b[0m1675891111 : PROGRESS: (triple_apply_pagerank:78): Done counting out degree\n",
      "\u001b[0m1675891111 : PROGRESS: (_p:516): +-----------+-----------------------+\n",
      "\u001b[0m1675891111 : PROGRESS: (_p:516): | Iteration | L1 change in pagerank |\n",
      "\u001b[0m1675891111 : PROGRESS: (_p:516): +-----------+-----------------------+\n",
      "\u001b[0m1675891111 : PROGRESS: (_p:516): | 1         | 9237.8                |\n",
      "\u001b[0m1675891111 : PROGRESS: (_p:516): | 2         | 78.03                 |\n",
      "\u001b[0m1675891111 : PROGRESS: (_p:516): | 3         | 46.2129               |\n",
      "\u001b[0m1675891111 : PROGRESS: (_p:516): | 4         | 31.3856               |\n",
      "\u001b[0m1675891111 : PROGRESS: (_p:516): | 5         | 22.8786               |\n",
      "\u001b[0m1675891111 : PROGRESS: (_p:516): | 6         | 17.2782               |\n",
      "\u001b[0m1675891111 : PROGRESS: (_p:516): | 7         | 13.314                |\n",
      "\u001b[0m1675891111 : PROGRESS: (_p:516): | 8         | 10.5058               |\n",
      "\u001b[0m1675891111 : PROGRESS: (_p:516): | 9         | 8.32193               |\n",
      "\u001b[0m1675891111 : PROGRESS: (_p:516): | 10        | 6.71988               |\n",
      "\u001b[0m1675891111 : PROGRESS: (_p:516): | 11        | 5.40597               |\n",
      "\u001b[0m1675891111 : PROGRESS: (_p:516): | 12        | 4.4363                |\n",
      "\u001b[0m1675891111 : PROGRESS: (_p:516): | 13        | 3.6132                |\n",
      "\u001b[0m1675891111 : PROGRESS: (_p:516): | 14        | 2.98926               |\n",
      "\u001b[0m1675891111 : PROGRESS: (_p:516): | 15        | 2.45646               |\n",
      "\u001b[0m1675891111 : PROGRESS: (_p:516): | 16        | 2.04403               |\n",
      "\u001b[0m1675891111 : PROGRESS: (_p:516): | 17        | 1.69183               |\n",
      "\u001b[0m1675891111 : PROGRESS: (_p:516): | 18        | 1.41404               |\n",
      "\u001b[0m1675891111 : PROGRESS: (_p:516): | 19        | 1.17709               |\n",
      "\u001b[0m1675891111 : PROGRESS: (_p:516): | 20        | 0.987229              |\n",
      "\u001b[0m1675891111 : PROGRESS: (_p:516): +-----------+-----------------------+\n",
      "\u001b[0mWrote total of 11084 components \n"
     ]
    },
    {
     "data": {
      "text/plain": [
       "0"
      ]
     },
     "execution_count": 11,
     "metadata": {},
     "output_type": "execute_result"
    }
   ],
   "source": [
    "# run fastdup\n",
    "fastdup.run(input_dir = \"./Kartaview_Dataset\", work_dir = 'Karta_out')"
   ]
  },
  {
   "cell_type": "code",
   "execution_count": 12,
   "id": "f6b003d9",
   "metadata": {},
   "outputs": [
    {
     "name": "stdout",
     "output_type": "stream",
     "text": [
      "FastDup Software, (C) copyright 2022 Dr. Amir Alush and Dr. Danny Bickson.\n",
      "Going to loop over dir Kartaview_Dataset\n",
      "Found total 11084 images to run on\n",
      "Found total 11084 images to run on■■■■■■■■■■■■■■■■■] 100% Estimated: 0 Minutes 0 Features\n",
      "Wrote total of 26 centroids \n",
      "Computed kmeans 26 cluster assignments for 11084 images\n",
      "Largest cluster has 713 data points, smallest cluster has 0 data points\n",
      "Average cluster size 426.307678\n",
      "Total time took 60205 ms\n",
      "Min distance found 1.000 max distance 278.868\n"
     ]
    },
    {
     "data": {
      "text/plain": [
       "0"
      ]
     },
     "execution_count": 12,
     "metadata": {},
     "output_type": "execute_result"
    }
   ],
   "source": [
    "# run kmeans by fastdup\n",
    "fastdup.run_kmeans(input_dir = \"./Kartaview_Dataset\", work_dir = 'Karta_out', \n",
    "                   num_clusters = 26, nearest_neighbors_k = 1)"
   ]
  },
  {
   "cell_type": "markdown",
   "id": "e206da05",
   "metadata": {},
   "source": [
    "# 1. Create clusters based on csv file"
   ]
  },
  {
   "cell_type": "markdown",
   "id": "d9197c3c",
   "metadata": {},
   "source": [
    "## 1.1 Read kmeans_assignments.csv file"
   ]
  },
  {
   "cell_type": "code",
   "execution_count": 1,
   "id": "b930069b",
   "metadata": {},
   "outputs": [],
   "source": [
    "import pandas as pd"
   ]
  },
  {
   "cell_type": "code",
   "execution_count": 2,
   "id": "a28943b1",
   "metadata": {},
   "outputs": [],
   "source": [
    "# read 'kmeans_assignments.csv' and save as 'df'\n",
    "df = pd.read_csv(\"~/Documents/New Fast Image Analysis/Karta_out/kmeans_assignments.csv\")"
   ]
  },
  {
   "cell_type": "code",
   "execution_count": 3,
   "id": "6c637baf",
   "metadata": {},
   "outputs": [
    {
     "name": "stdout",
     "output_type": "stream",
     "text": [
      "                                            filename  cluster    distance\n",
      "0  Kartaview_Dataset/Rest_set/2913090_8a751_5f36c...        3  278.868042\n",
      "1  Kartaview_Dataset/Rest_set/367210_9cb47_592842...        7  269.164673\n",
      "2  Kartaview_Dataset/Basic_set/3681045_34381a90ec...        6  266.153778\n",
      "3  Kartaview_Dataset/Rest_set/1372846_750a8_5cb0f...       18  257.131470\n",
      "4  Kartaview_Dataset/Rest_set/1372846_5ec89_5cb0f...       18  250.680054\n"
     ]
    }
   ],
   "source": [
    "print(df.head())"
   ]
  },
  {
   "cell_type": "code",
   "execution_count": 4,
   "id": "6b7b5239",
   "metadata": {},
   "outputs": [
    {
     "name": "stdout",
     "output_type": "stream",
     "text": [
      "11084\n"
     ]
    }
   ],
   "source": [
    "# count row\n",
    "count_row = len(df.index)\n",
    "print(count_row)"
   ]
  },
  {
   "cell_type": "markdown",
   "id": "f8605f7a",
   "metadata": {},
   "source": [
    "## 1.2 Rank based on cluster"
   ]
  },
  {
   "cell_type": "code",
   "execution_count": 6,
   "id": "a9bf4dee",
   "metadata": {},
   "outputs": [],
   "source": [
    "# creating a rank column and passing the returned rank series\n",
    "df[\"Rank\"] = df[\"cluster\"].rank()"
   ]
  },
  {
   "cell_type": "code",
   "execution_count": 7,
   "id": "45fef005",
   "metadata": {},
   "outputs": [
    {
     "name": "stdout",
     "output_type": "stream",
     "text": [
      "                                            filename  cluster    distance  \\\n",
      "0  Kartaview_Dataset/Rest_set/2913090_8a751_5f36c...        3  278.868042   \n",
      "1  Kartaview_Dataset/Rest_set/367210_9cb47_592842...        7  269.164673   \n",
      "2  Kartaview_Dataset/Basic_set/3681045_34381a90ec...        6  266.153778   \n",
      "3  Kartaview_Dataset/Rest_set/1372846_750a8_5cb0f...       18  257.131470   \n",
      "4  Kartaview_Dataset/Rest_set/1372846_5ec89_5cb0f...       18  250.680054   \n",
      "\n",
      "     Rank  \n",
      "0  1138.5  \n",
      "1  3096.0  \n",
      "2  2555.5  \n",
      "3  8244.5  \n",
      "4  8244.5  \n"
     ]
    }
   ],
   "source": [
    "print(df.head())"
   ]
  },
  {
   "cell_type": "code",
   "execution_count": 8,
   "id": "3157ddb5",
   "metadata": {},
   "outputs": [],
   "source": [
    "# sorting w.r.t Rank column\n",
    "df.sort_values(\"Rank\", inplace = True)"
   ]
  },
  {
   "cell_type": "code",
   "execution_count": 9,
   "id": "653e08ae",
   "metadata": {},
   "outputs": [
    {
     "name": "stdout",
     "output_type": "stream",
     "text": [
      "                                                filename  cluster    distance  \\\n",
      "1398   Kartaview_Dataset/Rest_set/3346325_38b21_5ff10...        0  112.855469   \n",
      "2074   Kartaview_Dataset/Rest_set/3346325_26fbe_5ff10...        0  103.636719   \n",
      "10230  Kartaview_Dataset/Rest_set/3640973_74d41_60bc3...        0   47.200378   \n",
      "10650  Kartaview_Dataset/Rest_set/3640973_4af06_60bc3...        0   40.126465   \n",
      "4436   Kartaview_Dataset/Rest_set/2918366_4d98b_5f383...        0   85.230164   \n",
      "\n",
      "       Rank  \n",
      "1398   73.5  \n",
      "2074   73.5  \n",
      "10230  73.5  \n",
      "10650  73.5  \n",
      "4436   73.5  \n"
     ]
    }
   ],
   "source": [
    "print(df.head())"
   ]
  },
  {
   "cell_type": "code",
   "execution_count": 21,
   "id": "7f695f24",
   "metadata": {},
   "outputs": [],
   "source": [
    "# export 'df' as 'kmeans_after_rank.csv'\n",
    "df.to_csv('~/Documents/New Fast Image Analysis/kmeans_after_rank.csv')"
   ]
  },
  {
   "cell_type": "markdown",
   "id": "82560d6c",
   "metadata": {},
   "source": [
    "## 1.3 Split df into multiple dataframes"
   ]
  },
  {
   "cell_type": "code",
   "execution_count": 10,
   "id": "c1c30ad6",
   "metadata": {},
   "outputs": [],
   "source": [
    "# Drop Columns 'distance' and 'Rank'\n",
    "df.drop(['distance', 'Rank'], axis=1, inplace = True)"
   ]
  },
  {
   "cell_type": "code",
   "execution_count": 11,
   "id": "cae66188",
   "metadata": {},
   "outputs": [],
   "source": [
    "# create unique list of clusters\n",
    "UniqueClusters = df.cluster.unique()"
   ]
  },
  {
   "cell_type": "code",
   "execution_count": 12,
   "id": "c59d8c95",
   "metadata": {},
   "outputs": [],
   "source": [
    "# create a data frame dictionary to store your data frames\n",
    "DataFrameDict = {elem : pd.DataFrame() for elem in UniqueClusters}\n",
    "\n",
    "for key in DataFrameDict.keys():\n",
    "    DataFrameDict[key] = df[:][df.cluster == key]"
   ]
  },
  {
   "cell_type": "code",
   "execution_count": 13,
   "id": "4d7c3478",
   "metadata": {},
   "outputs": [
    {
     "name": "stdout",
     "output_type": "stream",
     "text": [
      "['Kartaview_Dataset/Rest_set/3346325_38b21_5ff1052f75a8a.jpg' 0]\n",
      "Kartaview_Dataset/Rest_set/3346325_38b21_5ff1052f75a8a.jpg\n",
      "Kartaview_Dataset/Rest_set/3346325_26fbe_5ff10539426fc.jpg\n",
      "146\n",
      "<class 'numpy.ndarray'>\n"
     ]
    }
   ],
   "source": [
    "print(DataFrameDict[0].values[0])\n",
    "print(DataFrameDict[0].values[0][0])\n",
    "print(DataFrameDict[0].values[1][0])\n",
    "print(len(DataFrameDict[0]))\n",
    "print(type(DataFrameDict[0].values))"
   ]
  },
  {
   "cell_type": "markdown",
   "id": "d844755e",
   "metadata": {},
   "source": [
    "## 1.4 Delete cluster id and fulfill image address"
   ]
  },
  {
   "cell_type": "code",
   "execution_count": 14,
   "id": "4253ce69",
   "metadata": {},
   "outputs": [],
   "source": [
    "import numpy as np"
   ]
  },
  {
   "cell_type": "code",
   "execution_count": 15,
   "id": "e6e03174",
   "metadata": {},
   "outputs": [],
   "source": [
    "# create a new data frame dictionary\n",
    "DataFrameDictNew = {elem : pd.DataFrame() for elem in UniqueClusters}"
   ]
  },
  {
   "cell_type": "code",
   "execution_count": 16,
   "id": "e8a7a9fb",
   "metadata": {},
   "outputs": [],
   "source": [
    "for key in DataFrameDict.keys():\n",
    "    # delete 1st column(cluster id)\n",
    "    DataFrameDictNew[key] = np.delete(DataFrameDict[key].values, 1, 1)\n",
    "    # fulfill image address\n",
    "    for i in range(len(DataFrameDictNew[key])):\n",
    "        DataFrameDictNew[key][i] = '~/Documents/New Fast Image Analysis/' + DataFrameDictNew[key][i]"
   ]
  },
  {
   "cell_type": "code",
   "execution_count": 24,
   "id": "dde14c8a",
   "metadata": {},
   "outputs": [
    {
     "name": "stdout",
     "output_type": "stream",
     "text": [
      "<class 'dict'>\n"
     ]
    }
   ],
   "source": [
    "print(type(DataFrameDictNew))"
   ]
  },
  {
   "cell_type": "code",
   "execution_count": 17,
   "id": "21a05830",
   "metadata": {},
   "outputs": [
    {
     "name": "stdout",
     "output_type": "stream",
     "text": [
      "<class 'numpy.ndarray'>\n"
     ]
    }
   ],
   "source": [
    "print(type(DataFrameDictNew[0]))"
   ]
  },
  {
   "cell_type": "code",
   "execution_count": 19,
   "id": "a27b5b37",
   "metadata": {},
   "outputs": [
    {
     "name": "stdout",
     "output_type": "stream",
     "text": [
      "[['~/Documents/New Fast Image Analysis/Kartaview_Dataset/Rest_set/3346325_38b21_5ff1052f75a8a.jpg']\n",
      " ['~/Documents/New Fast Image Analysis/Kartaview_Dataset/Rest_set/3346325_26fbe_5ff10539426fc.jpg']\n",
      " ['~/Documents/New Fast Image Analysis/Kartaview_Dataset/Rest_set/3640973_74d41_60bc39a527e14.jpg']\n",
      " ['~/Documents/New Fast Image Analysis/Kartaview_Dataset/Rest_set/3640973_4af06_60bc39b89a7c8.jpg']\n",
      " ['~/Documents/New Fast Image Analysis/Kartaview_Dataset/Rest_set/2918366_4d98b_5f38359d8f113.jpg']\n",
      " ['~/Documents/New Fast Image Analysis/Kartaview_Dataset/Rest_set/2913090_8d951_5f36c96d04621.jpg']\n",
      " ['~/Documents/New Fast Image Analysis/Kartaview_Dataset/Rest_set/3640973_a1267_60bc39c64609c.jpg']\n",
      " ['~/Documents/New Fast Image Analysis/Kartaview_Dataset/Rest_set/2819646_36125_5f1dc15b17173.jpg']\n",
      " ['~/Documents/New Fast Image Analysis/Kartaview_Dataset/Rest_set/3493677_fad83_607162f5c20c6.jpg']\n",
      " ['~/Documents/New Fast Image Analysis/Kartaview_Dataset/Rest_set/3235117_60842_5fabf55a70773.jpg']\n",
      " ['~/Documents/New Fast Image Analysis/Kartaview_Dataset/Rest_set/3640973_f0d9a_60bc3a13c39ca.jpg']\n",
      " ['~/Documents/New Fast Image Analysis/Kartaview_Dataset/Rest_set/3640973_10653_60bc39ba9f46d.jpg']\n",
      " ['~/Documents/New Fast Image Analysis/Kartaview_Dataset/Rest_set/3235117_f68c1_5fabf560bfe63.jpg']\n",
      " ['~/Documents/New Fast Image Analysis/Kartaview_Dataset/Rest_set/3235117_fad79_5fabf60ddc1d1.jpg']\n",
      " ['~/Documents/New Fast Image Analysis/Kartaview_Dataset/Rest_set/3640973_21436_60bc3a11c4308.jpg']\n",
      " ['~/Documents/New Fast Image Analysis/Kartaview_Dataset/Rest_set/3640973_e6c56_60bc39a990e10.jpg']\n",
      " ['~/Documents/New Fast Image Analysis/Kartaview_Dataset/Rest_set/3640973_6a7d8_60bc39e15a97f.jpg']\n",
      " ['~/Documents/New Fast Image Analysis/Kartaview_Dataset/Rest_set/3640973_d28af_60bc39c880bc4.jpg']\n",
      " ['~/Documents/New Fast Image Analysis/Kartaview_Dataset/Rest_set/3235117_595a0_5fabf5763882a.jpg']\n",
      " ['~/Documents/New Fast Image Analysis/Kartaview_Dataset/Rest_set/3640973_a3f8c_60bc39d18cd86.jpg']\n",
      " ['~/Documents/New Fast Image Analysis/Kartaview_Dataset/Rest_set/3640973_2566a_60bc39a2d3617.jpg']\n",
      " ['~/Documents/New Fast Image Analysis/Kartaview_Dataset/Rest_set/3640973_45a1f_60bc398e0bb35.jpg']\n",
      " ['~/Documents/New Fast Image Analysis/Kartaview_Dataset/Rest_set/2937366_3ddc0_5f3f2037a9fcc.jpg']\n",
      " ['~/Documents/New Fast Image Analysis/Kartaview_Dataset/Rest_set/3235117_e125a_5fabf56f9ce5e.jpg']\n",
      " ['~/Documents/New Fast Image Analysis/Kartaview_Dataset/Rest_set/3640973_a8861_60bc39cf685cc.jpg']\n",
      " ['~/Documents/New Fast Image Analysis/Kartaview_Dataset/Rest_set/3493677_63f7c_607162f7415e8.jpg']\n",
      " ['~/Documents/New Fast Image Analysis/Kartaview_Dataset/Rest_set/3640973_b2317_60bc39f491934.jpg']\n",
      " ['~/Documents/New Fast Image Analysis/Kartaview_Dataset/Rest_set/2819646_23e35_5f1dc159ea3b3.jpg']\n",
      " ['~/Documents/New Fast Image Analysis/Kartaview_Dataset/Rest_set/2913090_a6389_5f36c97a97476.jpg']\n",
      " ['~/Documents/New Fast Image Analysis/Kartaview_Dataset/Rest_set/3459853_f1b7d_604c9d39b289f.jpg']\n",
      " ['~/Documents/New Fast Image Analysis/Kartaview_Dataset/Rest_set/3235117_addc5_5fabf574a73f1.jpg']\n",
      " ['~/Documents/New Fast Image Analysis/Kartaview_Dataset/Rest_set/3640973_be689_60bc39d60d719.jpg']\n",
      " ['~/Documents/New Fast Image Analysis/Kartaview_Dataset/Rest_set/3640973_4f1dd_60bc39953bfe1.jpg']\n",
      " ['~/Documents/New Fast Image Analysis/Kartaview_Dataset/Rest_set/3458109_c8b6e_604c1f919d282.jpg']\n",
      " ['~/Documents/New Fast Image Analysis/Kartaview_Dataset/Rest_set/3235117_8db03_5fabf56a7d29b.jpg']\n",
      " ['~/Documents/New Fast Image Analysis/Kartaview_Dataset/Rest_set/2913090_9295e_5f36c9758c0b7.jpg']\n",
      " ['~/Documents/New Fast Image Analysis/Kartaview_Dataset/Rest_set/3235117_845cd_5fabf56257d4a.jpg']\n",
      " ['~/Documents/New Fast Image Analysis/Kartaview_Dataset/Rest_set/2912526_1ed11_5f36a414d50af.jpg']\n",
      " ['~/Documents/New Fast Image Analysis/Kartaview_Dataset/Rest_set/3640973_55534_60bc39abd3f9c.jpg']\n",
      " ['~/Documents/New Fast Image Analysis/Kartaview_Dataset/Rest_set/3455945_f8c1d_604a9fe1617e0.jpg']\n",
      " ['~/Documents/New Fast Image Analysis/Kartaview_Dataset/Rest_set/3235117_8e2b8_5fabf61776fa2.jpg']\n",
      " ['~/Documents/New Fast Image Analysis/Kartaview_Dataset/Rest_set/3235117_4e750_5fabf55c0b26a.jpg']\n",
      " ['~/Documents/New Fast Image Analysis/Kartaview_Dataset/Rest_set/3235117_f5e49_5fabf57963bd6.jpg']\n",
      " ['~/Documents/New Fast Image Analysis/Kartaview_Dataset/Rest_set/3640973_b88be_60bc39a0969e7.jpg']\n",
      " ['~/Documents/New Fast Image Analysis/Kartaview_Dataset/Rest_set/3640973_709d0_60bc39e9c4dd7.jpg']\n",
      " ['~/Documents/New Fast Image Analysis/Kartaview_Dataset/Rest_set/3640973_0fbd5_60bc39d3b4c68.jpg']\n",
      " ['~/Documents/New Fast Image Analysis/Kartaview_Dataset/Rest_set/3640973_5dce3_60bc39dabc0b3.jpg']\n",
      " ['~/Documents/New Fast Image Analysis/Kartaview_Dataset/Rest_set/2912526_a34ab_5f36a1cd44304.jpg']\n",
      " ['~/Documents/New Fast Image Analysis/Kartaview_Dataset/Rest_set/3235117_ae0fa_5fabf55f27902.jpg']\n",
      " ['~/Documents/New Fast Image Analysis/Kartaview_Dataset/Rest_set/3402213_cd7c0_6016ca9b81794.jpg']\n",
      " ['~/Documents/New Fast Image Analysis/Kartaview_Dataset/Rest_set/3640973_82137_60bc39f288b60.jpg']\n",
      " ['~/Documents/New Fast Image Analysis/Kartaview_Dataset/Rest_set/3640973_259fd_60bc39ebf197d.jpg']\n",
      " ['~/Documents/New Fast Image Analysis/Kartaview_Dataset/Rest_set/3235117_93cad_5fabf60a9e9b0.jpg']\n",
      " ['~/Documents/New Fast Image Analysis/Kartaview_Dataset/Rest_set/3640973_e71e0_60bc3a0c10f18.jpg']\n",
      " ['~/Documents/New Fast Image Analysis/Kartaview_Dataset/Rest_set/3402213_c2885_6016ca9ac8f0e.jpg']\n",
      " ['~/Documents/New Fast Image Analysis/Kartaview_Dataset/Rest_set/2913090_a6f4b_5f36c995bfd57.jpg']\n",
      " ['~/Documents/New Fast Image Analysis/Kartaview_Dataset/Rest_set/3640973_12846_60bc3992e56f5.jpg']\n",
      " ['~/Documents/New Fast Image Analysis/Kartaview_Dataset/Rest_set/3640973_a1729_60bc398b7f5f5.jpg']\n",
      " ['~/Documents/New Fast Image Analysis/Kartaview_Dataset/Rest_set/3235117_a7b22_5fabf568cc155.jpg']\n",
      " ['~/Documents/New Fast Image Analysis/Kartaview_Dataset/Rest_set/2907442_4a23e_5f34c45b37f7a.jpg']\n",
      " ['~/Documents/New Fast Image Analysis/Kartaview_Dataset/Rest_set/3640973_55283_60bc39f69b36e.jpg']\n",
      " ['~/Documents/New Fast Image Analysis/Kartaview_Dataset/Rest_set/3317161_bdd2b_5fce42a10aba6.jpg']\n",
      " ['~/Documents/New Fast Image Analysis/Kartaview_Dataset/Rest_set/2913090_086b4_5f36c9653497f.jpg']\n",
      " ['~/Documents/New Fast Image Analysis/Kartaview_Dataset/Rest_set/2913090_0dfe8_5f36c96879f4f.jpg']\n",
      " ['~/Documents/New Fast Image Analysis/Kartaview_Dataset/Rest_set/3640973_ab775_60bc39c19f832.jpg']\n",
      " ['~/Documents/New Fast Image Analysis/Kartaview_Dataset/Rest_set/3640973_d660c_60bc3a0282844.jpg']\n",
      " ['~/Documents/New Fast Image Analysis/Kartaview_Dataset/Rest_set/3640973_80156_60bc39e36cf36.jpg']\n",
      " ['~/Documents/New Fast Image Analysis/Kartaview_Dataset/Rest_set/3640973_6c10c_60bc39cad1442.jpg']\n",
      " ['~/Documents/New Fast Image Analysis/Kartaview_Dataset/Rest_set/3235117_caa06_5fabf5659d1c6.jpg']\n",
      " ['~/Documents/New Fast Image Analysis/Kartaview_Dataset/Rest_set/3640973_9fd84_60bc3a0a2e756.jpg']\n",
      " ['~/Documents/New Fast Image Analysis/Kartaview_Dataset/Rest_set/3640973_577b0_60bc39b2653f8.jpg']\n",
      " ['~/Documents/New Fast Image Analysis/Kartaview_Dataset/Rest_set/3640973_8d392_60bc39c3eb232.jpg']\n",
      " ['~/Documents/New Fast Image Analysis/Kartaview_Dataset/Rest_set/3640973_08f97_60bc39e7ac0fa.jpg']\n",
      " ['~/Documents/New Fast Image Analysis/Kartaview_Dataset/Rest_set/2912526_63857_5f36a1c14cb74.jpg']\n",
      " ['~/Documents/New Fast Image Analysis/Kartaview_Dataset/Rest_set/3235117_c4a34_5fabf5714fc6f.jpg']\n",
      " ['~/Documents/New Fast Image Analysis/Kartaview_Dataset/Rest_set/3640973_c14e9_60bc3a083b093.jpg']\n",
      " ['~/Documents/New Fast Image Analysis/Kartaview_Dataset/Rest_set/2912526_84a31_5f36a40f806ea.jpg']\n",
      " ['~/Documents/New Fast Image Analysis/Kartaview_Dataset/Rest_set/3235117_a8d1e_5fabf600ede14.jpg']\n",
      " ['~/Documents/New Fast Image Analysis/Kartaview_Dataset/Rest_set/3235117_8ae01_5fabf577d52a4.jpg']\n",
      " ['~/Documents/New Fast Image Analysis/Kartaview_Dataset/Rest_set/3235117_b11e4_5fabf60785df4.jpg']\n",
      " ['~/Documents/New Fast Image Analysis/Kartaview_Dataset/Rest_set/3640973_131ef_60bc39d848d7a.jpg']\n",
      " ['~/Documents/New Fast Image Analysis/Kartaview_Dataset/Rest_set/3317197_80609_5fce477f857a4.jpg']\n",
      " ['~/Documents/New Fast Image Analysis/Kartaview_Dataset/Rest_set/3640973_70894_60bc39fa9406d.jpg']\n",
      " ['~/Documents/New Fast Image Analysis/Kartaview_Dataset/Rest_set/3640973_28e7b_60bc39ae11d77.jpg']\n",
      " ['~/Documents/New Fast Image Analysis/Kartaview_Dataset/Rest_set/3317197_148f5_5fce477e1e8aa.jpg']\n",
      " ['~/Documents/New Fast Image Analysis/Kartaview_Dataset/Rest_set/3640973_dad54_60bc39e59d100.jpg']\n",
      " ['~/Documents/New Fast Image Analysis/Kartaview_Dataset/Rest_set/3235117_f5e4c_5fabf60f775e5.jpg']\n",
      " ['~/Documents/New Fast Image Analysis/Kartaview_Dataset/Rest_set/3235117_2935f_5fabf56400879.jpg']\n",
      " ['~/Documents/New Fast Image Analysis/Kartaview_Dataset/Rest_set/3235117_c234e_5fabf5ff666f3.jpg']\n",
      " ['~/Documents/New Fast Image Analysis/Kartaview_Dataset/Rest_set/3640973_ceaa3_60bc39df37395.jpg']\n",
      " ['~/Documents/New Fast Image Analysis/Kartaview_Dataset/Rest_set/3640973_8a721_60bc39b02fb5d.jpg']\n",
      " ['~/Documents/New Fast Image Analysis/Kartaview_Dataset/Rest_set/3235117_1db20_5fabf56de931e.jpg']\n",
      " ['~/Documents/New Fast Image Analysis/Kartaview_Dataset/Rest_set/3640973_27d07_60bc39907cc02.jpg']\n",
      " ['~/Documents/New Fast Image Analysis/Kartaview_Dataset/Rest_set/2912526_58265_5f36a4236f2da.jpg']\n",
      " ['~/Documents/New Fast Image Analysis/Kartaview_Dataset/Rest_set/3235117_855f1_5fabf614450ef.jpg']\n",
      " ['~/Documents/New Fast Image Analysis/Kartaview_Dataset/Rest_set/2912526_5836a_5f36a413101bc.jpg']\n",
      " ['~/Documents/New Fast Image Analysis/Kartaview_Dataset/Rest_set/3235117_8d391_5fabf605d3b5d.jpg']\n",
      " ['~/Documents/New Fast Image Analysis/Kartaview_Dataset/Rest_set/3640973_b0d57_60bc3a0644882.jpg']\n",
      " ['~/Documents/New Fast Image Analysis/Kartaview_Dataset/Rest_set/3235117_4568a_5fabf61e0806f.jpg']\n",
      " ['~/Documents/New Fast Image Analysis/Kartaview_Dataset/Rest_set/3346325_0d4b7_5ff1051fba58a.jpg']\n",
      " ['~/Documents/New Fast Image Analysis/Kartaview_Dataset/Rest_set/3640973_dbdc3_60bc39fc83b2f.jpg']\n",
      " ['~/Documents/New Fast Image Analysis/Kartaview_Dataset/Rest_set/3640973_12d43_60bc3a007e89c.jpg']\n",
      " ['~/Documents/New Fast Image Analysis/Kartaview_Dataset/Rest_set/3235117_8d575_5fabf60c48f7b.jpg']\n",
      " ['~/Documents/New Fast Image Analysis/Kartaview_Dataset/Rest_set/3235117_fa8fe_5fabf60429d26.jpg']\n",
      " ['~/Documents/New Fast Image Analysis/Kartaview_Dataset/Rest_set/3235117_98ca8_5fabf612b48cb.jpg']\n",
      " ['~/Documents/New Fast Image Analysis/Kartaview_Dataset/Rest_set/3640973_31c51_60bc39ee23acb.jpg']\n",
      " ['~/Documents/New Fast Image Analysis/Kartaview_Dataset/Rest_set/3640973_5c8bf_60bc39bca30fa.jpg']\n",
      " ['~/Documents/New Fast Image Analysis/Kartaview_Dataset/Rest_set/3640973_605c2_60bc3a0463f1b.jpg']\n",
      " ['~/Documents/New Fast Image Analysis/Kartaview_Dataset/Rest_set/2913090_72aed_5f36c98437365.jpg']\n",
      " ['~/Documents/New Fast Image Analysis/Kartaview_Dataset/Rest_set/3235117_76758_5fabf55d91b77.jpg']\n",
      " ['~/Documents/New Fast Image Analysis/Kartaview_Dataset/Rest_set/3235117_4a965_5fabf56c3d585.jpg']\n",
      " ['~/Documents/New Fast Image Analysis/Kartaview_Dataset/Rest_set/3640973_c5b15_60bc399786be9.jpg']\n",
      " ['~/Documents/New Fast Image Analysis/Kartaview_Dataset/Rest_set/2819646_ea3be_5f1dc122d2c98.jpg']\n",
      " ['~/Documents/New Fast Image Analysis/Kartaview_Dataset/Rest_set/3346325_a15ba_5ff1053477af4.jpg']\n",
      " ['~/Documents/New Fast Image Analysis/Kartaview_Dataset/Rest_set/2913090_dfc41_5f36c971a9792.jpg']\n",
      " ['~/Documents/New Fast Image Analysis/Kartaview_Dataset/Rest_set/3640973_87783_60bc39a75f798.jpg']\n",
      " ['~/Documents/New Fast Image Analysis/Kartaview_Dataset/Rest_set/3640973_ae3a9_60bc39b69a881.jpg']\n",
      " ['~/Documents/New Fast Image Analysis/Kartaview_Dataset/Rest_set/3640973_7dec0_60bc3a0dd45a6.jpg']\n",
      " ['~/Documents/New Fast Image Analysis/Kartaview_Dataset/Rest_set/3640973_d7ce6_60bc39f05dcc8.jpg']\n",
      " ['~/Documents/New Fast Image Analysis/Kartaview_Dataset/Rest_set/2913090_4e319_5f36c9613d045.jpg']\n",
      " ['~/Documents/New Fast Image Analysis/Kartaview_Dataset/Rest_set/3235117_072ee_5fabf61aad203.jpg']\n",
      " ['~/Documents/New Fast Image Analysis/Kartaview_Dataset/Rest_set/3431821_52aff_6032b4d04ed1f.jpg']\n",
      " ['~/Documents/New Fast Image Analysis/Kartaview_Dataset/Rest_set/3317197_b4ae2_5fce4778288ce.jpg']\n",
      " ['~/Documents/New Fast Image Analysis/Kartaview_Dataset/Rest_set/2913090_6423f_5f36c98930e17.jpg']\n",
      " ['~/Documents/New Fast Image Analysis/Kartaview_Dataset/Rest_set/3235117_af188_5fabf60286057.jpg']\n",
      " ['~/Documents/New Fast Image Analysis/Kartaview_Dataset/Rest_set/3640973_7b291_60bc399e52187.jpg']\n",
      " ['~/Documents/New Fast Image Analysis/Kartaview_Dataset/Rest_set/2913090_ad544_5f36cdde14854.jpg']\n",
      " ['~/Documents/New Fast Image Analysis/Kartaview_Dataset/Rest_set/2913090_2fc51_5f36c97fb7d13.jpg']\n",
      " ['~/Documents/New Fast Image Analysis/Kartaview_Dataset/Rest_set/3640973_7bfd2_60bc39f88bd2f.jpg']\n",
      " ['~/Documents/New Fast Image Analysis/Kartaview_Dataset/Rest_set/3235117_18618_5fabf6091adbe.jpg']\n",
      " ['~/Documents/New Fast Image Analysis/Kartaview_Dataset/Rest_set/3640973_da3b4_60bc3999d8dad.jpg']\n",
      " ['~/Documents/New Fast Image Analysis/Kartaview_Dataset/Rest_set/3346325_3b81e_5ff10531d0dd8.jpg']\n",
      " ['~/Documents/New Fast Image Analysis/Kartaview_Dataset/Rest_set/3640973_81c77_60bc39b477b67.jpg']\n",
      " ['~/Documents/New Fast Image Analysis/Kartaview_Dataset/Rest_set/3235117_047f8_5fabf56737089.jpg']\n",
      " ['~/Documents/New Fast Image Analysis/Kartaview_Dataset/Rest_set/3640973_9d2cf_60bc39fe7f7b8.jpg']\n",
      " ['~/Documents/New Fast Image Analysis/Kartaview_Dataset/Rest_set/2937366_06fea_5f3f1ff71bd35.jpg']\n",
      " ['~/Documents/New Fast Image Analysis/Kartaview_Dataset/Rest_set/3317197_bc262_5fce477cb6f42.jpg']\n",
      " ['~/Documents/New Fast Image Analysis/Kartaview_Dataset/Rest_set/2913090_dfbd0_5f36cdda57195.jpg']\n",
      " ['~/Documents/New Fast Image Analysis/Kartaview_Dataset/Rest_set/3640973_8c515_60bc399c0f9e5.jpg']\n",
      " ['~/Documents/New Fast Image Analysis/Kartaview_Dataset/Rest_set/3640973_0ee5b_60bc39bf2da36.jpg']\n",
      " ['~/Documents/New Fast Image Analysis/Kartaview_Dataset/Rest_set/3235117_55cbc_5fabf572f0a32.jpg']\n",
      " ['~/Documents/New Fast Image Analysis/Kartaview_Dataset/Rest_set/3235117_36861_5fabf61924c92.jpg']\n",
      " ['~/Documents/New Fast Image Analysis/Kartaview_Dataset/Rest_set/2937366_0e723_5f3f1ff0084cc.jpg']\n",
      " ['~/Documents/New Fast Image Analysis/Kartaview_Dataset/Rest_set/3640973_d89ae_60bc39cd1bad7.jpg']\n",
      " ['~/Documents/New Fast Image Analysis/Kartaview_Dataset/Rest_set/3640973_8da94_60bc39dd10eb2.jpg']\n",
      " ['~/Documents/New Fast Image Analysis/Kartaview_Dataset/Rest_set/3235117_f7576_5fabf6111b074.jpg']]\n"
     ]
    }
   ],
   "source": [
    "print(DataFrameDictNew[0])"
   ]
  },
  {
   "cell_type": "markdown",
   "id": "25835dad",
   "metadata": {},
   "source": [
    "## 1.5 Convert Array to list and flatten it"
   ]
  },
  {
   "cell_type": "code",
   "execution_count": 21,
   "id": "5c10df8d",
   "metadata": {},
   "outputs": [],
   "source": [
    "# flatten function\n",
    "def flatten(l):\n",
    "    return [item for sublist in l for item in sublist]"
   ]
  },
  {
   "cell_type": "code",
   "execution_count": 25,
   "id": "52e6e052",
   "metadata": {},
   "outputs": [],
   "source": [
    "# convert Array to list and flatten\n",
    "for key in DataFrameDictNew.keys():\n",
    "    DataFrameDictNew[key] = flatten(DataFrameDictNew[key].tolist())"
   ]
  },
  {
   "cell_type": "code",
   "execution_count": 26,
   "id": "210523d7",
   "metadata": {},
   "outputs": [
    {
     "name": "stdout",
     "output_type": "stream",
     "text": [
      "['~/Documents/New Fast Image Analysis/Kartaview_Dataset/Rest_set/3346325_38b21_5ff1052f75a8a.jpg', '~/Documents/New Fast Image Analysis/Kartaview_Dataset/Rest_set/3346325_26fbe_5ff10539426fc.jpg', '~/Documents/New Fast Image Analysis/Kartaview_Dataset/Rest_set/3640973_74d41_60bc39a527e14.jpg', '~/Documents/New Fast Image Analysis/Kartaview_Dataset/Rest_set/3640973_4af06_60bc39b89a7c8.jpg', '~/Documents/New Fast Image Analysis/Kartaview_Dataset/Rest_set/2918366_4d98b_5f38359d8f113.jpg', '~/Documents/New Fast Image Analysis/Kartaview_Dataset/Rest_set/2913090_8d951_5f36c96d04621.jpg', '~/Documents/New Fast Image Analysis/Kartaview_Dataset/Rest_set/3640973_a1267_60bc39c64609c.jpg', '~/Documents/New Fast Image Analysis/Kartaview_Dataset/Rest_set/2819646_36125_5f1dc15b17173.jpg', '~/Documents/New Fast Image Analysis/Kartaview_Dataset/Rest_set/3493677_fad83_607162f5c20c6.jpg', '~/Documents/New Fast Image Analysis/Kartaview_Dataset/Rest_set/3235117_60842_5fabf55a70773.jpg', '~/Documents/New Fast Image Analysis/Kartaview_Dataset/Rest_set/3640973_f0d9a_60bc3a13c39ca.jpg', '~/Documents/New Fast Image Analysis/Kartaview_Dataset/Rest_set/3640973_10653_60bc39ba9f46d.jpg', '~/Documents/New Fast Image Analysis/Kartaview_Dataset/Rest_set/3235117_f68c1_5fabf560bfe63.jpg', '~/Documents/New Fast Image Analysis/Kartaview_Dataset/Rest_set/3235117_fad79_5fabf60ddc1d1.jpg', '~/Documents/New Fast Image Analysis/Kartaview_Dataset/Rest_set/3640973_21436_60bc3a11c4308.jpg', '~/Documents/New Fast Image Analysis/Kartaview_Dataset/Rest_set/3640973_e6c56_60bc39a990e10.jpg', '~/Documents/New Fast Image Analysis/Kartaview_Dataset/Rest_set/3640973_6a7d8_60bc39e15a97f.jpg', '~/Documents/New Fast Image Analysis/Kartaview_Dataset/Rest_set/3640973_d28af_60bc39c880bc4.jpg', '~/Documents/New Fast Image Analysis/Kartaview_Dataset/Rest_set/3235117_595a0_5fabf5763882a.jpg', '~/Documents/New Fast Image Analysis/Kartaview_Dataset/Rest_set/3640973_a3f8c_60bc39d18cd86.jpg', '~/Documents/New Fast Image Analysis/Kartaview_Dataset/Rest_set/3640973_2566a_60bc39a2d3617.jpg', '~/Documents/New Fast Image Analysis/Kartaview_Dataset/Rest_set/3640973_45a1f_60bc398e0bb35.jpg', '~/Documents/New Fast Image Analysis/Kartaview_Dataset/Rest_set/2937366_3ddc0_5f3f2037a9fcc.jpg', '~/Documents/New Fast Image Analysis/Kartaview_Dataset/Rest_set/3235117_e125a_5fabf56f9ce5e.jpg', '~/Documents/New Fast Image Analysis/Kartaview_Dataset/Rest_set/3640973_a8861_60bc39cf685cc.jpg', '~/Documents/New Fast Image Analysis/Kartaview_Dataset/Rest_set/3493677_63f7c_607162f7415e8.jpg', '~/Documents/New Fast Image Analysis/Kartaview_Dataset/Rest_set/3640973_b2317_60bc39f491934.jpg', '~/Documents/New Fast Image Analysis/Kartaview_Dataset/Rest_set/2819646_23e35_5f1dc159ea3b3.jpg', '~/Documents/New Fast Image Analysis/Kartaview_Dataset/Rest_set/2913090_a6389_5f36c97a97476.jpg', '~/Documents/New Fast Image Analysis/Kartaview_Dataset/Rest_set/3459853_f1b7d_604c9d39b289f.jpg', '~/Documents/New Fast Image Analysis/Kartaview_Dataset/Rest_set/3235117_addc5_5fabf574a73f1.jpg', '~/Documents/New Fast Image Analysis/Kartaview_Dataset/Rest_set/3640973_be689_60bc39d60d719.jpg', '~/Documents/New Fast Image Analysis/Kartaview_Dataset/Rest_set/3640973_4f1dd_60bc39953bfe1.jpg', '~/Documents/New Fast Image Analysis/Kartaview_Dataset/Rest_set/3458109_c8b6e_604c1f919d282.jpg', '~/Documents/New Fast Image Analysis/Kartaview_Dataset/Rest_set/3235117_8db03_5fabf56a7d29b.jpg', '~/Documents/New Fast Image Analysis/Kartaview_Dataset/Rest_set/2913090_9295e_5f36c9758c0b7.jpg', '~/Documents/New Fast Image Analysis/Kartaview_Dataset/Rest_set/3235117_845cd_5fabf56257d4a.jpg', '~/Documents/New Fast Image Analysis/Kartaview_Dataset/Rest_set/2912526_1ed11_5f36a414d50af.jpg', '~/Documents/New Fast Image Analysis/Kartaview_Dataset/Rest_set/3640973_55534_60bc39abd3f9c.jpg', '~/Documents/New Fast Image Analysis/Kartaview_Dataset/Rest_set/3455945_f8c1d_604a9fe1617e0.jpg', '~/Documents/New Fast Image Analysis/Kartaview_Dataset/Rest_set/3235117_8e2b8_5fabf61776fa2.jpg', '~/Documents/New Fast Image Analysis/Kartaview_Dataset/Rest_set/3235117_4e750_5fabf55c0b26a.jpg', '~/Documents/New Fast Image Analysis/Kartaview_Dataset/Rest_set/3235117_f5e49_5fabf57963bd6.jpg', '~/Documents/New Fast Image Analysis/Kartaview_Dataset/Rest_set/3640973_b88be_60bc39a0969e7.jpg', '~/Documents/New Fast Image Analysis/Kartaview_Dataset/Rest_set/3640973_709d0_60bc39e9c4dd7.jpg', '~/Documents/New Fast Image Analysis/Kartaview_Dataset/Rest_set/3640973_0fbd5_60bc39d3b4c68.jpg', '~/Documents/New Fast Image Analysis/Kartaview_Dataset/Rest_set/3640973_5dce3_60bc39dabc0b3.jpg', '~/Documents/New Fast Image Analysis/Kartaview_Dataset/Rest_set/2912526_a34ab_5f36a1cd44304.jpg', '~/Documents/New Fast Image Analysis/Kartaview_Dataset/Rest_set/3235117_ae0fa_5fabf55f27902.jpg', '~/Documents/New Fast Image Analysis/Kartaview_Dataset/Rest_set/3402213_cd7c0_6016ca9b81794.jpg', '~/Documents/New Fast Image Analysis/Kartaview_Dataset/Rest_set/3640973_82137_60bc39f288b60.jpg', '~/Documents/New Fast Image Analysis/Kartaview_Dataset/Rest_set/3640973_259fd_60bc39ebf197d.jpg', '~/Documents/New Fast Image Analysis/Kartaview_Dataset/Rest_set/3235117_93cad_5fabf60a9e9b0.jpg', '~/Documents/New Fast Image Analysis/Kartaview_Dataset/Rest_set/3640973_e71e0_60bc3a0c10f18.jpg', '~/Documents/New Fast Image Analysis/Kartaview_Dataset/Rest_set/3402213_c2885_6016ca9ac8f0e.jpg', '~/Documents/New Fast Image Analysis/Kartaview_Dataset/Rest_set/2913090_a6f4b_5f36c995bfd57.jpg', '~/Documents/New Fast Image Analysis/Kartaview_Dataset/Rest_set/3640973_12846_60bc3992e56f5.jpg', '~/Documents/New Fast Image Analysis/Kartaview_Dataset/Rest_set/3640973_a1729_60bc398b7f5f5.jpg', '~/Documents/New Fast Image Analysis/Kartaview_Dataset/Rest_set/3235117_a7b22_5fabf568cc155.jpg', '~/Documents/New Fast Image Analysis/Kartaview_Dataset/Rest_set/2907442_4a23e_5f34c45b37f7a.jpg', '~/Documents/New Fast Image Analysis/Kartaview_Dataset/Rest_set/3640973_55283_60bc39f69b36e.jpg', '~/Documents/New Fast Image Analysis/Kartaview_Dataset/Rest_set/3317161_bdd2b_5fce42a10aba6.jpg', '~/Documents/New Fast Image Analysis/Kartaview_Dataset/Rest_set/2913090_086b4_5f36c9653497f.jpg', '~/Documents/New Fast Image Analysis/Kartaview_Dataset/Rest_set/2913090_0dfe8_5f36c96879f4f.jpg', '~/Documents/New Fast Image Analysis/Kartaview_Dataset/Rest_set/3640973_ab775_60bc39c19f832.jpg', '~/Documents/New Fast Image Analysis/Kartaview_Dataset/Rest_set/3640973_d660c_60bc3a0282844.jpg', '~/Documents/New Fast Image Analysis/Kartaview_Dataset/Rest_set/3640973_80156_60bc39e36cf36.jpg', '~/Documents/New Fast Image Analysis/Kartaview_Dataset/Rest_set/3640973_6c10c_60bc39cad1442.jpg', '~/Documents/New Fast Image Analysis/Kartaview_Dataset/Rest_set/3235117_caa06_5fabf5659d1c6.jpg', '~/Documents/New Fast Image Analysis/Kartaview_Dataset/Rest_set/3640973_9fd84_60bc3a0a2e756.jpg', '~/Documents/New Fast Image Analysis/Kartaview_Dataset/Rest_set/3640973_577b0_60bc39b2653f8.jpg', '~/Documents/New Fast Image Analysis/Kartaview_Dataset/Rest_set/3640973_8d392_60bc39c3eb232.jpg', '~/Documents/New Fast Image Analysis/Kartaview_Dataset/Rest_set/3640973_08f97_60bc39e7ac0fa.jpg', '~/Documents/New Fast Image Analysis/Kartaview_Dataset/Rest_set/2912526_63857_5f36a1c14cb74.jpg', '~/Documents/New Fast Image Analysis/Kartaview_Dataset/Rest_set/3235117_c4a34_5fabf5714fc6f.jpg', '~/Documents/New Fast Image Analysis/Kartaview_Dataset/Rest_set/3640973_c14e9_60bc3a083b093.jpg', '~/Documents/New Fast Image Analysis/Kartaview_Dataset/Rest_set/2912526_84a31_5f36a40f806ea.jpg', '~/Documents/New Fast Image Analysis/Kartaview_Dataset/Rest_set/3235117_a8d1e_5fabf600ede14.jpg', '~/Documents/New Fast Image Analysis/Kartaview_Dataset/Rest_set/3235117_8ae01_5fabf577d52a4.jpg', '~/Documents/New Fast Image Analysis/Kartaview_Dataset/Rest_set/3235117_b11e4_5fabf60785df4.jpg', '~/Documents/New Fast Image Analysis/Kartaview_Dataset/Rest_set/3640973_131ef_60bc39d848d7a.jpg', '~/Documents/New Fast Image Analysis/Kartaview_Dataset/Rest_set/3317197_80609_5fce477f857a4.jpg', '~/Documents/New Fast Image Analysis/Kartaview_Dataset/Rest_set/3640973_70894_60bc39fa9406d.jpg', '~/Documents/New Fast Image Analysis/Kartaview_Dataset/Rest_set/3640973_28e7b_60bc39ae11d77.jpg', '~/Documents/New Fast Image Analysis/Kartaview_Dataset/Rest_set/3317197_148f5_5fce477e1e8aa.jpg', '~/Documents/New Fast Image Analysis/Kartaview_Dataset/Rest_set/3640973_dad54_60bc39e59d100.jpg', '~/Documents/New Fast Image Analysis/Kartaview_Dataset/Rest_set/3235117_f5e4c_5fabf60f775e5.jpg', '~/Documents/New Fast Image Analysis/Kartaview_Dataset/Rest_set/3235117_2935f_5fabf56400879.jpg', '~/Documents/New Fast Image Analysis/Kartaview_Dataset/Rest_set/3235117_c234e_5fabf5ff666f3.jpg', '~/Documents/New Fast Image Analysis/Kartaview_Dataset/Rest_set/3640973_ceaa3_60bc39df37395.jpg', '~/Documents/New Fast Image Analysis/Kartaview_Dataset/Rest_set/3640973_8a721_60bc39b02fb5d.jpg', '~/Documents/New Fast Image Analysis/Kartaview_Dataset/Rest_set/3235117_1db20_5fabf56de931e.jpg', '~/Documents/New Fast Image Analysis/Kartaview_Dataset/Rest_set/3640973_27d07_60bc39907cc02.jpg', '~/Documents/New Fast Image Analysis/Kartaview_Dataset/Rest_set/2912526_58265_5f36a4236f2da.jpg', '~/Documents/New Fast Image Analysis/Kartaview_Dataset/Rest_set/3235117_855f1_5fabf614450ef.jpg', '~/Documents/New Fast Image Analysis/Kartaview_Dataset/Rest_set/2912526_5836a_5f36a413101bc.jpg', '~/Documents/New Fast Image Analysis/Kartaview_Dataset/Rest_set/3235117_8d391_5fabf605d3b5d.jpg', '~/Documents/New Fast Image Analysis/Kartaview_Dataset/Rest_set/3640973_b0d57_60bc3a0644882.jpg', '~/Documents/New Fast Image Analysis/Kartaview_Dataset/Rest_set/3235117_4568a_5fabf61e0806f.jpg', '~/Documents/New Fast Image Analysis/Kartaview_Dataset/Rest_set/3346325_0d4b7_5ff1051fba58a.jpg', '~/Documents/New Fast Image Analysis/Kartaview_Dataset/Rest_set/3640973_dbdc3_60bc39fc83b2f.jpg', '~/Documents/New Fast Image Analysis/Kartaview_Dataset/Rest_set/3640973_12d43_60bc3a007e89c.jpg', '~/Documents/New Fast Image Analysis/Kartaview_Dataset/Rest_set/3235117_8d575_5fabf60c48f7b.jpg', '~/Documents/New Fast Image Analysis/Kartaview_Dataset/Rest_set/3235117_fa8fe_5fabf60429d26.jpg', '~/Documents/New Fast Image Analysis/Kartaview_Dataset/Rest_set/3235117_98ca8_5fabf612b48cb.jpg', '~/Documents/New Fast Image Analysis/Kartaview_Dataset/Rest_set/3640973_31c51_60bc39ee23acb.jpg', '~/Documents/New Fast Image Analysis/Kartaview_Dataset/Rest_set/3640973_5c8bf_60bc39bca30fa.jpg', '~/Documents/New Fast Image Analysis/Kartaview_Dataset/Rest_set/3640973_605c2_60bc3a0463f1b.jpg', '~/Documents/New Fast Image Analysis/Kartaview_Dataset/Rest_set/2913090_72aed_5f36c98437365.jpg', '~/Documents/New Fast Image Analysis/Kartaview_Dataset/Rest_set/3235117_76758_5fabf55d91b77.jpg', '~/Documents/New Fast Image Analysis/Kartaview_Dataset/Rest_set/3235117_4a965_5fabf56c3d585.jpg', '~/Documents/New Fast Image Analysis/Kartaview_Dataset/Rest_set/3640973_c5b15_60bc399786be9.jpg', '~/Documents/New Fast Image Analysis/Kartaview_Dataset/Rest_set/2819646_ea3be_5f1dc122d2c98.jpg', '~/Documents/New Fast Image Analysis/Kartaview_Dataset/Rest_set/3346325_a15ba_5ff1053477af4.jpg', '~/Documents/New Fast Image Analysis/Kartaview_Dataset/Rest_set/2913090_dfc41_5f36c971a9792.jpg', '~/Documents/New Fast Image Analysis/Kartaview_Dataset/Rest_set/3640973_87783_60bc39a75f798.jpg', '~/Documents/New Fast Image Analysis/Kartaview_Dataset/Rest_set/3640973_ae3a9_60bc39b69a881.jpg', '~/Documents/New Fast Image Analysis/Kartaview_Dataset/Rest_set/3640973_7dec0_60bc3a0dd45a6.jpg', '~/Documents/New Fast Image Analysis/Kartaview_Dataset/Rest_set/3640973_d7ce6_60bc39f05dcc8.jpg', '~/Documents/New Fast Image Analysis/Kartaview_Dataset/Rest_set/2913090_4e319_5f36c9613d045.jpg', '~/Documents/New Fast Image Analysis/Kartaview_Dataset/Rest_set/3235117_072ee_5fabf61aad203.jpg', '~/Documents/New Fast Image Analysis/Kartaview_Dataset/Rest_set/3431821_52aff_6032b4d04ed1f.jpg', '~/Documents/New Fast Image Analysis/Kartaview_Dataset/Rest_set/3317197_b4ae2_5fce4778288ce.jpg', '~/Documents/New Fast Image Analysis/Kartaview_Dataset/Rest_set/2913090_6423f_5f36c98930e17.jpg', '~/Documents/New Fast Image Analysis/Kartaview_Dataset/Rest_set/3235117_af188_5fabf60286057.jpg', '~/Documents/New Fast Image Analysis/Kartaview_Dataset/Rest_set/3640973_7b291_60bc399e52187.jpg', '~/Documents/New Fast Image Analysis/Kartaview_Dataset/Rest_set/2913090_ad544_5f36cdde14854.jpg', '~/Documents/New Fast Image Analysis/Kartaview_Dataset/Rest_set/2913090_2fc51_5f36c97fb7d13.jpg', '~/Documents/New Fast Image Analysis/Kartaview_Dataset/Rest_set/3640973_7bfd2_60bc39f88bd2f.jpg', '~/Documents/New Fast Image Analysis/Kartaview_Dataset/Rest_set/3235117_18618_5fabf6091adbe.jpg', '~/Documents/New Fast Image Analysis/Kartaview_Dataset/Rest_set/3640973_da3b4_60bc3999d8dad.jpg', '~/Documents/New Fast Image Analysis/Kartaview_Dataset/Rest_set/3346325_3b81e_5ff10531d0dd8.jpg', '~/Documents/New Fast Image Analysis/Kartaview_Dataset/Rest_set/3640973_81c77_60bc39b477b67.jpg', '~/Documents/New Fast Image Analysis/Kartaview_Dataset/Rest_set/3235117_047f8_5fabf56737089.jpg', '~/Documents/New Fast Image Analysis/Kartaview_Dataset/Rest_set/3640973_9d2cf_60bc39fe7f7b8.jpg', '~/Documents/New Fast Image Analysis/Kartaview_Dataset/Rest_set/2937366_06fea_5f3f1ff71bd35.jpg', '~/Documents/New Fast Image Analysis/Kartaview_Dataset/Rest_set/3317197_bc262_5fce477cb6f42.jpg', '~/Documents/New Fast Image Analysis/Kartaview_Dataset/Rest_set/2913090_dfbd0_5f36cdda57195.jpg', '~/Documents/New Fast Image Analysis/Kartaview_Dataset/Rest_set/3640973_8c515_60bc399c0f9e5.jpg', '~/Documents/New Fast Image Analysis/Kartaview_Dataset/Rest_set/3640973_0ee5b_60bc39bf2da36.jpg', '~/Documents/New Fast Image Analysis/Kartaview_Dataset/Rest_set/3235117_55cbc_5fabf572f0a32.jpg', '~/Documents/New Fast Image Analysis/Kartaview_Dataset/Rest_set/3235117_36861_5fabf61924c92.jpg', '~/Documents/New Fast Image Analysis/Kartaview_Dataset/Rest_set/2937366_0e723_5f3f1ff0084cc.jpg', '~/Documents/New Fast Image Analysis/Kartaview_Dataset/Rest_set/3640973_d89ae_60bc39cd1bad7.jpg', '~/Documents/New Fast Image Analysis/Kartaview_Dataset/Rest_set/3640973_8da94_60bc39dd10eb2.jpg', '~/Documents/New Fast Image Analysis/Kartaview_Dataset/Rest_set/3235117_f7576_5fabf6111b074.jpg']\n"
     ]
    }
   ],
   "source": [
    "print(DataFrameDictNew[0])"
   ]
  },
  {
   "cell_type": "markdown",
   "id": "292a7372",
   "metadata": {},
   "source": [
    "## 1.5 Load Image into Fiftyone and compute Uniqueness"
   ]
  },
  {
   "cell_type": "code",
   "execution_count": 28,
   "id": "2f819118",
   "metadata": {},
   "outputs": [],
   "source": [
    "import fiftyone as fo\n",
    "import fiftyone.brain as fob"
   ]
  },
  {
   "cell_type": "code",
   "execution_count": 54,
   "id": "196cf772",
   "metadata": {},
   "outputs": [],
   "source": [
    "# uniqueness function\n",
    "def compute_uniqueness(image_address):\n",
    "    # load image into fiftyone based on DataFrameDictNew value\n",
    "    dataset = fo.Dataset.from_images(image_address)\n",
    "    # compute uniqueness\n",
    "    fob.compute_uniqueness(dataset)\n",
    "    # save filepath and uniqueness score as array 'uniq'\n",
    "    uniq = np.empty((0,2))\n",
    "    for sample in dataset:\n",
    "        temp = np.array([[sample[\"filepath\"], sample[\"uniqueness\"]]])\n",
    "        uniq = np.append(uniq, temp, axis=0)\n",
    "    # convert array 'unique' to dataframe 'df_temp'\n",
    "    df_temp = pd.DataFrame(uniq, columns=['filepath', 'uniqueness'])\n",
    "    # rank based on uniqueness score\n",
    "    df_temp.sort_values(\"uniqueness\", ascending = False, inplace = True)\n",
    "    return df_temp"
   ]
  },
  {
   "cell_type": "code",
   "execution_count": 55,
   "id": "9c4645c8",
   "metadata": {},
   "outputs": [],
   "source": [
    "# create a new data frame dictionary\n",
    "DataFrameDictUni = {elem : pd.DataFrame() for elem in UniqueClusters}"
   ]
  },
  {
   "cell_type": "code",
   "execution_count": 56,
   "id": "dd5714a8",
   "metadata": {},
   "outputs": [
    {
     "name": "stdout",
     "output_type": "stream",
     "text": [
      " 100% |█████████████████| 146/146 [42.3ms elapsed, 0s remaining, 3.5K samples/s]   \n",
      "Computing embeddings...\n",
      " 100% |█████████████████| 146/146 [843.7ms elapsed, 0s remaining, 173.0 samples/s]      \n",
      "Computing uniqueness...\n",
      "Uniqueness computation complete\n",
      " 100% |█████████████████| 435/435 [89.7ms elapsed, 0s remaining, 4.9K samples/s]    \n",
      "Computing embeddings...\n",
      "  26% |████/------------| 112/435 [9.2s elapsed, 26.5s remaining, 12.2 samples/s] "
     ]
    },
    {
     "name": "stderr",
     "output_type": "stream",
     "text": [
      "/home/yiwei/anaconda3/lib/python3.9/site-packages/fiftyone/utils/torch.py:689: RuntimeWarning: overflow encountered in exp\n",
      "  odds = np.exp(logits)\n",
      "/home/yiwei/anaconda3/lib/python3.9/site-packages/fiftyone/utils/torch.py:690: RuntimeWarning: invalid value encountered in true_divide\n",
      "  odds /= np.sum(odds, axis=1, keepdims=True)\n"
     ]
    },
    {
     "name": "stdout",
     "output_type": "stream",
     "text": [
      " 100% |█████████████████| 435/435 [19.6s elapsed, 0s remaining, 22.2 samples/s]    \n",
      "Computing uniqueness...\n",
      "Uniqueness computation complete\n",
      " 100% |█████████████████| 338/338 [75.1ms elapsed, 0s remaining, 4.5K samples/s]   \n",
      "Computing embeddings...\n",
      " 100% |█████████████████| 338/338 [11.7s elapsed, 0s remaining, 28.8 samples/s]   \n",
      "Computing uniqueness...\n",
      "Uniqueness computation complete\n",
      " 100% |█████████████████| 438/438 [60.5ms elapsed, 0s remaining, 7.2K samples/s]   \n",
      "Computing embeddings...\n",
      "  62% |██████████|------| 272/438 [11.4s elapsed, 6.9s remaining, 23.9 samples/s]  "
     ]
    },
    {
     "name": "stderr",
     "output_type": "stream",
     "text": [
      "/home/yiwei/anaconda3/lib/python3.9/site-packages/fiftyone/utils/torch.py:689: RuntimeWarning: overflow encountered in exp\n",
      "  odds = np.exp(logits)\n",
      "/home/yiwei/anaconda3/lib/python3.9/site-packages/fiftyone/utils/torch.py:690: RuntimeWarning: invalid value encountered in true_divide\n",
      "  odds /= np.sum(odds, axis=1, keepdims=True)\n"
     ]
    },
    {
     "name": "stdout",
     "output_type": "stream",
     "text": [
      " 100% |█████████████████| 438/438 [16.6s elapsed, 0s remaining, 34.5 samples/s]      \n",
      "Computing uniqueness...\n",
      "Uniqueness computation complete\n",
      " 100% |█████████████████| 670/670 [83.3ms elapsed, 0s remaining, 8.0K samples/s]    \n",
      "Computing embeddings...\n",
      " 100% |█████████████████| 670/670 [24.2s elapsed, 0s remaining, 35.9 samples/s]    \n",
      "Computing uniqueness...\n",
      "Uniqueness computation complete\n",
      " 100% |█████████████████| 194/194 [64.6ms elapsed, 0s remaining, 3.0K samples/s]   \n",
      "Computing embeddings...\n",
      " 100% |█████████████████| 194/194 [8.2s elapsed, 0s remaining, 23.6 samples/s]   \n",
      "Computing uniqueness...\n",
      "Uniqueness computation complete\n",
      " 100% |█████████████████| 668/668 [108.3ms elapsed, 0s remaining, 6.2K samples/s]   \n",
      "Computing embeddings...\n",
      " 100% |█████████████████| 668/668 [22.1s elapsed, 0s remaining, 34.9 samples/s]    \n",
      "Computing uniqueness...\n",
      "Uniqueness computation complete\n",
      " 100% |█████████████████| 413/413 [60.9ms elapsed, 0s remaining, 6.8K samples/s]   \n",
      "Computing embeddings...\n",
      " 100% |█████████████████| 413/413 [15.6s elapsed, 0s remaining, 32.8 samples/s]      \n",
      "Computing uniqueness...\n",
      "Uniqueness computation complete\n",
      " 100% |█████████████████| 572/572 [77.3ms elapsed, 0s remaining, 7.4K samples/s]   \n",
      "Computing embeddings...\n",
      " 100% |█████████████████| 572/572 [22.8s elapsed, 0s remaining, 30.4 samples/s]    \n",
      "Computing uniqueness...\n",
      "Uniqueness computation complete\n",
      " 100% |█████████████████| 265/265 [67.3ms elapsed, 0s remaining, 3.9K samples/s]   \n",
      "Computing embeddings...\n",
      " 100% |█████████████████| 265/265 [12.0s elapsed, 0s remaining, 22.2 samples/s]   \n",
      "Computing uniqueness...\n",
      "Uniqueness computation complete\n",
      " 100% |█████████████████| 713/713 [112.8ms elapsed, 0s remaining, 6.3K samples/s]   \n",
      "Computing embeddings...\n",
      " 100% |█████████████████| 713/713 [26.3s elapsed, 0s remaining, 34.2 samples/s]      \n",
      "Computing uniqueness...\n",
      "Uniqueness computation complete\n",
      " 100% |█████████████████| 518/518 [114.8ms elapsed, 0s remaining, 4.5K samples/s]   \n",
      "Computing embeddings...\n",
      " 100% |█████████████████| 518/518 [22.2s elapsed, 0s remaining, 27.6 samples/s]      \n",
      "Computing uniqueness...\n",
      "Uniqueness computation complete\n",
      " 100% |█████████████████| 577/577 [97.2ms elapsed, 0s remaining, 5.9K samples/s]    \n",
      "Computing embeddings...\n",
      " 100% |█████████████████| 577/577 [26.2s elapsed, 0s remaining, 28.1 samples/s]    \n",
      "Computing uniqueness...\n",
      "Uniqueness computation complete\n",
      " 100% |█████████████████| 308/308 [84.3ms elapsed, 0s remaining, 3.7K samples/s]   \n",
      "Computing embeddings...\n",
      " 100% |█████████████████| 308/308 [15.1s elapsed, 0s remaining, 28.0 samples/s]      \n",
      "Computing uniqueness...\n",
      "Uniqueness computation complete\n",
      " 100% |█████████████████| 683/683 [110.0ms elapsed, 0s remaining, 6.2K samples/s]   \n",
      "Computing embeddings...\n",
      " 100% |█████████████████| 683/683 [27.1s elapsed, 0s remaining, 27.5 samples/s]    \n",
      "Computing uniqueness...\n",
      "Uniqueness computation complete\n",
      " 100% |█████████████████| 200/200 [64.4ms elapsed, 0s remaining, 3.1K samples/s]   \n",
      "Computing embeddings...\n",
      " 100% |█████████████████| 200/200 [7.7s elapsed, 0s remaining, 25.9 samples/s]   "
     ]
    },
    {
     "name": "stderr",
     "output_type": "stream",
     "text": [
      "/home/yiwei/anaconda3/lib/python3.9/site-packages/fiftyone/utils/torch.py:689: RuntimeWarning: overflow encountered in exp\n",
      "  odds = np.exp(logits)\n",
      "/home/yiwei/anaconda3/lib/python3.9/site-packages/fiftyone/utils/torch.py:690: RuntimeWarning: invalid value encountered in true_divide\n",
      "  odds /= np.sum(odds, axis=1, keepdims=True)\n"
     ]
    },
    {
     "name": "stdout",
     "output_type": "stream",
     "text": [
      " 100% |█████████████████| 200/200 [7.8s elapsed, 0s remaining, 25.9 samples/s]   \n",
      "Computing uniqueness...\n",
      "Uniqueness computation complete\n",
      " 100% |█████████████████| 633/633 [104.1ms elapsed, 0s remaining, 6.1K samples/s]   \n",
      "Computing embeddings...\n",
      " 100% |█████████████████| 633/633 [25.0s elapsed, 0s remaining, 32.4 samples/s]    \n",
      "Computing uniqueness...\n",
      "Uniqueness computation complete\n",
      " 100% |█████████████████| 412/412 [80.8ms elapsed, 0s remaining, 5.1K samples/s]    \n",
      "Computing embeddings...\n",
      " 100% |█████████████████| 412/412 [19.2s elapsed, 0s remaining, 23.7 samples/s]      \n",
      "Computing uniqueness...\n",
      "Uniqueness computation complete\n",
      " 100% |█████████████████| 122/122 [28.0ms elapsed, 0s remaining, 4.4K samples/s]   \n",
      "Computing embeddings...\n",
      " 100% |█████████████████| 122/122 [4.5s elapsed, 0s remaining, 27.5 samples/s]      \n",
      "Computing uniqueness...\n",
      "Uniqueness computation complete\n",
      " 100% |█████████████████| 606/606 [82.1ms elapsed, 0s remaining, 7.4K samples/s]   \n",
      "Computing embeddings...\n",
      " 100% |█████████████████| 606/606 [25.0s elapsed, 0s remaining, 30.4 samples/s]      \n",
      "Computing uniqueness...\n",
      "Uniqueness computation complete\n",
      " 100% |█████████████████| 337/337 [75.3ms elapsed, 0s remaining, 4.5K samples/s]   \n",
      "Computing embeddings...\n",
      "   9% |█/---------------|  32/337 [4.4s elapsed, 41.5s remaining, 7.4 samples/s] "
     ]
    },
    {
     "name": "stderr",
     "output_type": "stream",
     "text": [
      "/home/yiwei/anaconda3/lib/python3.9/site-packages/fiftyone/utils/torch.py:689: RuntimeWarning: overflow encountered in exp\n",
      "  odds = np.exp(logits)\n",
      "/home/yiwei/anaconda3/lib/python3.9/site-packages/fiftyone/utils/torch.py:690: RuntimeWarning: invalid value encountered in true_divide\n",
      "  odds /= np.sum(odds, axis=1, keepdims=True)\n"
     ]
    },
    {
     "name": "stdout",
     "output_type": "stream",
     "text": [
      " 100% |█████████████████| 337/337 [13.8s elapsed, 0s remaining, 24.4 samples/s]   \n",
      "Computing uniqueness...\n",
      "Uniqueness computation complete\n",
      " 100% |█████████████████| 139/139 [38.8ms elapsed, 0s remaining, 3.6K samples/s]   \n",
      "Computing embeddings...\n",
      " 100% |█████████████████| 139/139 [7.2s elapsed, 0s remaining, 19.4 samples/s]   \n",
      "Computing uniqueness...\n",
      "Uniqueness computation complete\n",
      " 100% |█████████████████| 667/667 [118.4ms elapsed, 0s remaining, 5.6K samples/s]   \n",
      "Computing embeddings...\n",
      " 100% |█████████████████| 667/667 [25.4s elapsed, 0s remaining, 33.9 samples/s]      \n",
      "Computing uniqueness...\n",
      "Uniqueness computation complete\n",
      " 100% |█████████████████| 466/466 [87.7ms elapsed, 0s remaining, 5.3K samples/s]    \n",
      "Computing embeddings...\n",
      "  69% |███████████------| 320/466 [14.5s elapsed, 6.2s remaining, 24.3 samples/s]  "
     ]
    },
    {
     "name": "stderr",
     "output_type": "stream",
     "text": [
      "/home/yiwei/anaconda3/lib/python3.9/site-packages/fiftyone/utils/torch.py:689: RuntimeWarning: overflow encountered in exp\n",
      "  odds = np.exp(logits)\n",
      "/home/yiwei/anaconda3/lib/python3.9/site-packages/fiftyone/utils/torch.py:690: RuntimeWarning: invalid value encountered in true_divide\n",
      "  odds /= np.sum(odds, axis=1, keepdims=True)\n"
     ]
    },
    {
     "name": "stdout",
     "output_type": "stream",
     "text": [
      " 100% |█████████████████| 466/466 [18.2s elapsed, 0s remaining, 29.3 samples/s]    \n",
      "Computing uniqueness...\n",
      "Uniqueness computation complete\n",
      " 100% |█████████████████| 382/382 [79.1ms elapsed, 0s remaining, 4.8K samples/s]    \n",
      "Computing embeddings...\n",
      "  63% |██████████-------| 240/382 [15.5s elapsed, 9.1s remaining, 15.5 samples/s]  "
     ]
    },
    {
     "name": "stderr",
     "output_type": "stream",
     "text": [
      "/home/yiwei/anaconda3/lib/python3.9/site-packages/fiftyone/utils/torch.py:689: RuntimeWarning: overflow encountered in exp\n",
      "  odds = np.exp(logits)\n",
      "/home/yiwei/anaconda3/lib/python3.9/site-packages/fiftyone/utils/torch.py:690: RuntimeWarning: invalid value encountered in true_divide\n",
      "  odds /= np.sum(odds, axis=1, keepdims=True)\n"
     ]
    },
    {
     "name": "stdout",
     "output_type": "stream",
     "text": [
      " 100% |█████████████████| 382/382 [19.6s elapsed, 0s remaining, 22.9 samples/s]    \n",
      "Computing uniqueness...\n",
      "Uniqueness computation complete\n",
      " 100% |█████████████████| 182/182 [34.9ms elapsed, 0s remaining, 5.2K samples/s]   \n",
      "Computing embeddings...\n",
      " 100% |█████████████████| 182/182 [6.8s elapsed, 0s remaining, 26.6 samples/s]      \n",
      "Computing uniqueness...\n",
      "Uniqueness computation complete\n"
     ]
    }
   ],
   "source": [
    "# call uniqueness function\n",
    "for key in DataFrameDict.keys():\n",
    "    DataFrameDictUni[key] = compute_uniqueness(DataFrameDictNew[key])"
   ]
  },
  {
   "cell_type": "code",
   "execution_count": 57,
   "id": "f4f8a06e",
   "metadata": {},
   "outputs": [
    {
     "name": "stdout",
     "output_type": "stream",
     "text": [
      "<class 'pandas.core.frame.DataFrame'>\n"
     ]
    }
   ],
   "source": [
    "print(type(DataFrameDictUni[0]))"
   ]
  },
  {
   "cell_type": "code",
   "execution_count": 58,
   "id": "63e7c9a8",
   "metadata": {},
   "outputs": [
    {
     "name": "stdout",
     "output_type": "stream",
     "text": [
      "                                              filepath           uniqueness\n",
      "122  /home/yiwei/Documents/New Fast Image Analysis/...                  1.0\n",
      "135  /home/yiwei/Documents/New Fast Image Analysis/...   0.9688198260532347\n",
      "73   /home/yiwei/Documents/New Fast Image Analysis/...   0.9642063995077501\n",
      "88   /home/yiwei/Documents/New Fast Image Analysis/...   0.9095245072178738\n",
      "30   /home/yiwei/Documents/New Fast Image Analysis/...   0.8322548392150948\n",
      "..                                                 ...                  ...\n",
      "69   /home/yiwei/Documents/New Fast Image Analysis/...  0.07695671328315233\n",
      "107  /home/yiwei/Documents/New Fast Image Analysis/...   0.0762952370280206\n",
      "65   /home/yiwei/Documents/New Fast Image Analysis/...   0.0723905492530136\n",
      "75   /home/yiwei/Documents/New Fast Image Analysis/...  0.07095399559412453\n",
      "101  /home/yiwei/Documents/New Fast Image Analysis/...  0.06954876837096353\n",
      "\n",
      "[146 rows x 2 columns]\n"
     ]
    }
   ],
   "source": [
    "print(DataFrameDictUni[0])"
   ]
  },
  {
   "cell_type": "markdown",
   "id": "452977db",
   "metadata": {},
   "source": [
    "## 1.6 Export Uniqueness to csv file"
   ]
  },
  {
   "cell_type": "code",
   "execution_count": 59,
   "id": "f232c345",
   "metadata": {},
   "outputs": [],
   "source": [
    "import os"
   ]
  },
  {
   "cell_type": "code",
   "execution_count": 60,
   "id": "6fa4a393",
   "metadata": {},
   "outputs": [],
   "source": [
    "# make parent folder\n",
    "uniqueness_dir = '/home/yiwei/Documents/New Fast Image Analysis/Karta_uniqueness_out'\n",
    "os.makedirs(uniqueness_dir, exist_ok=True)"
   ]
  },
  {
   "cell_type": "code",
   "execution_count": 61,
   "id": "09ad078b",
   "metadata": {},
   "outputs": [],
   "source": [
    "# create '0~25.csv' file based on clusters\n",
    "for key in DataFrameDictUni.keys():\n",
    "    file_path = uniqueness_dir + '/' + str(key) + '.csv'\n",
    "    DataFrameDictUni[key].to_csv(file_path)"
   ]
  },
  {
   "cell_type": "code",
   "execution_count": 93,
   "id": "f46df7a9",
   "metadata": {},
   "outputs": [
    {
     "name": "stdout",
     "output_type": "stream",
     "text": [
      "                                                     0  \\\n",
      "0    /home/yiwei/Documents/New Fast Image Analysis/...   \n",
      "1    /home/yiwei/Documents/New Fast Image Analysis/...   \n",
      "2    /home/yiwei/Documents/New Fast Image Analysis/...   \n",
      "3    /home/yiwei/Documents/New Fast Image Analysis/...   \n",
      "4    /home/yiwei/Documents/New Fast Image Analysis/...   \n",
      "..                                                 ...   \n",
      "708                                                NaN   \n",
      "709                                                NaN   \n",
      "710                                                NaN   \n",
      "711                                                NaN   \n",
      "712                                                NaN   \n",
      "\n",
      "                                                     1  \\\n",
      "0    /home/yiwei/Documents/New Fast Image Analysis/...   \n",
      "1    /home/yiwei/Documents/New Fast Image Analysis/...   \n",
      "2    /home/yiwei/Documents/New Fast Image Analysis/...   \n",
      "3    /home/yiwei/Documents/New Fast Image Analysis/...   \n",
      "4    /home/yiwei/Documents/New Fast Image Analysis/...   \n",
      "..                                                 ...   \n",
      "708                                                NaN   \n",
      "709                                                NaN   \n",
      "710                                                NaN   \n",
      "711                                                NaN   \n",
      "712                                                NaN   \n",
      "\n",
      "                                                     2  \\\n",
      "0    /home/yiwei/Documents/New Fast Image Analysis/...   \n",
      "1    /home/yiwei/Documents/New Fast Image Analysis/...   \n",
      "2    /home/yiwei/Documents/New Fast Image Analysis/...   \n",
      "3    /home/yiwei/Documents/New Fast Image Analysis/...   \n",
      "4    /home/yiwei/Documents/New Fast Image Analysis/...   \n",
      "..                                                 ...   \n",
      "708                                                NaN   \n",
      "709                                                NaN   \n",
      "710                                                NaN   \n",
      "711                                                NaN   \n",
      "712                                                NaN   \n",
      "\n",
      "                                                     3  \\\n",
      "0    /home/yiwei/Documents/New Fast Image Analysis/...   \n",
      "1    /home/yiwei/Documents/New Fast Image Analysis/...   \n",
      "2    /home/yiwei/Documents/New Fast Image Analysis/...   \n",
      "3    /home/yiwei/Documents/New Fast Image Analysis/...   \n",
      "4    /home/yiwei/Documents/New Fast Image Analysis/...   \n",
      "..                                                 ...   \n",
      "708                                                NaN   \n",
      "709                                                NaN   \n",
      "710                                                NaN   \n",
      "711                                                NaN   \n",
      "712                                                NaN   \n",
      "\n",
      "                                                     4  \\\n",
      "0    /home/yiwei/Documents/New Fast Image Analysis/...   \n",
      "1    /home/yiwei/Documents/New Fast Image Analysis/...   \n",
      "2    /home/yiwei/Documents/New Fast Image Analysis/...   \n",
      "3    /home/yiwei/Documents/New Fast Image Analysis/...   \n",
      "4    /home/yiwei/Documents/New Fast Image Analysis/...   \n",
      "..                                                 ...   \n",
      "708                                                NaN   \n",
      "709                                                NaN   \n",
      "710                                                NaN   \n",
      "711                                                NaN   \n",
      "712                                                NaN   \n",
      "\n",
      "                                                     5  \\\n",
      "0    /home/yiwei/Documents/New Fast Image Analysis/...   \n",
      "1    /home/yiwei/Documents/New Fast Image Analysis/...   \n",
      "2    /home/yiwei/Documents/New Fast Image Analysis/...   \n",
      "3    /home/yiwei/Documents/New Fast Image Analysis/...   \n",
      "4    /home/yiwei/Documents/New Fast Image Analysis/...   \n",
      "..                                                 ...   \n",
      "708                                                NaN   \n",
      "709                                                NaN   \n",
      "710                                                NaN   \n",
      "711                                                NaN   \n",
      "712                                                NaN   \n",
      "\n",
      "                                                     6  \\\n",
      "0    /home/yiwei/Documents/New Fast Image Analysis/...   \n",
      "1    /home/yiwei/Documents/New Fast Image Analysis/...   \n",
      "2    /home/yiwei/Documents/New Fast Image Analysis/...   \n",
      "3    /home/yiwei/Documents/New Fast Image Analysis/...   \n",
      "4    /home/yiwei/Documents/New Fast Image Analysis/...   \n",
      "..                                                 ...   \n",
      "708                                                NaN   \n",
      "709                                                NaN   \n",
      "710                                                NaN   \n",
      "711                                                NaN   \n",
      "712                                                NaN   \n",
      "\n",
      "                                                     7  \\\n",
      "0    /home/yiwei/Documents/New Fast Image Analysis/...   \n",
      "1    /home/yiwei/Documents/New Fast Image Analysis/...   \n",
      "2    /home/yiwei/Documents/New Fast Image Analysis/...   \n",
      "3    /home/yiwei/Documents/New Fast Image Analysis/...   \n",
      "4    /home/yiwei/Documents/New Fast Image Analysis/...   \n",
      "..                                                 ...   \n",
      "708                                                NaN   \n",
      "709                                                NaN   \n",
      "710                                                NaN   \n",
      "711                                                NaN   \n",
      "712                                                NaN   \n",
      "\n",
      "                                                     8  \\\n",
      "0    /home/yiwei/Documents/New Fast Image Analysis/...   \n",
      "1    /home/yiwei/Documents/New Fast Image Analysis/...   \n",
      "2    /home/yiwei/Documents/New Fast Image Analysis/...   \n",
      "3    /home/yiwei/Documents/New Fast Image Analysis/...   \n",
      "4    /home/yiwei/Documents/New Fast Image Analysis/...   \n",
      "..                                                 ...   \n",
      "708                                                NaN   \n",
      "709                                                NaN   \n",
      "710                                                NaN   \n",
      "711                                                NaN   \n",
      "712                                                NaN   \n",
      "\n",
      "                                                     9  ...  \\\n",
      "0    /home/yiwei/Documents/New Fast Image Analysis/...  ...   \n",
      "1    /home/yiwei/Documents/New Fast Image Analysis/...  ...   \n",
      "2    /home/yiwei/Documents/New Fast Image Analysis/...  ...   \n",
      "3    /home/yiwei/Documents/New Fast Image Analysis/...  ...   \n",
      "4    /home/yiwei/Documents/New Fast Image Analysis/...  ...   \n",
      "..                                                 ...  ...   \n",
      "708                                                NaN  ...   \n",
      "709                                                NaN  ...   \n",
      "710                                                NaN  ...   \n",
      "711                                                NaN  ...   \n",
      "712                                                NaN  ...   \n",
      "\n",
      "                                                    16  \\\n",
      "0    /home/yiwei/Documents/New Fast Image Analysis/...   \n",
      "1    /home/yiwei/Documents/New Fast Image Analysis/...   \n",
      "2    /home/yiwei/Documents/New Fast Image Analysis/...   \n",
      "3    /home/yiwei/Documents/New Fast Image Analysis/...   \n",
      "4    /home/yiwei/Documents/New Fast Image Analysis/...   \n",
      "..                                                 ...   \n",
      "708                                                NaN   \n",
      "709                                                NaN   \n",
      "710                                                NaN   \n",
      "711                                                NaN   \n",
      "712                                                NaN   \n",
      "\n",
      "                                                    17  \\\n",
      "0    /home/yiwei/Documents/New Fast Image Analysis/...   \n",
      "1    /home/yiwei/Documents/New Fast Image Analysis/...   \n",
      "2    /home/yiwei/Documents/New Fast Image Analysis/...   \n",
      "3    /home/yiwei/Documents/New Fast Image Analysis/...   \n",
      "4    /home/yiwei/Documents/New Fast Image Analysis/...   \n",
      "..                                                 ...   \n",
      "708                                                NaN   \n",
      "709                                                NaN   \n",
      "710                                                NaN   \n",
      "711                                                NaN   \n",
      "712                                                NaN   \n",
      "\n",
      "                                                    18  \\\n",
      "0    /home/yiwei/Documents/New Fast Image Analysis/...   \n",
      "1    /home/yiwei/Documents/New Fast Image Analysis/...   \n",
      "2    /home/yiwei/Documents/New Fast Image Analysis/...   \n",
      "3    /home/yiwei/Documents/New Fast Image Analysis/...   \n",
      "4    /home/yiwei/Documents/New Fast Image Analysis/...   \n",
      "..                                                 ...   \n",
      "708                                                NaN   \n",
      "709                                                NaN   \n",
      "710                                                NaN   \n",
      "711                                                NaN   \n",
      "712                                                NaN   \n",
      "\n",
      "                                                    19  \\\n",
      "0    /home/yiwei/Documents/New Fast Image Analysis/...   \n",
      "1    /home/yiwei/Documents/New Fast Image Analysis/...   \n",
      "2    /home/yiwei/Documents/New Fast Image Analysis/...   \n",
      "3    /home/yiwei/Documents/New Fast Image Analysis/...   \n",
      "4    /home/yiwei/Documents/New Fast Image Analysis/...   \n",
      "..                                                 ...   \n",
      "708                                                NaN   \n",
      "709                                                NaN   \n",
      "710                                                NaN   \n",
      "711                                                NaN   \n",
      "712                                                NaN   \n",
      "\n",
      "                                                    20  \\\n",
      "0    /home/yiwei/Documents/New Fast Image Analysis/...   \n",
      "1    /home/yiwei/Documents/New Fast Image Analysis/...   \n",
      "2    /home/yiwei/Documents/New Fast Image Analysis/...   \n",
      "3    /home/yiwei/Documents/New Fast Image Analysis/...   \n",
      "4    /home/yiwei/Documents/New Fast Image Analysis/...   \n",
      "..                                                 ...   \n",
      "708                                                NaN   \n",
      "709                                                NaN   \n",
      "710                                                NaN   \n",
      "711                                                NaN   \n",
      "712                                                NaN   \n",
      "\n",
      "                                                    21  \\\n",
      "0    /home/yiwei/Documents/New Fast Image Analysis/...   \n",
      "1    /home/yiwei/Documents/New Fast Image Analysis/...   \n",
      "2    /home/yiwei/Documents/New Fast Image Analysis/...   \n",
      "3    /home/yiwei/Documents/New Fast Image Analysis/...   \n",
      "4    /home/yiwei/Documents/New Fast Image Analysis/...   \n",
      "..                                                 ...   \n",
      "708                                                NaN   \n",
      "709                                                NaN   \n",
      "710                                                NaN   \n",
      "711                                                NaN   \n",
      "712                                                NaN   \n",
      "\n",
      "                                                    22  \\\n",
      "0    /home/yiwei/Documents/New Fast Image Analysis/...   \n",
      "1    /home/yiwei/Documents/New Fast Image Analysis/...   \n",
      "2    /home/yiwei/Documents/New Fast Image Analysis/...   \n",
      "3    /home/yiwei/Documents/New Fast Image Analysis/...   \n",
      "4    /home/yiwei/Documents/New Fast Image Analysis/...   \n",
      "..                                                 ...   \n",
      "708                                                NaN   \n",
      "709                                                NaN   \n",
      "710                                                NaN   \n",
      "711                                                NaN   \n",
      "712                                                NaN   \n",
      "\n",
      "                                                    23  \\\n",
      "0    /home/yiwei/Documents/New Fast Image Analysis/...   \n",
      "1    /home/yiwei/Documents/New Fast Image Analysis/...   \n",
      "2    /home/yiwei/Documents/New Fast Image Analysis/...   \n",
      "3    /home/yiwei/Documents/New Fast Image Analysis/...   \n",
      "4    /home/yiwei/Documents/New Fast Image Analysis/...   \n",
      "..                                                 ...   \n",
      "708                                                NaN   \n",
      "709                                                NaN   \n",
      "710                                                NaN   \n",
      "711                                                NaN   \n",
      "712                                                NaN   \n",
      "\n",
      "                                                    24  \\\n",
      "0    /home/yiwei/Documents/New Fast Image Analysis/...   \n",
      "1    /home/yiwei/Documents/New Fast Image Analysis/...   \n",
      "2    /home/yiwei/Documents/New Fast Image Analysis/...   \n",
      "3    /home/yiwei/Documents/New Fast Image Analysis/...   \n",
      "4    /home/yiwei/Documents/New Fast Image Analysis/...   \n",
      "..                                                 ...   \n",
      "708                                                NaN   \n",
      "709                                                NaN   \n",
      "710                                                NaN   \n",
      "711                                                NaN   \n",
      "712                                                NaN   \n",
      "\n",
      "                                                    25  \n",
      "0    /home/yiwei/Documents/New Fast Image Analysis/...  \n",
      "1    /home/yiwei/Documents/New Fast Image Analysis/...  \n",
      "2    /home/yiwei/Documents/New Fast Image Analysis/...  \n",
      "3    /home/yiwei/Documents/New Fast Image Analysis/...  \n",
      "4    /home/yiwei/Documents/New Fast Image Analysis/...  \n",
      "..                                                 ...  \n",
      "708                                                NaN  \n",
      "709                                                NaN  \n",
      "710                                                NaN  \n",
      "711                                                NaN  \n",
      "712                                                NaN  \n",
      "\n",
      "[713 rows x 26 columns]\n"
     ]
    }
   ],
   "source": [
    "# Add all filepath into dataframe 'df_all_uniqueness'\n",
    "df_all_uniqueness = pd.DataFrame()\n",
    "for key in DataFrameDictUni.keys():\n",
    "    df_all_uniqueness = pd.concat([df_all_uniqueness, pd.DataFrame(DataFrameDictUni[key]['filepath'].values, columns=[str(key)])], axis=1)\n",
    "print(df_all_uniqueness)"
   ]
  },
  {
   "cell_type": "code",
   "execution_count": 94,
   "id": "55b9ff4d",
   "metadata": {},
   "outputs": [],
   "source": [
    "# save dataframe 'df_all_uniqueness' as 'all.csv'\n",
    "df_all_uniqueness.to_csv(uniqueness_dir + '/all.csv')"
   ]
  },
  {
   "cell_type": "code",
   "execution_count": null,
   "id": "f81c021a",
   "metadata": {},
   "outputs": [],
   "source": []
  }
 ],
 "metadata": {
  "kernelspec": {
   "display_name": "Python 3",
   "language": "python",
   "name": "python3"
  },
  "language_info": {
   "codemirror_mode": {
    "name": "ipython",
    "version": 3
   },
   "file_extension": ".py",
   "mimetype": "text/x-python",
   "name": "python",
   "nbconvert_exporter": "python",
   "pygments_lexer": "ipython3",
   "version": "3.7.13"
  }
 },
 "nbformat": 4,
 "nbformat_minor": 5
}
