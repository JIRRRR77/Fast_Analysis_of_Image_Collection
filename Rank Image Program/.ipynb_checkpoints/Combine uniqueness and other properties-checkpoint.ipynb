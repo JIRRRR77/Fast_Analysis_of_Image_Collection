{
 "cells": [
  {
   "cell_type": "markdown",
   "id": "63b74a21",
   "metadata": {},
   "source": [
    "# 1. Cluster csv file modification"
   ]
  },
  {
   "cell_type": "markdown",
   "id": "9f3e13d4",
   "metadata": {},
   "source": [
    "## 1.1 Import 0-25 cluster csv file"
   ]
  },
  {
   "cell_type": "code",
   "execution_count": 1,
   "id": "cd6d5272",
   "metadata": {},
   "outputs": [],
   "source": [
    "import pandas as pd"
   ]
  },
  {
   "cell_type": "code",
   "execution_count": 7,
   "id": "e78a66ba",
   "metadata": {},
   "outputs": [],
   "source": [
    "# parent folder for file storage\n",
    "uniqueness_dir = '/home/yiwei/Documents/New Fast Image Analysis/Karta_uniqueness_out'"
   ]
  },
  {
   "cell_type": "code",
   "execution_count": 50,
   "id": "43b7f275",
   "metadata": {},
   "outputs": [],
   "source": [
    "df_all = pd.DataFrame()"
   ]
  },
  {
   "cell_type": "code",
   "execution_count": 51,
   "id": "c015b1c7",
   "metadata": {},
   "outputs": [],
   "source": [
    "# read '0.csv~25.csv' file and save as a new dataframe\n",
    "for i in range(26):\n",
    "    df_temp = pd.read_csv(\"~/Documents/New Fast Image Analysis/Karta_uniqueness_out/\"+str(i)+\".csv\")\n",
    "    df_all = pd.concat([df_all, df_temp], ignore_index=True, axis=0)"
   ]
  },
  {
   "cell_type": "markdown",
   "id": "1f4cdecd",
   "metadata": {},
   "source": [
    "## 1.2 Modify filepath name"
   ]
  },
  {
   "cell_type": "code",
   "execution_count": 52,
   "id": "cc0593bb",
   "metadata": {},
   "outputs": [],
   "source": [
    "# Drop useless column\n",
    "df_all.drop(columns=['Unnamed: 0'], inplace = True)"
   ]
  },
  {
   "cell_type": "code",
   "execution_count": 53,
   "id": "5375765a",
   "metadata": {},
   "outputs": [
    {
     "name": "stdout",
     "output_type": "stream",
     "text": [
      "                                                filepath  uniqueness\n",
      "0      /home/yiwei/Documents/New Fast Image Analysis/...    1.000000\n",
      "1      /home/yiwei/Documents/New Fast Image Analysis/...    0.968820\n",
      "2      /home/yiwei/Documents/New Fast Image Analysis/...    0.964206\n",
      "3      /home/yiwei/Documents/New Fast Image Analysis/...    0.909525\n",
      "4      /home/yiwei/Documents/New Fast Image Analysis/...    0.832255\n",
      "...                                                  ...         ...\n",
      "11079  /home/yiwei/Documents/New Fast Image Analysis/...    0.587466\n",
      "11080  /home/yiwei/Documents/New Fast Image Analysis/...    0.578653\n",
      "11081  /home/yiwei/Documents/New Fast Image Analysis/...    0.572964\n",
      "11082  /home/yiwei/Documents/New Fast Image Analysis/...    0.535868\n",
      "11083  /home/yiwei/Documents/New Fast Image Analysis/...    0.522580\n",
      "\n",
      "[11084 rows x 2 columns]\n"
     ]
    }
   ],
   "source": [
    "print(df_all)"
   ]
  },
  {
   "cell_type": "code",
   "execution_count": 31,
   "id": "b9261775",
   "metadata": {},
   "outputs": [
    {
     "name": "stdout",
     "output_type": "stream",
     "text": [
      "11084\n"
     ]
    }
   ],
   "source": [
    "# count row\n",
    "count_row = len(df_all)\n",
    "print(count_row)"
   ]
  },
  {
   "cell_type": "code",
   "execution_count": 54,
   "id": "c1bb6bd2",
   "metadata": {},
   "outputs": [],
   "source": [
    "# delete filepath name '/home/yiwei/Documents/New Fast Image Analysis/' part\n",
    "for x in range(count_row):\n",
    "    df_all.replace(df_all.filepath[x], df_all.filepath[x].split('/New Fast Image Analysis/')[-1], inplace=True)"
   ]
  },
  {
   "cell_type": "code",
   "execution_count": 55,
   "id": "a45419b9",
   "metadata": {},
   "outputs": [
    {
     "name": "stdout",
     "output_type": "stream",
     "text": [
      "                                                filepath  uniqueness\n",
      "0      Kartaview_Dataset/Rest_set/3317197_b4ae2_5fce4...    1.000000\n",
      "1      Kartaview_Dataset/Rest_set/2937366_06fea_5f3f1...    0.968820\n",
      "2      Kartaview_Dataset/Rest_set/2912526_63857_5f36a...    0.964206\n",
      "3      Kartaview_Dataset/Rest_set/3235117_c234e_5fabf...    0.909525\n",
      "4      Kartaview_Dataset/Rest_set/3235117_addc5_5fabf...    0.832255\n",
      "...                                                  ...         ...\n",
      "11079  Kartaview_Dataset/Rest_set/2834622_d27ab_5f221...    0.587466\n",
      "11080  Kartaview_Dataset/Rest_set/2834658_827a0_5f221...    0.578653\n",
      "11081  Kartaview_Dataset/Rest_set/2834658_87769_5f221...    0.572964\n",
      "11082  Kartaview_Dataset/Rest_set/2834658_bdb58_5f221...    0.535868\n",
      "11083  Kartaview_Dataset/Rest_set/2834658_6fc17_5f221...    0.522580\n",
      "\n",
      "[11084 rows x 2 columns]\n"
     ]
    }
   ],
   "source": [
    "print(df_all)"
   ]
  },
  {
   "cell_type": "code",
   "execution_count": 56,
   "id": "b2f38c29",
   "metadata": {},
   "outputs": [],
   "source": [
    "# export 'df_all' as 'df_all_vertical.csv'\n",
    "df_all.to_csv(uniqueness_dir + '/df_all_vertical.csv')"
   ]
  },
  {
   "cell_type": "markdown",
   "id": "bc01a5bc",
   "metadata": {},
   "source": [
    "# 2. Combine another xlsx file"
   ]
  },
  {
   "cell_type": "code",
   "execution_count": 63,
   "id": "3c368b11",
   "metadata": {},
   "outputs": [],
   "source": [
    "# read xlsx file\n",
    "df_temp2 = pd.read_excel('/home/yiwei/Downloads/data_norm.xlsx', index_col=0)"
   ]
  },
  {
   "cell_type": "code",
   "execution_count": 67,
   "id": "3590e5f9",
   "metadata": {},
   "outputs": [],
   "source": [
    "# set index as filename\n",
    "df_temp2.set_index('filename', inplace=True)"
   ]
  },
  {
   "cell_type": "code",
   "execution_count": 68,
   "id": "76c0e6e8",
   "metadata": {},
   "outputs": [],
   "source": [
    "# concatenate uniqueness score into 'df_temp2'\n",
    "df_temp2 = pd.concat([df_temp2, df_all.set_index('filepath')['uniqueness']], axis=1)"
   ]
  },
  {
   "cell_type": "code",
   "execution_count": 71,
   "id": "73ac718d",
   "metadata": {},
   "outputs": [],
   "source": [
    "# reset index\n",
    "df_temp2.reset_index(inplace=True)"
   ]
  },
  {
   "cell_type": "code",
   "execution_count": 72,
   "id": "18dc35a8",
   "metadata": {},
   "outputs": [
    {
     "data": {
      "text/html": [
       "<div>\n",
       "<style scoped>\n",
       "    .dataframe tbody tr th:only-of-type {\n",
       "        vertical-align: middle;\n",
       "    }\n",
       "\n",
       "    .dataframe tbody tr th {\n",
       "        vertical-align: top;\n",
       "    }\n",
       "\n",
       "    .dataframe thead th {\n",
       "        text-align: right;\n",
       "    }\n",
       "</style>\n",
       "<table border=\"1\" class=\"dataframe\">\n",
       "  <thead>\n",
       "    <tr style=\"text-align: right;\">\n",
       "      <th></th>\n",
       "      <th>filename</th>\n",
       "      <th>blur</th>\n",
       "      <th>brightness</th>\n",
       "      <th>cluster</th>\n",
       "      <th>distance</th>\n",
       "      <th>Labeled</th>\n",
       "      <th>uniqueness</th>\n",
       "    </tr>\n",
       "  </thead>\n",
       "  <tbody>\n",
       "    <tr>\n",
       "      <th>0</th>\n",
       "      <td>Kartaview_Dataset/Basic_set/186544_048dc_5919c...</td>\n",
       "      <td>0.287575</td>\n",
       "      <td>0.330813</td>\n",
       "      <td>12</td>\n",
       "      <td>65.820312</td>\n",
       "      <td>1</td>\n",
       "      <td>0.567779</td>\n",
       "    </tr>\n",
       "    <tr>\n",
       "      <th>1</th>\n",
       "      <td>Kartaview_Dataset/Basic_set/186544_048dc_5919c...</td>\n",
       "      <td>0.056266</td>\n",
       "      <td>0.414122</td>\n",
       "      <td>16</td>\n",
       "      <td>92.270325</td>\n",
       "      <td>1</td>\n",
       "      <td>0.667103</td>\n",
       "    </tr>\n",
       "    <tr>\n",
       "      <th>2</th>\n",
       "      <td>Kartaview_Dataset/Basic_set/186544_17988_5919c...</td>\n",
       "      <td>0.123487</td>\n",
       "      <td>0.457860</td>\n",
       "      <td>16</td>\n",
       "      <td>82.125732</td>\n",
       "      <td>1</td>\n",
       "      <td>0.571520</td>\n",
       "    </tr>\n",
       "    <tr>\n",
       "      <th>3</th>\n",
       "      <td>Kartaview_Dataset/Basic_set/186544_17988_5919c...</td>\n",
       "      <td>0.163573</td>\n",
       "      <td>0.326024</td>\n",
       "      <td>12</td>\n",
       "      <td>62.435852</td>\n",
       "      <td>1</td>\n",
       "      <td>0.524395</td>\n",
       "    </tr>\n",
       "    <tr>\n",
       "      <th>4</th>\n",
       "      <td>Kartaview_Dataset/Basic_set/186544_1d629_5919c...</td>\n",
       "      <td>0.080843</td>\n",
       "      <td>0.416676</td>\n",
       "      <td>12</td>\n",
       "      <td>58.798767</td>\n",
       "      <td>1</td>\n",
       "      <td>0.490030</td>\n",
       "    </tr>\n",
       "    <tr>\n",
       "      <th>...</th>\n",
       "      <td>...</td>\n",
       "      <td>...</td>\n",
       "      <td>...</td>\n",
       "      <td>...</td>\n",
       "      <td>...</td>\n",
       "      <td>...</td>\n",
       "      <td>...</td>\n",
       "    </tr>\n",
       "    <tr>\n",
       "      <th>11079</th>\n",
       "      <td>Kartaview_Dataset/Rest_set/938043_d85f2_5.jpg</td>\n",
       "      <td>0.091353</td>\n",
       "      <td>0.252324</td>\n",
       "      <td>2</td>\n",
       "      <td>71.612854</td>\n",
       "      <td>0</td>\n",
       "      <td>0.506924</td>\n",
       "    </tr>\n",
       "    <tr>\n",
       "      <th>11080</th>\n",
       "      <td>Kartaview_Dataset/Rest_set/938043_d85f2_6.jpg</td>\n",
       "      <td>0.087402</td>\n",
       "      <td>0.259883</td>\n",
       "      <td>18</td>\n",
       "      <td>74.585205</td>\n",
       "      <td>0</td>\n",
       "      <td>0.394525</td>\n",
       "    </tr>\n",
       "    <tr>\n",
       "      <th>11081</th>\n",
       "      <td>Kartaview_Dataset/Rest_set/938043_d85f2_7.jpg</td>\n",
       "      <td>0.087847</td>\n",
       "      <td>0.266701</td>\n",
       "      <td>18</td>\n",
       "      <td>75.289154</td>\n",
       "      <td>0</td>\n",
       "      <td>0.371970</td>\n",
       "    </tr>\n",
       "    <tr>\n",
       "      <th>11082</th>\n",
       "      <td>Kartaview_Dataset/Rest_set/938043_d85f2_8.jpg</td>\n",
       "      <td>0.080221</td>\n",
       "      <td>0.275638</td>\n",
       "      <td>18</td>\n",
       "      <td>85.636902</td>\n",
       "      <td>0</td>\n",
       "      <td>0.396644</td>\n",
       "    </tr>\n",
       "    <tr>\n",
       "      <th>11083</th>\n",
       "      <td>Kartaview_Dataset/Rest_set/938043_d85f2_9.jpg</td>\n",
       "      <td>0.074653</td>\n",
       "      <td>0.295793</td>\n",
       "      <td>18</td>\n",
       "      <td>69.663086</td>\n",
       "      <td>0</td>\n",
       "      <td>0.385884</td>\n",
       "    </tr>\n",
       "  </tbody>\n",
       "</table>\n",
       "<p>11084 rows × 7 columns</p>\n",
       "</div>"
      ],
      "text/plain": [
       "                                                filename      blur  \\\n",
       "0      Kartaview_Dataset/Basic_set/186544_048dc_5919c...  0.287575   \n",
       "1      Kartaview_Dataset/Basic_set/186544_048dc_5919c...  0.056266   \n",
       "2      Kartaview_Dataset/Basic_set/186544_17988_5919c...  0.123487   \n",
       "3      Kartaview_Dataset/Basic_set/186544_17988_5919c...  0.163573   \n",
       "4      Kartaview_Dataset/Basic_set/186544_1d629_5919c...  0.080843   \n",
       "...                                                  ...       ...   \n",
       "11079      Kartaview_Dataset/Rest_set/938043_d85f2_5.jpg  0.091353   \n",
       "11080      Kartaview_Dataset/Rest_set/938043_d85f2_6.jpg  0.087402   \n",
       "11081      Kartaview_Dataset/Rest_set/938043_d85f2_7.jpg  0.087847   \n",
       "11082      Kartaview_Dataset/Rest_set/938043_d85f2_8.jpg  0.080221   \n",
       "11083      Kartaview_Dataset/Rest_set/938043_d85f2_9.jpg  0.074653   \n",
       "\n",
       "       brightness  cluster   distance  Labeled  uniqueness  \n",
       "0        0.330813       12  65.820312        1    0.567779  \n",
       "1        0.414122       16  92.270325        1    0.667103  \n",
       "2        0.457860       16  82.125732        1    0.571520  \n",
       "3        0.326024       12  62.435852        1    0.524395  \n",
       "4        0.416676       12  58.798767        1    0.490030  \n",
       "...           ...      ...        ...      ...         ...  \n",
       "11079    0.252324        2  71.612854        0    0.506924  \n",
       "11080    0.259883       18  74.585205        0    0.394525  \n",
       "11081    0.266701       18  75.289154        0    0.371970  \n",
       "11082    0.275638       18  85.636902        0    0.396644  \n",
       "11083    0.295793       18  69.663086        0    0.385884  \n",
       "\n",
       "[11084 rows x 7 columns]"
      ]
     },
     "execution_count": 72,
     "metadata": {},
     "output_type": "execute_result"
    }
   ],
   "source": [
    "# rename first column as filename\n",
    "df_temp2.rename(columns={\"index\": \"filename\"})"
   ]
  },
  {
   "cell_type": "code",
   "execution_count": 73,
   "id": "92545e00",
   "metadata": {},
   "outputs": [],
   "source": [
    "# export 'df_temp2' as 'df_combined.csv'\n",
    "df_temp2.to_csv(uniqueness_dir + '/df_combined.csv')"
   ]
  },
  {
   "cell_type": "code",
   "execution_count": null,
   "id": "e609bc9e",
   "metadata": {},
   "outputs": [],
   "source": []
  }
 ],
 "metadata": {
  "kernelspec": {
   "display_name": "Python 3",
   "language": "python",
   "name": "python3"
  },
  "language_info": {
   "codemirror_mode": {
    "name": "ipython",
    "version": 3
   },
   "file_extension": ".py",
   "mimetype": "text/x-python",
   "name": "python",
   "nbconvert_exporter": "python",
   "pygments_lexer": "ipython3",
   "version": "3.7.13"
  }
 },
 "nbformat": 4,
 "nbformat_minor": 5
}
