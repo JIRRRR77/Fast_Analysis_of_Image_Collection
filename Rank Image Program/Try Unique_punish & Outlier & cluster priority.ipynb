{
 "cells": [
  {
   "cell_type": "code",
   "execution_count": 1,
   "id": "2ec93b26",
   "metadata": {},
   "outputs": [],
   "source": [
    "import pandas as pd\n",
    "import fastdup\n",
    "import cv2\n",
    "import os"
   ]
  },
  {
   "cell_type": "code",
   "execution_count": 2,
   "id": "0c8b9cd8",
   "metadata": {},
   "outputs": [],
   "source": [
    "import numpy as np"
   ]
  },
  {
   "cell_type": "code",
   "execution_count": 3,
   "id": "450e94c9",
   "metadata": {},
   "outputs": [],
   "source": [
    "import math"
   ]
  },
  {
   "cell_type": "markdown",
   "id": "a1213b95",
   "metadata": {},
   "source": [
    "# 1. Create dict based on kmeans_assignments.csv"
   ]
  },
  {
   "cell_type": "code",
   "execution_count": 4,
   "id": "8c86a640",
   "metadata": {},
   "outputs": [],
   "source": [
    "# read 'kmeans_assignments.csv' and save as 'df'\n",
    "df = pd.read_csv(\"~/Documents/New Fast Image Analysis/Karta_out/kmeans_assignments.csv\")"
   ]
  },
  {
   "cell_type": "code",
   "execution_count": 5,
   "id": "19342cd7",
   "metadata": {},
   "outputs": [],
   "source": [
    "# create unique list of clusters\n",
    "UniqueClusters = df.cluster.unique()"
   ]
  },
  {
   "cell_type": "code",
   "execution_count": 6,
   "id": "0a259de1",
   "metadata": {},
   "outputs": [],
   "source": [
    "# create a data frame dictionary to store your data frames\n",
    "DataFrameDict = {elem : pd.DataFrame() for elem in UniqueClusters}\n",
    "\n",
    "for key in DataFrameDict.keys():\n",
    "    DataFrameDict[key] = df[:][df.cluster == key]"
   ]
  },
  {
   "cell_type": "code",
   "execution_count": 7,
   "id": "7ea09df6",
   "metadata": {},
   "outputs": [
    {
     "name": "stdout",
     "output_type": "stream",
     "text": [
      "3 438\n",
      "7 413\n",
      "6 668\n",
      "18 122\n",
      "17 412\n",
      "2 338\n",
      "13 308\n",
      "19 606\n",
      "16 633\n",
      "9 265\n",
      "21 139\n",
      "20 337\n",
      "12 577\n",
      "0 146\n",
      "8 572\n",
      "1 435\n",
      "15 200\n",
      "23 466\n",
      "25 182\n",
      "24 382\n",
      "22 667\n",
      "14 683\n",
      "5 194\n",
      "4 670\n",
      "10 713\n",
      "11 518\n"
     ]
    }
   ],
   "source": [
    "for key in DataFrameDict.keys():\n",
    "    print(key, len(DataFrameDict[key]))"
   ]
  },
  {
   "cell_type": "markdown",
   "id": "4e038766",
   "metadata": {},
   "source": [
    "# 2. Save images into different folders based on clusters"
   ]
  },
  {
   "cell_type": "code",
   "execution_count": 8,
   "id": "b7f0632a",
   "metadata": {},
   "outputs": [],
   "source": [
    "# make parent folder\n",
    "sorted_folder = '/home/yiwei/Documents/New Fast Image Analysis/Karta_sorted_images'\n",
    "os.makedirs(sorted_folder, exist_ok=True)"
   ]
  },
  {
   "cell_type": "code",
   "execution_count": 38,
   "id": "d5b3f9e8",
   "metadata": {},
   "outputs": [],
   "source": [
    "startingDir = os.getcwd()\n",
    "\n",
    "for key in DataFrameDict.keys():\n",
    "    # define cluster specific folder\n",
    "    specific_path = os.path.join(sorted_folder, str(key))\n",
    "    if not os.path.exists(specific_path):\n",
    "        os.makedirs(specific_path)\n",
    "            \n",
    "    for image_path in DataFrameDict[key]['filename']:\n",
    "        # Using cv2.imread() method to read the image\n",
    "        img = cv2.imread('/home/yiwei/Documents/New Fast Image Analysis/' + image_path)\n",
    "        # Filename\n",
    "        filename = image_path.split('/')[-1]\n",
    "        # Change the current directory to specified directory \n",
    "        os.chdir(specific_path)\n",
    "        # Using cv2.imwrite() method to save the image\n",
    "        cv2.imwrite(filename, img)\n",
    "        # change back to original directoy\n",
    "        os.chdir(startingDir)"
   ]
  },
  {
   "cell_type": "markdown",
   "id": "c8128cdf",
   "metadata": {},
   "source": [
    "# 3. Define fastdup function"
   ]
  },
  {
   "cell_type": "code",
   "execution_count": 18,
   "id": "a7b0884c",
   "metadata": {},
   "outputs": [],
   "source": [
    "# define fastdup run function baesd on cluster id\n",
    "def fastdup_run_cluster(cluster_id):\n",
    "    # run fastdup\n",
    "    fastdup.run(input_dir = \"./Karta_sorted_images/\"+str(cluster_id), \n",
    "                work_dir = './Karta_sorted_images/'+str(cluster_id)+'_out')"
   ]
  },
  {
   "cell_type": "markdown",
   "id": "3bf17be1",
   "metadata": {},
   "source": [
    "## 3.1 Use create_similarity_gallery"
   ]
  },
  {
   "cell_type": "code",
   "execution_count": 19,
   "id": "6d938f85",
   "metadata": {},
   "outputs": [],
   "source": [
    "# define results directory baesd on cluster id\n",
    "def results_dir_cluster(cluster_id):\n",
    "    return '/home/yiwei/Documents/New Fast Image Analysis/Karta_sorted_images/'+str(cluster_id)+'_out'"
   ]
  },
  {
   "cell_type": "code",
   "execution_count": 29,
   "id": "9d2b2184",
   "metadata": {},
   "outputs": [],
   "source": [
    "# define fastdup similar gallery function baesd on cluster id\n",
    "# and return similarity dataframe\n",
    "def fastdup_similar_gallery(results_dir, cluster_id):\n",
    "    similar_gallery_save_path = os.path.join(results_dir, 'similar-gallery')\n",
    "    if not os.path.exists(similar_gallery_save_path):\n",
    "        os.makedirs(similar_gallery_save_path)\n",
    "    \n",
    "    df_simi = fastdup.create_similarity_gallery(results_dir, save_path=similar_gallery_save_path)\n",
    "    \n",
    "    df_simi.to_csv(similar_gallery_save_path + '/df_simi_'+str(cluster_id)+'.csv')\n",
    "    return df_simi"
   ]
  },
  {
   "cell_type": "markdown",
   "id": "f62524d2",
   "metadata": {},
   "source": [
    "## 3.2 Set uniqueness punishment score"
   ]
  },
  {
   "cell_type": "code",
   "execution_count": 38,
   "id": "7dccc4b4",
   "metadata": {},
   "outputs": [],
   "source": [
    "# generate uniqueness punishment score based on cluster id\n",
    "def uniqueness_punishment_score(df_simi, results_dir, cluster_id):\n",
    "    df_uniq = pd.DataFrame(columns=['filepath', 'uniqueness punishment'])\n",
    "    \n",
    "    for i in range(len(df_simi)):\n",
    "        # check if item from 'from' column already exists in 'df_temp'\n",
    "        # if yes, then pass; if not, then save it and its punishment value to 'df_temp'\n",
    "        if df_simi['from'][i] in df_uniq['filepath'].values:\n",
    "            pass\n",
    "        else:\n",
    "            row_from = [df_simi['from'][i], 1.0]\n",
    "            df_uniq.loc[len(df_uniq)] = row_from\n",
    "    \n",
    "        for j in range(len(df_simi['to'][i])):\n",
    "            # check if item from 'to' column already exists in 'df_temp'\n",
    "            # if yes, set the latest punishment value as 0.5; if not, pass\n",
    "            if df_simi['to'][i][j] in df_uniq['filepath'].values:\n",
    "                df_uniq.at[len(df_uniq)-1, 'uniqueness punishment'] = 0.5\n",
    "            else:\n",
    "                pass\n",
    "    \n",
    "        for j in range(len(df_simi['to'][i])):\n",
    "            # check if item from 'to' column already exists in 'df_temp'\n",
    "            # if yes, pass; if not, then save it and its punishment value to 'df_temp'\n",
    "            if df_simi['to'][i][j] in df_uniq['filepath'].values:\n",
    "                pass\n",
    "            else:\n",
    "                row_to = [df_simi['to'][i][j], 0.5]\n",
    "                df_uniq.loc[len(df_uniq)] = row_to\n",
    "                \n",
    "    # export 'df_uniq' as 'cluster_id_uniqueness_punishment_score.csv'\n",
    "    df_uniq.to_csv(results_dir + '/cluster_'+str(cluster_id)+'_uniqueness_punishment_score.csv')"
   ]
  },
  {
   "cell_type": "markdown",
   "id": "16be95f7",
   "metadata": {},
   "source": [
    "## 3.3 Use create_outliers_gallery"
   ]
  },
  {
   "cell_type": "code",
   "execution_count": 22,
   "id": "81d0c77c",
   "metadata": {},
   "outputs": [],
   "source": [
    "# generate outliers based on cluster id\n",
    "def fastdup_outlier_gallery(results_dir, cluster_id):\n",
    "    outlier_gallery_save_path = os.path.join(results_dir, 'outlier-gallery')\n",
    "    if not os.path.exists(outlier_gallery_save_path):\n",
    "        os.makedirs(outlier_gallery_save_path)\n",
    "    \n",
    "    fastdup.create_outliers_gallery(results_dir, save_path=outlier_gallery_save_path)\n",
    "    \n",
    "    df_outl = pd.DataFrame(columns=['filepath', 'outlier distance'])\n",
    "    \n",
    "    df_outl_temp = pd.read_csv(results_dir+\"/outliers.csv\")\n",
    "    \n",
    "    for i in range(len(df_outl_temp)):\n",
    "        # check if item from 'from' column already exists in 'df_outl'\n",
    "        # if yes, then pass; if not, then save it and its outlier distance to 'df_outl'\n",
    "        if df_outl_temp['from'][i] in df_outl['filepath'].values:\n",
    "            pass\n",
    "        else:\n",
    "            row_from = [df_outl_temp['from'][i], df_outl_temp['distance'][i]]\n",
    "            df_outl.loc[len(df_outl)] = row_from\n",
    "            \n",
    "    # export 'df_outl' as 'cluster_id_outlier_distance.csv'\n",
    "    df_outl.to_csv(outlier_gallery_save_path + '/cluster_'+str(cluster_id)+'_outlier_distance.csv')"
   ]
  },
  {
   "cell_type": "markdown",
   "id": "d18b2bfa",
   "metadata": {},
   "source": [
    "# 4. Run Function from step3 respectively on clusters"
   ]
  },
  {
   "cell_type": "code",
   "execution_count": 47,
   "id": "2ee6c78f",
   "metadata": {},
   "outputs": [
    {
     "name": "stdout",
     "output_type": "stream",
     "text": [
      "FastDup Software, (C) copyright 2022 Dr. Amir Alush and Dr. Danny Bickson.\n",
      "Going to loop over dir Karta_sorted_images/3\n",
      "Found total 438 images to run on\n",
      "Found total 438 images to run on■■■■■■■■■■■■■■■■■■■] 100% Estimated: 0 Minutes 0 Features\n",
      "81) Finished write_index() NN model\n",
      "Stored nn model index file Karta_sorted_images/3_out/nnf.index\n",
      "Total time took 6108 ms\n",
      "Found a total of 0 fully identical images (d>0.990), which are 0.00 %\n",
      "Found a total of 2 nearly identical images(d>0.980), which are 0.15 %\n",
      "Found a total of 287 above threshold images (d>0.900), which are 21.84 %\n",
      "Found a total of 43 outlier images         (d<0.050), which are 3.27 %\n",
      "Min distance found 0.636 max distance 0.985\n",
      "\u001b[1;32m1676546142 : INFO:     (add_vertices:460): Num vertices for group 0: 438\n",
      "\u001b[0m\u001b[1;32m1676546142 : INFO:     (commit_edge_buffer:609): In commit edge buffer (0,0)\n",
      "\u001b[0m\u001b[1;32m1676546142 : INFO:     (commit_edge_buffer:680): Shuffling edges ...\n",
      "\u001b[0m\u001b[1;32m1676546142 : INFO:     (commit_edge_buffer:688): Done shuffling edges in 0.003772 secs\n",
      "\u001b[0m\u001b[1;32m1676546142 : INFO:     (commit_edge_buffer:692): Aggregating unique vertices...\n",
      "\u001b[0m\u001b[1;32m1676546142 : INFO:     (commit_edge_buffer:705): Done aggregating unique vertex in 0.000635 secs\n",
      "\u001b[0m\u001b[1;32m1676546142 : INFO:     (commit_edge_buffer:713): Combine vertex data\n",
      "\u001b[0m\u001b[1;32m1676546142 : INFO:     (commit_edge_buffer:779): Done phase 2 in 0.000796 secs\n",
      "\u001b[0m\u001b[1;32m1676546142 : INFO:     (commit_edge_buffer:787): Rename id columns \n",
      "\u001b[0m\u001b[1;32m1676546142 : INFO:     (commit_edge_buffer:890): Done in 0.007683 secs\n",
      "\u001b[0m\u001b[1;32m1676546142 : INFO:     (commit_edge_buffer:892): Finish committing edge in 0.012907 secs\n",
      "\u001b[0m\u001b[1;32m1676546142 : INFO:     (add_edges:584): Num vertices for group 0: 438\n",
      "\u001b[0m\u001b[1;32mNum vertices for group 0: 438\n",
      "\u001b[0m\u001b[1;32mNum edges 0 -> 0: 2\n",
      "\u001b[0m1676546142 : PROGRESS: (_p:516): +-----------------------------+\n",
      "\u001b[0m1676546142 : PROGRESS: (_p:516): | Number of components merged |\n",
      "\u001b[0m1676546142 : PROGRESS: (_p:516): +-----------------------------+\n",
      "\u001b[0m1676546142 : PROGRESS: (_p:516): | 2                           |\n",
      "\u001b[0m1676546142 : PROGRESS: (_p:516): | 0                           |\n",
      "\u001b[0m1676546142 : PROGRESS: (_p:516): +-----------------------------+\n",
      "\u001b[0m1676546142 : PROGRESS: (triple_apply_pagerank:69): Counting out degree\n",
      "\u001b[0m1676546142 : PROGRESS: (triple_apply_pagerank:78): Done counting out degree\n",
      "\u001b[0m1676546142 : PROGRESS: (_p:516): +-----------+-----------------------+\n",
      "\u001b[0m1676546142 : PROGRESS: (_p:516): | Iteration | L1 change in pagerank |\n",
      "\u001b[0m1676546142 : PROGRESS: (_p:516): +-----------+-----------------------+\n",
      "\u001b[0m1676546142 : PROGRESS: (_p:516): | 1         | 370.6                 |\n",
      "\u001b[0m1676546142 : PROGRESS: (_p:516): | 2         | 0                     |\n",
      "\u001b[0m1676546142 : PROGRESS: (_p:516): +-----------+-----------------------+\n",
      "\u001b[0mWrote total of 438 components \n"
     ]
    },
    {
     "name": "stderr",
     "output_type": "stream",
     "text": [
      "100%|██████████████████████████████████████████████████████████████████████████████| 20/20 [00:00<00:00, 30.82it/s]\n"
     ]
    },
    {
     "name": "stdout",
     "output_type": "stream",
     "text": [
      "Stored similar images view in  /home/yiwei/Documents/New Fast Image Analysis/Karta_sorted_images/3_out/similar-gallery/topk_similarity.html\n",
      "read outliers 43\n"
     ]
    },
    {
     "name": "stderr",
     "output_type": "stream",
     "text": [
      "100%|███████████████████████████████████████████████████████████████████████████| 20/20 [00:00<00:00, 14561.03it/s]\n"
     ]
    },
    {
     "name": "stdout",
     "output_type": "stream",
     "text": [
      "Stored outliers visual view in  /home/yiwei/Documents/New Fast Image Analysis/Karta_sorted_images/3_out/outlier-gallery/outliers.html\n",
      "FastDup Software, (C) copyright 2022 Dr. Amir Alush and Dr. Danny Bickson.\n",
      "Going to loop over dir Karta_sorted_images/7\n",
      "Found total 413 images to run on\n",
      "Found total 413 images to run on■■■■■■■■■■■■■■■■■■■] 100% Estimated: 0 Minutes 0 Features\n",
      "51) Finished write_index() NN model\n",
      "Stored nn model index file Karta_sorted_images/7_out/nnf.index\n",
      "Total time took 12085 ms\n",
      "Found a total of 0 fully identical images (d>0.990), which are 0.00 %\n",
      "Found a total of 0 nearly identical images(d>0.980), which are 0.00 %\n",
      "Found a total of 130 above threshold images (d>0.900), which are 10.49 %\n",
      "Found a total of 41 outlier images         (d<0.050), which are 3.31 %\n",
      "Min distance found 0.709 max distance 0.976\n",
      "\u001b[1;32m1676546157 : INFO:     (add_vertices:460): Num vertices for group 0: 413\n",
      "\u001b[0m1676546157 : PROGRESS: (_p:516): +-----------------------------+\n",
      "\u001b[0m1676546157 : PROGRESS: (_p:516): | Number of components merged |\n",
      "\u001b[0m1676546157 : PROGRESS: (_p:516): +-----------------------------+\n",
      "\u001b[0m1676546157 : PROGRESS: (_p:516): | 0                           |\n",
      "\u001b[0m1676546157 : PROGRESS: (_p:516): +-----------------------------+\n",
      "\u001b[0m1676546157 : PROGRESS: (triple_apply_pagerank:69): Counting out degree\n",
      "\u001b[0m1676546157 : PROGRESS: (triple_apply_pagerank:78): Done counting out degree\n",
      "\u001b[0m1676546157 : PROGRESS: (_p:516): +-----------+-----------------------+\n",
      "\u001b[0m1676546157 : PROGRESS: (_p:516): | Iteration | L1 change in pagerank |\n",
      "\u001b[0m1676546157 : PROGRESS: (_p:516): +-----------+-----------------------+\n",
      "\u001b[0m1676546157 : PROGRESS: (_p:516): | 1         | 351.05                |\n",
      "\u001b[0m1676546157 : PROGRESS: (_p:516): | 2         | 0                     |\n",
      "\u001b[0m1676546157 : PROGRESS: (_p:516): +-----------+-----------------------+\n",
      "\u001b[0mWrote total of 413 components \n"
     ]
    },
    {
     "name": "stderr",
     "output_type": "stream",
     "text": [
      "100%|██████████████████████████████████████████████████████████████████████████████| 20/20 [00:00<00:00, 32.81it/s]\n"
     ]
    },
    {
     "name": "stdout",
     "output_type": "stream",
     "text": [
      "Stored similar images view in  /home/yiwei/Documents/New Fast Image Analysis/Karta_sorted_images/7_out/similar-gallery/topk_similarity.html\n",
      "read outliers 41\n"
     ]
    },
    {
     "name": "stderr",
     "output_type": "stream",
     "text": [
      "100%|███████████████████████████████████████████████████████████████████████████| 20/20 [00:00<00:00, 31583.61it/s]\n"
     ]
    },
    {
     "name": "stdout",
     "output_type": "stream",
     "text": [
      "Stored outliers visual view in  /home/yiwei/Documents/New Fast Image Analysis/Karta_sorted_images/7_out/outlier-gallery/outliers.html\n",
      "FastDup Software, (C) copyright 2022 Dr. Amir Alush and Dr. Danny Bickson.\n",
      "Going to loop over dir Karta_sorted_images/6\n",
      "Found total 668 images to run on\n",
      "Found total 668 images to run on■■■■■■■■■■■■■■■■■■■] 100% Estimated: 0 Minutes 0 Features\n",
      "131) Finished write_index() NN model\n",
      "Stored nn model index file Karta_sorted_images/6_out/nnf.index\n",
      "Total time took 22168 ms\n",
      "Found a total of 0 fully identical images (d>0.990), which are 0.00 %\n",
      "Found a total of 2 nearly identical images(d>0.980), which are 0.10 %\n",
      "Found a total of 1005 above threshold images (d>0.900), which are 50.15 %\n",
      "Found a total of 66 outlier images         (d<0.050), which are 3.29 %\n",
      "Min distance found 0.667 max distance 0.986\n",
      "\u001b[1;32m1676546181 : INFO:     (add_vertices:460): Num vertices for group 0: 668\n",
      "\u001b[0m\u001b[1;32m1676546181 : INFO:     (commit_edge_buffer:609): In commit edge buffer (0,0)\n",
      "\u001b[0m\u001b[1;32m1676546181 : INFO:     (commit_edge_buffer:680): Shuffling edges ...\n",
      "\u001b[0m\u001b[1;32m1676546181 : INFO:     (commit_edge_buffer:688): Done shuffling edges in 0.003744 secs\n",
      "\u001b[0m\u001b[1;32m1676546181 : INFO:     (commit_edge_buffer:692): Aggregating unique vertices...\n",
      "\u001b[0m\u001b[1;32m1676546181 : INFO:     (commit_edge_buffer:705): Done aggregating unique vertex in 0.000626 secs\n",
      "\u001b[0m\u001b[1;32m1676546181 : INFO:     (commit_edge_buffer:713): Combine vertex data\n",
      "\u001b[0m\u001b[1;32m1676546181 : INFO:     (commit_edge_buffer:779): Done phase 2 in 0.000856 secs\n",
      "\u001b[0m\u001b[1;32m1676546181 : INFO:     (commit_edge_buffer:787): Rename id columns \n",
      "\u001b[0m\u001b[1;32m1676546181 : INFO:     (commit_edge_buffer:890): Done in 0.007533 secs\n",
      "\u001b[0m\u001b[1;32m1676546181 : INFO:     (commit_edge_buffer:892): Finish committing edge in 0.012781 secs\n",
      "\u001b[0m\u001b[1;32m1676546181 : INFO:     (add_edges:584): Num vertices for group 0: 668\n",
      "\u001b[0m\u001b[1;32mNum vertices for group 0: 668\n",
      "\u001b[0m\u001b[1;32mNum edges 0 -> 0: 2\n",
      "\u001b[0m1676546181 : PROGRESS: (_p:516): +-----------------------------+\n",
      "\u001b[0m1676546181 : PROGRESS: (_p:516): | Number of components merged |\n",
      "\u001b[0m1676546181 : PROGRESS: (_p:516): +-----------------------------+\n",
      "\u001b[0m1676546181 : PROGRESS: (_p:516): | 1                           |\n",
      "\u001b[0m1676546181 : PROGRESS: (_p:516): | 0                           |\n",
      "\u001b[0m1676546181 : PROGRESS: (_p:516): +-----------------------------+\n",
      "\u001b[0m1676546181 : PROGRESS: (triple_apply_pagerank:69): Counting out degree\n",
      "\u001b[0m1676546181 : PROGRESS: (triple_apply_pagerank:78): Done counting out degree\n",
      "\u001b[0m1676546181 : PROGRESS: (_p:516): +-----------+-----------------------+\n",
      "\u001b[0m1676546181 : PROGRESS: (_p:516): | Iteration | L1 change in pagerank |\n",
      "\u001b[0m1676546181 : PROGRESS: (_p:516): +-----------+-----------------------+\n",
      "\u001b[0m1676546181 : PROGRESS: (_p:516): | 1         | 566.1                 |\n",
      "\u001b[0m1676546181 : PROGRESS: (_p:516): | 2         | 0                     |\n",
      "\u001b[0m1676546181 : PROGRESS: (_p:516): +-----------+-----------------------+\n",
      "\u001b[0mWrote total of 668 components \n"
     ]
    },
    {
     "name": "stderr",
     "output_type": "stream",
     "text": [
      "100%|██████████████████████████████████████████████████████████████████████████████| 20/20 [00:00<00:00, 30.95it/s]\n"
     ]
    },
    {
     "name": "stdout",
     "output_type": "stream",
     "text": [
      "Stored similar images view in  /home/yiwei/Documents/New Fast Image Analysis/Karta_sorted_images/6_out/similar-gallery/topk_similarity.html\n",
      "read outliers 66\n"
     ]
    },
    {
     "name": "stderr",
     "output_type": "stream",
     "text": [
      "100%|███████████████████████████████████████████████████████████████████████████| 20/20 [00:00<00:00, 31619.33it/s]\n"
     ]
    },
    {
     "name": "stdout",
     "output_type": "stream",
     "text": [
      "Stored outliers visual view in  /home/yiwei/Documents/New Fast Image Analysis/Karta_sorted_images/6_out/outlier-gallery/outliers.html\n",
      "FastDup Software, (C) copyright 2022 Dr. Amir Alush and Dr. Danny Bickson.\n",
      "Going to loop over dir Karta_sorted_images/18\n",
      "Found total 122 images to run on\n",
      "Found total 122 images to run on■■■■■■■■■■■■■■■■■■■] 100% Estimated: 0 Minutes 0 Features\n",
      "30) Finished write_index() NN model\n",
      "Stored nn model index file Karta_sorted_images/18_out/nnf.index\n",
      "Total time took 5039 ms\n",
      "Found a total of 0 fully identical images (d>0.990), which are 0.00 %\n",
      "Found a total of 16 nearly identical images(d>0.980), which are 4.37 %\n",
      "Found a total of 191 above threshold images (d>0.900), which are 52.19 %\n",
      "Found a total of 12 outlier images         (d<0.050), which are 3.28 %\n",
      "Min distance found 0.715 max distance 0.986\n",
      "\u001b[1;32m1676546188 : INFO:     (add_vertices:460): Num vertices for group 0: 122\n",
      "\u001b[0m\u001b[1;32m1676546188 : INFO:     (commit_edge_buffer:609): In commit edge buffer (0,0)\n",
      "\u001b[0m\u001b[1;32m1676546188 : INFO:     (commit_edge_buffer:680): Shuffling edges ...\n",
      "\u001b[0m\u001b[1;32m1676546188 : INFO:     (commit_edge_buffer:688): Done shuffling edges in 0.004106 secs\n",
      "\u001b[0m\u001b[1;32m1676546188 : INFO:     (commit_edge_buffer:692): Aggregating unique vertices...\n",
      "\u001b[0m\u001b[1;32m1676546188 : INFO:     (commit_edge_buffer:705): Done aggregating unique vertex in 0.000779 secs\n",
      "\u001b[0m\u001b[1;32m1676546188 : INFO:     (commit_edge_buffer:713): Combine vertex data\n",
      "\u001b[0m\u001b[1;32m1676546188 : INFO:     (commit_edge_buffer:779): Done phase 2 in 0.000715 secs\n",
      "\u001b[0m\u001b[1;32m1676546188 : INFO:     (commit_edge_buffer:787): Rename id columns \n",
      "\u001b[0m\u001b[1;32m1676546188 : INFO:     (commit_edge_buffer:890): Done in 0.007648 secs\n",
      "\u001b[0m\u001b[1;32m1676546188 : INFO:     (commit_edge_buffer:892): Finish committing edge in 0.013271 secs\n",
      "\u001b[0m\u001b[1;32m1676546188 : INFO:     (add_edges:584): Num vertices for group 0: 122\n",
      "\u001b[0m\u001b[1;32mNum vertices for group 0: 122\n",
      "\u001b[0m\u001b[1;32mNum edges 0 -> 0: 16\n",
      "\u001b[0m1676546188 : PROGRESS: (_p:516): +-----------------------------+\n",
      "\u001b[0m1676546188 : PROGRESS: (_p:516): | Number of components merged |\n",
      "\u001b[0m1676546188 : PROGRESS: (_p:516): +-----------------------------+\n",
      "\u001b[0m1676546188 : PROGRESS: (_p:516): | 7                           |\n",
      "\u001b[0m1676546188 : PROGRESS: (_p:516): | 0                           |\n",
      "\u001b[0m1676546188 : PROGRESS: (_p:516): +-----------------------------+\n",
      "\u001b[0m1676546188 : PROGRESS: (triple_apply_pagerank:69): Counting out degree\n",
      "\u001b[0m1676546188 : PROGRESS: (triple_apply_pagerank:78): Done counting out degree\n",
      "\u001b[0m1676546188 : PROGRESS: (_p:516): +-----------+-----------------------+\n",
      "\u001b[0m1676546188 : PROGRESS: (_p:516): | Iteration | L1 change in pagerank |\n",
      "\u001b[0m1676546188 : PROGRESS: (_p:516): +-----------+-----------------------+\n",
      "\u001b[0m1676546188 : PROGRESS: (_p:516): | 1         | 92.65                 |\n",
      "\u001b[0m1676546188 : PROGRESS: (_p:516): | 2         | 0                     |\n",
      "\u001b[0m1676546188 : PROGRESS: (_p:516): +-----------+-----------------------+\n",
      "\u001b[0mWrote total of 122 components \n"
     ]
    },
    {
     "name": "stderr",
     "output_type": "stream",
     "text": [
      "100%|██████████████████████████████████████████████████████████████████████████████| 20/20 [00:00<00:00, 29.64it/s]\n"
     ]
    },
    {
     "name": "stdout",
     "output_type": "stream",
     "text": [
      "Stored similar images view in  /home/yiwei/Documents/New Fast Image Analysis/Karta_sorted_images/18_out/similar-gallery/topk_similarity.html\n",
      "read outliers 12\n"
     ]
    },
    {
     "name": "stderr",
     "output_type": "stream",
     "text": [
      "100%|█████████████████████████████████████████████████████████████████████████████| 7/7 [00:00<00:00, 20164.92it/s]\n"
     ]
    },
    {
     "name": "stdout",
     "output_type": "stream",
     "text": [
      "Stored outliers visual view in  /home/yiwei/Documents/New Fast Image Analysis/Karta_sorted_images/18_out/outlier-gallery/outliers.html\n",
      "FastDup Software, (C) copyright 2022 Dr. Amir Alush and Dr. Danny Bickson.\n",
      "Going to loop over dir Karta_sorted_images/17\n",
      "Found total 412 images to run on\n",
      "Found total 412 images to run on■■■■■■■■■■■■■■■■■■■] 100% Estimated: 0 Minutes 0 Features\n",
      "140) Finished write_index() NN model\n",
      "Stored nn model index file Karta_sorted_images/17_out/nnf.index\n",
      "Total time took 17181 ms\n",
      "Found a total of 49 fully identical images (d>0.990), which are 3.96 %\n",
      "Found a total of 97 nearly identical images(d>0.980), which are 7.85 %\n",
      "Found a total of 332 above threshold images (d>0.900), which are 26.86 %\n",
      "Found a total of 41 outlier images         (d<0.050), which are 3.32 %\n",
      "Min distance found 0.688 max distance 0.997\n",
      "\u001b[1;32m1676546208 : INFO:     (add_vertices:460): Num vertices for group 0: 412\n",
      "\u001b[0m\u001b[1;32m1676546208 : INFO:     (commit_edge_buffer:609): In commit edge buffer (0,0)\n",
      "\u001b[0m\u001b[1;32m1676546208 : INFO:     (commit_edge_buffer:680): Shuffling edges ...\n",
      "\u001b[0m\u001b[1;32m1676546208 : INFO:     (commit_edge_buffer:688): Done shuffling edges in 0.00428 secs\n",
      "\u001b[0m\u001b[1;32m1676546208 : INFO:     (commit_edge_buffer:692): Aggregating unique vertices...\n",
      "\u001b[0m\u001b[1;32m1676546208 : INFO:     (commit_edge_buffer:705): Done aggregating unique vertex in 0.000945 secs\n",
      "\u001b[0m\u001b[1;32m1676546208 : INFO:     (commit_edge_buffer:713): Combine vertex data\n",
      "\u001b[0m\u001b[1;32m1676546208 : INFO:     (commit_edge_buffer:779): Done phase 2 in 0.000832 secs\n",
      "\u001b[0m\u001b[1;32m1676546208 : INFO:     (commit_edge_buffer:787): Rename id columns \n",
      "\u001b[0m\u001b[1;32m1676546208 : INFO:     (commit_edge_buffer:890): Done in 0.009036 secs\n",
      "\u001b[0m\u001b[1;32m1676546208 : INFO:     (commit_edge_buffer:892): Finish committing edge in 0.015116 secs\n",
      "\u001b[0m\u001b[1;32m1676546208 : INFO:     (add_edges:584): Num vertices for group 0: 412\n",
      "\u001b[0m\u001b[1;32mNum vertices for group 0: 412\n",
      "\u001b[0m\u001b[1;32mNum edges 0 -> 0: 146\n",
      "\u001b[0m1676546208 : PROGRESS: (_p:516): +-----------------------------+\n",
      "\u001b[0m1676546208 : PROGRESS: (_p:516): | Number of components merged |\n",
      "\u001b[0m1676546208 : PROGRESS: (_p:516): +-----------------------------+\n",
      "\u001b[0m1676546208 : PROGRESS: (_p:516): | 132                         |\n",
      "\u001b[0m1676546208 : PROGRESS: (_p:516): | 0                           |\n",
      "\u001b[0m1676546208 : PROGRESS: (_p:516): +-----------------------------+\n",
      "\u001b[0m1676546208 : PROGRESS: (triple_apply_pagerank:69): Counting out degree\n",
      "\u001b[0m1676546208 : PROGRESS: (triple_apply_pagerank:78): Done counting out degree\n",
      "\u001b[0m1676546208 : PROGRESS: (_p:516): +-----------+-----------------------+\n",
      "\u001b[0m1676546208 : PROGRESS: (_p:516): | Iteration | L1 change in pagerank |\n",
      "\u001b[0m1676546208 : PROGRESS: (_p:516): +-----------+-----------------------+\n",
      "\u001b[0m1676546208 : PROGRESS: (_p:516): | 1         | 326.4                 |\n",
      "\u001b[0m1676546208 : PROGRESS: (_p:516): | 2         | 19.1462               |\n",
      "\u001b[0m1676546208 : PROGRESS: (_p:516): | 3         | 9.21187               |\n",
      "\u001b[0m1676546208 : PROGRESS: (_p:516): | 4         | 6.00307               |\n",
      "\u001b[0m1676546208 : PROGRESS: (_p:516): | 5         | 3.79923               |\n",
      "\u001b[0m1676546208 : PROGRESS: (_p:516): | 6         | 2.68719               |\n",
      "\u001b[0m1676546208 : PROGRESS: (_p:516): | 7         | 2.02364               |\n",
      "\u001b[0m1676546208 : PROGRESS: (_p:516): | 8         | 1.49657               |\n",
      "\u001b[0m1676546208 : PROGRESS: (_p:516): | 9         | 1.17166               |\n",
      "\u001b[0m1676546208 : PROGRESS: (_p:516): | 10        | 0.894779              |\n",
      "\u001b[0m1676546208 : PROGRESS: (_p:516): | 11        | 0.713333              |\n",
      "\u001b[0m1676546208 : PROGRESS: (_p:516): | 12        | 0.563271              |\n",
      "\u001b[0m1676546208 : PROGRESS: (_p:516): | 13        | 0.453335              |\n",
      "\u001b[0m1676546208 : PROGRESS: (_p:516): | 14        | 0.36318               |\n",
      "\u001b[0m1676546208 : PROGRESS: (_p:516): | 15        | 0.293646              |\n",
      "\u001b[0m1676546208 : PROGRESS: (_p:516): | 16        | 0.237707              |\n",
      "\u001b[0m1676546208 : PROGRESS: (_p:516): | 17        | 0.193494              |\n",
      "\u001b[0m1676546208 : PROGRESS: (_p:516): | 18        | 0.158018              |\n",
      "\u001b[0m1676546208 : PROGRESS: (_p:516): | 19        | 0.129523              |\n",
      "\u001b[0m1676546208 : PROGRESS: (_p:516): | 20        | 0.106563              |\n",
      "\u001b[0m1676546208 : PROGRESS: (_p:516): +-----------+-----------------------+\n",
      "\u001b[0mWrote total of 412 components \n"
     ]
    },
    {
     "name": "stderr",
     "output_type": "stream",
     "text": [
      "100%|██████████████████████████████████████████████████████████████████████████████| 20/20 [00:00<00:00, 27.65it/s]\n"
     ]
    },
    {
     "name": "stdout",
     "output_type": "stream",
     "text": [
      "Stored similar images view in  /home/yiwei/Documents/New Fast Image Analysis/Karta_sorted_images/17_out/similar-gallery/topk_similarity.html\n",
      "read outliers 41\n"
     ]
    },
    {
     "name": "stderr",
     "output_type": "stream",
     "text": [
      "100%|███████████████████████████████████████████████████████████████████████████| 20/20 [00:00<00:00, 16657.28it/s]\n"
     ]
    },
    {
     "name": "stdout",
     "output_type": "stream",
     "text": [
      "Stored outliers visual view in  /home/yiwei/Documents/New Fast Image Analysis/Karta_sorted_images/17_out/outlier-gallery/outliers.html\n",
      "FastDup Software, (C) copyright 2022 Dr. Amir Alush and Dr. Danny Bickson.\n",
      "Going to loop over dir Karta_sorted_images/2\n",
      "Found total 338 images to run on\n",
      "Found total 338 images to run on■■■■■■■■■■■■■■■■■■■] 100% Estimated: 0 Minutes 0 Features\n",
      "32) Finished write_index() NN model\n",
      "Stored nn model index file Karta_sorted_images/2_out/nnf.index\n",
      "Total time took 11051 ms\n",
      "Found a total of 0 fully identical images (d>0.990), which are 0.00 %\n",
      "Found a total of 93 nearly identical images(d>0.980), which are 9.17 %\n",
      "Found a total of 545 above threshold images (d>0.900), which are 53.75 %\n",
      "Found a total of 33 outlier images         (d<0.050), which are 3.25 %\n",
      "Min distance found 0.731 max distance 0.989\n",
      "\u001b[1;32m1676546221 : INFO:     (add_vertices:460): Num vertices for group 0: 338\n",
      "\u001b[0m\u001b[1;32m1676546221 : INFO:     (commit_edge_buffer:609): In commit edge buffer (0,0)\n",
      "\u001b[0m\u001b[1;32m1676546221 : INFO:     (commit_edge_buffer:680): Shuffling edges ...\n",
      "\u001b[0m\u001b[1;32m1676546221 : INFO:     (commit_edge_buffer:688): Done shuffling edges in 0.004477 secs\n",
      "\u001b[0m\u001b[1;32m1676546221 : INFO:     (commit_edge_buffer:692): Aggregating unique vertices...\n",
      "\u001b[0m\u001b[1;32m1676546221 : INFO:     (commit_edge_buffer:705): Done aggregating unique vertex in 0.000825 secs\n",
      "\u001b[0m\u001b[1;32m1676546221 : INFO:     (commit_edge_buffer:713): Combine vertex data\n",
      "\u001b[0m\u001b[1;32m1676546221 : INFO:     (commit_edge_buffer:779): Done phase 2 in 0.000752 secs\n",
      "\u001b[0m\u001b[1;32m1676546221 : INFO:     (commit_edge_buffer:787): Rename id columns \n",
      "\u001b[0m\u001b[1;32m1676546221 : INFO:     (commit_edge_buffer:890): Done in 0.00885 secs\n",
      "\u001b[0m\u001b[1;32m1676546221 : INFO:     (commit_edge_buffer:892): Finish committing edge in 0.01493 secs\n",
      "\u001b[0m\u001b[1;32m1676546221 : INFO:     (add_edges:584): Num vertices for group 0: 338\n",
      "\u001b[0m\u001b[1;32mNum vertices for group 0: 338\n",
      "\u001b[0m\u001b[1;32mNum edges 0 -> 0: 93\n",
      "\u001b[0m1676546221 : PROGRESS: (_p:516): +-----------------------------+\n",
      "\u001b[0m1676546221 : PROGRESS: (_p:516): | Number of components merged |\n",
      "\u001b[0m1676546221 : PROGRESS: (_p:516): +-----------------------------+\n",
      "\u001b[0m1676546221 : PROGRESS: (_p:516): | 60                          |\n",
      "\u001b[0m1676546221 : PROGRESS: (_p:516): | 0                           |\n",
      "\u001b[0m1676546221 : PROGRESS: (_p:516): +-----------------------------+\n",
      "\u001b[0m1676546221 : PROGRESS: (triple_apply_pagerank:69): Counting out degree\n",
      "\u001b[0m1676546221 : PROGRESS: (triple_apply_pagerank:78): Done counting out degree\n",
      "\u001b[0m1676546221 : PROGRESS: (_p:516): +-----------+-----------------------+\n",
      "\u001b[0m1676546221 : PROGRESS: (_p:516): | Iteration | L1 change in pagerank |\n",
      "\u001b[0m1676546221 : PROGRESS: (_p:516): +-----------+-----------------------+\n",
      "\u001b[0m1676546221 : PROGRESS: (_p:516): | 1         | 255                   |\n",
      "\u001b[0m1676546221 : PROGRESS: (_p:516): | 2         | 12.2825               |\n",
      "\u001b[0m1676546221 : PROGRESS: (_p:516): | 3         | 7.52303               |\n",
      "\u001b[0m1676546221 : PROGRESS: (_p:516): | 4         | 5.74207               |\n",
      "\u001b[0m1676546221 : PROGRESS: (_p:516): | 5         | 4.54798               |\n",
      "\u001b[0m1676546221 : PROGRESS: (_p:516): | 6         | 3.74792               |\n",
      "\u001b[0m1676546221 : PROGRESS: (_p:516): | 7         | 3.10559               |\n",
      "\u001b[0m1676546221 : PROGRESS: (_p:516): | 8         | 2.60569               |\n",
      "\u001b[0m1676546221 : PROGRESS: (_p:516): | 9         | 2.1895                |\n",
      "\u001b[0m1676546221 : PROGRESS: (_p:516): | 10        | 1.848                 |\n",
      "\u001b[0m1676546221 : PROGRESS: (_p:516): | 11        | 1.56034               |\n",
      "\u001b[0m1676546221 : PROGRESS: (_p:516): | 12        | 1.32018               |\n",
      "\u001b[0m1676546221 : PROGRESS: (_p:516): | 13        | 1.11708               |\n",
      "\u001b[0m1676546221 : PROGRESS: (_p:516): | 14        | 0.946379              |\n",
      "\u001b[0m1676546221 : PROGRESS: (_p:516): | 15        | 0.801778              |\n",
      "\u001b[0m1676546221 : PROGRESS: (_p:516): | 16        | 0.679845              |\n",
      "\u001b[0m1676546221 : PROGRESS: (_p:516): | 17        | 0.576454              |\n",
      "\u001b[0m1676546221 : PROGRESS: (_p:516): | 18        | 0.489088              |\n",
      "\u001b[0m1676546221 : PROGRESS: (_p:516): | 19        | 0.414963              |\n",
      "\u001b[0m1676546221 : PROGRESS: (_p:516): | 20        | 0.352233              |\n",
      "\u001b[0m1676546221 : PROGRESS: (_p:516): +-----------+-----------------------+\n",
      "\u001b[0mWrote total of 338 components \n"
     ]
    },
    {
     "name": "stderr",
     "output_type": "stream",
     "text": [
      "100%|██████████████████████████████████████████████████████████████████████████████| 20/20 [00:00<00:00, 27.89it/s]\n"
     ]
    },
    {
     "name": "stdout",
     "output_type": "stream",
     "text": [
      "Stored similar images view in  /home/yiwei/Documents/New Fast Image Analysis/Karta_sorted_images/2_out/similar-gallery/topk_similarity.html\n",
      "read outliers 33\n"
     ]
    },
    {
     "name": "stderr",
     "output_type": "stream",
     "text": [
      "100%|███████████████████████████████████████████████████████████████████████████| 20/20 [00:00<00:00, 31418.01it/s]\n"
     ]
    },
    {
     "name": "stdout",
     "output_type": "stream",
     "text": [
      "Stored outliers visual view in  /home/yiwei/Documents/New Fast Image Analysis/Karta_sorted_images/2_out/outlier-gallery/outliers.html\n",
      "FastDup Software, (C) copyright 2022 Dr. Amir Alush and Dr. Danny Bickson.\n",
      "Going to loop over dir Karta_sorted_images/13\n",
      "Found total 308 images to run on\n",
      "Found total 308 images to run on■■■■■■■■■■■■■■■■■■■] 100% Estimated: 0 Minutes 0 Features\n",
      "64) Finished write_index() NN model\n",
      "Stored nn model index file Karta_sorted_images/13_out/nnf.index\n",
      "Total time took 13555 ms\n",
      "Found a total of 0 fully identical images (d>0.990), which are 0.00 %\n",
      "Found a total of 0 nearly identical images(d>0.980), which are 0.00 %\n",
      "Found a total of 375 above threshold images (d>0.900), which are 40.58 %\n",
      "Found a total of 30 outlier images         (d<0.050), which are 3.25 %\n",
      "Min distance found 0.635 max distance 0.977\n",
      "\u001b[1;32m1676546236 : INFO:     (add_vertices:460): Num vertices for group 0: 308\n",
      "\u001b[0m1676546236 : PROGRESS: (_p:516): +-----------------------------+\n",
      "\u001b[0m1676546236 : PROGRESS: (_p:516): | Number of components merged |\n",
      "\u001b[0m1676546236 : PROGRESS: (_p:516): +-----------------------------+\n",
      "\u001b[0m1676546236 : PROGRESS: (_p:516): | 0                           |\n",
      "\u001b[0m1676546236 : PROGRESS: (_p:516): +-----------------------------+\n",
      "\u001b[0m1676546236 : PROGRESS: (triple_apply_pagerank:69): Counting out degree\n",
      "\u001b[0m1676546236 : PROGRESS: (triple_apply_pagerank:78): Done counting out degree\n",
      "\u001b[0m1676546236 : PROGRESS: (_p:516): +-----------+-----------------------+\n",
      "\u001b[0m1676546236 : PROGRESS: (_p:516): | Iteration | L1 change in pagerank |\n",
      "\u001b[0m1676546236 : PROGRESS: (_p:516): +-----------+-----------------------+\n",
      "\u001b[0m1676546236 : PROGRESS: (_p:516): | 1         | 261.8                 |\n",
      "\u001b[0m1676546236 : PROGRESS: (_p:516): | 2         | 0                     |\n",
      "\u001b[0m1676546236 : PROGRESS: (_p:516): +-----------+-----------------------+\n",
      "\u001b[0mWrote total of 308 components \n"
     ]
    },
    {
     "name": "stderr",
     "output_type": "stream",
     "text": [
      "100%|██████████████████████████████████████████████████████████████████████████████| 20/20 [00:00<00:00, 26.90it/s]\n"
     ]
    },
    {
     "name": "stdout",
     "output_type": "stream",
     "text": [
      "Stored similar images view in  /home/yiwei/Documents/New Fast Image Analysis/Karta_sorted_images/13_out/similar-gallery/topk_similarity.html\n",
      "read outliers 30\n"
     ]
    },
    {
     "name": "stderr",
     "output_type": "stream",
     "text": [
      "100%|███████████████████████████████████████████████████████████████████████████| 17/17 [00:00<00:00, 25151.03it/s]\n"
     ]
    },
    {
     "name": "stdout",
     "output_type": "stream",
     "text": [
      "Stored outliers visual view in  /home/yiwei/Documents/New Fast Image Analysis/Karta_sorted_images/13_out/outlier-gallery/outliers.html\n",
      "FastDup Software, (C) copyright 2022 Dr. Amir Alush and Dr. Danny Bickson.\n",
      "Going to loop over dir Karta_sorted_images/19\n",
      "Found total 606 images to run on\n",
      "Found total 606 images to run on■■■■■■■■■■■■■■■■■■■] 100% Estimated: 0 Minutes 0 Features\n",
      "73) Finished write_index() NN model\n",
      "Stored nn model index file Karta_sorted_images/19_out/nnf.index\n",
      "Total time took 22120 ms\n",
      "Found a total of 0 fully identical images (d>0.990), which are 0.00 %\n",
      "Found a total of 45 nearly identical images(d>0.980), which are 2.48 %\n",
      "Found a total of 1110 above threshold images (d>0.900), which are 61.06 %\n",
      "Found a total of 60 outlier images         (d<0.050), which are 3.30 %\n",
      "Min distance found 0.835 max distance 0.986\n",
      "\u001b[1;32m1676546260 : INFO:     (add_vertices:460): Num vertices for group 0: 606\n",
      "\u001b[0m\u001b[1;32m1676546260 : INFO:     (commit_edge_buffer:609): In commit edge buffer (0,0)\n",
      "\u001b[0m\u001b[1;32m1676546260 : INFO:     (commit_edge_buffer:680): Shuffling edges ...\n",
      "\u001b[0m\u001b[1;32m1676546260 : INFO:     (commit_edge_buffer:688): Done shuffling edges in 0.006491 secs\n",
      "\u001b[0m\u001b[1;32m1676546260 : INFO:     (commit_edge_buffer:692): Aggregating unique vertices...\n",
      "\u001b[0m\u001b[1;32m1676546260 : INFO:     (commit_edge_buffer:705): Done aggregating unique vertex in 0.000898 secs\n",
      "\u001b[0m\u001b[1;32m1676546260 : INFO:     (commit_edge_buffer:713): Combine vertex data\n",
      "\u001b[0m\u001b[1;32m1676546260 : INFO:     (commit_edge_buffer:779): Done phase 2 in 0.000813 secs\n",
      "\u001b[0m\u001b[1;32m1676546260 : INFO:     (commit_edge_buffer:787): Rename id columns \n",
      "\u001b[0m\u001b[1;32m1676546260 : INFO:     (commit_edge_buffer:890): Done in 0.008483 secs\n",
      "\u001b[0m\u001b[1;32m1676546260 : INFO:     (commit_edge_buffer:892): Finish committing edge in 0.016709 secs\n",
      "\u001b[0m\u001b[1;32m1676546260 : INFO:     (add_edges:584): Num vertices for group 0: 606\n",
      "\u001b[0m\u001b[1;32mNum vertices for group 0: 606\n",
      "\u001b[0m\u001b[1;32mNum edges 0 -> 0: 45\n",
      "\u001b[0m1676546260 : PROGRESS: (_p:516): +-----------------------------+\n",
      "\u001b[0m1676546260 : PROGRESS: (_p:516): | Number of components merged |\n",
      "\u001b[0m1676546260 : PROGRESS: (_p:516): +-----------------------------+\n",
      "\u001b[0m1676546260 : PROGRESS: (_p:516): | 25                          |\n",
      "\u001b[0m1676546260 : PROGRESS: (_p:516): | 0                           |\n",
      "\u001b[0m1676546260 : PROGRESS: (_p:516): +-----------------------------+\n",
      "\u001b[0m1676546260 : PROGRESS: (triple_apply_pagerank:69): Counting out degree\n",
      "\u001b[0m1676546260 : PROGRESS: (triple_apply_pagerank:78): Done counting out degree\n",
      "\u001b[0m1676546260 : PROGRESS: (_p:516): +-----------+-----------------------+\n",
      "\u001b[0m1676546260 : PROGRESS: (_p:516): | Iteration | L1 change in pagerank |\n",
      "\u001b[0m1676546260 : PROGRESS: (_p:516): +-----------+-----------------------+\n",
      "\u001b[0m1676546260 : PROGRESS: (_p:516): | 1         | 493.85                |\n",
      "\u001b[0m1676546260 : PROGRESS: (_p:516): | 2         | 2.89                  |\n",
      "\u001b[0m1676546260 : PROGRESS: (_p:516): | 3         | 2.4565                |\n",
      "\u001b[0m1676546260 : PROGRESS: (_p:516): | 4         | 2.08802               |\n",
      "\u001b[0m1676546260 : PROGRESS: (_p:516): | 5         | 1.77482               |\n",
      "\u001b[0m1676546260 : PROGRESS: (_p:516): | 6         | 1.5086                |\n",
      "\u001b[0m1676546260 : PROGRESS: (_p:516): | 7         | 1.28231               |\n",
      "\u001b[0m1676546260 : PROGRESS: (_p:516): | 8         | 1.08996               |\n",
      "\u001b[0m1676546260 : PROGRESS: (_p:516): | 9         | 0.926467              |\n",
      "\u001b[0m1676546260 : PROGRESS: (_p:516): | 10        | 0.787497              |\n",
      "\u001b[0m1676546260 : PROGRESS: (_p:516): | 11        | 0.669372              |\n",
      "\u001b[0m1676546261 : PROGRESS: (_p:516): | 12        | 0.568966              |\n",
      "\u001b[0m1676546261 : PROGRESS: (_p:516): | 13        | 0.483621              |\n",
      "\u001b[0m1676546261 : PROGRESS: (_p:516): | 14        | 0.411078              |\n",
      "\u001b[0m1676546261 : PROGRESS: (_p:516): | 15        | 0.349416              |\n",
      "\u001b[0m1676546261 : PROGRESS: (_p:516): | 16        | 0.297004              |\n",
      "\u001b[0m1676546261 : PROGRESS: (_p:516): | 17        | 0.252453              |\n",
      "\u001b[0m1676546261 : PROGRESS: (_p:516): | 18        | 0.214585              |\n",
      "\u001b[0m1676546261 : PROGRESS: (_p:516): | 19        | 0.182397              |\n",
      "\u001b[0m1676546261 : PROGRESS: (_p:516): | 20        | 0.155037              |\n",
      "\u001b[0m1676546261 : PROGRESS: (_p:516): +-----------+-----------------------+\n",
      "\u001b[0mWrote total of 606 components \n"
     ]
    },
    {
     "name": "stderr",
     "output_type": "stream",
     "text": [
      "100%|██████████████████████████████████████████████████████████████████████████████| 20/20 [00:00<00:00, 27.10it/s]\n"
     ]
    },
    {
     "name": "stdout",
     "output_type": "stream",
     "text": [
      "Stored similar images view in  /home/yiwei/Documents/New Fast Image Analysis/Karta_sorted_images/19_out/similar-gallery/topk_similarity.html\n",
      "read outliers 60\n"
     ]
    },
    {
     "name": "stderr",
     "output_type": "stream",
     "text": [
      "100%|███████████████████████████████████████████████████████████████████████████| 20/20 [00:00<00:00, 28976.19it/s]\n"
     ]
    },
    {
     "name": "stdout",
     "output_type": "stream",
     "text": [
      "Stored outliers visual view in  /home/yiwei/Documents/New Fast Image Analysis/Karta_sorted_images/19_out/outlier-gallery/outliers.html\n",
      "FastDup Software, (C) copyright 2022 Dr. Amir Alush and Dr. Danny Bickson.\n",
      "Going to loop over dir Karta_sorted_images/16\n",
      "Found total 633 images to run on\n",
      "Found total 633 images to run on■■■■■■■■■■■■■■■■■■■] 100% Estimated: 0 Minutes 0 Features\n",
      "105) Finished write_index() NN model\n",
      "Stored nn model index file Karta_sorted_images/16_out/nnf.index\n",
      "Total time took 23161 ms\n",
      "Found a total of 0 fully identical images (d>0.990), which are 0.00 %\n",
      "Found a total of 0 nearly identical images(d>0.980), which are 0.00 %\n",
      "Found a total of 409 above threshold images (d>0.900), which are 21.54 %\n",
      "Found a total of 63 outlier images         (d<0.050), which are 3.32 %\n",
      "Min distance found 0.698 max distance 0.974\n",
      "\u001b[1;32m1676546286 : INFO:     (add_vertices:460): Num vertices for group 0: 633\n",
      "\u001b[0m1676546286 : PROGRESS: (_p:516): +-----------------------------+\n",
      "\u001b[0m1676546286 : PROGRESS: (_p:516): | Number of components merged |\n",
      "\u001b[0m1676546286 : PROGRESS: (_p:516): +-----------------------------+\n",
      "\u001b[0m1676546286 : PROGRESS: (_p:516): | 0                           |\n",
      "\u001b[0m1676546286 : PROGRESS: (_p:516): +-----------------------------+\n",
      "\u001b[0m1676546286 : PROGRESS: (triple_apply_pagerank:69): Counting out degree\n",
      "\u001b[0m1676546286 : PROGRESS: (triple_apply_pagerank:78): Done counting out degree\n",
      "\u001b[0m1676546286 : PROGRESS: (_p:516): +-----------+-----------------------+\n",
      "\u001b[0m1676546286 : PROGRESS: (_p:516): | Iteration | L1 change in pagerank |\n",
      "\u001b[0m1676546286 : PROGRESS: (_p:516): +-----------+-----------------------+\n",
      "\u001b[0m1676546286 : PROGRESS: (_p:516): | 1         | 538.05                |\n",
      "\u001b[0m1676546286 : PROGRESS: (_p:516): | 2         | 0                     |\n",
      "\u001b[0m1676546286 : PROGRESS: (_p:516): +-----------+-----------------------+\n",
      "\u001b[0mWrote total of 633 components \n"
     ]
    },
    {
     "name": "stderr",
     "output_type": "stream",
     "text": [
      "100%|██████████████████████████████████████████████████████████████████████████████| 20/20 [00:00<00:00, 28.76it/s]\n"
     ]
    },
    {
     "name": "stdout",
     "output_type": "stream",
     "text": [
      "Stored similar images view in  /home/yiwei/Documents/New Fast Image Analysis/Karta_sorted_images/16_out/similar-gallery/topk_similarity.html\n",
      "read outliers 63\n"
     ]
    },
    {
     "name": "stderr",
     "output_type": "stream",
     "text": [
      "100%|███████████████████████████████████████████████████████████████████████████| 20/20 [00:00<00:00, 31418.01it/s]\n"
     ]
    },
    {
     "name": "stdout",
     "output_type": "stream",
     "text": [
      "Stored outliers visual view in  /home/yiwei/Documents/New Fast Image Analysis/Karta_sorted_images/16_out/outlier-gallery/outliers.html\n",
      "FastDup Software, (C) copyright 2022 Dr. Amir Alush and Dr. Danny Bickson.\n",
      "Going to loop over dir Karta_sorted_images/9\n",
      "Found total 265 images to run on\n",
      "Found total 265 images to run on■■■■■■■■■■■■■■■■■■■] 100% Estimated: 0 Minutes 0 Features\n",
      "59) Finished write_index() NN model\n",
      "Stored nn model index file Karta_sorted_images/9_out/nnf.index\n",
      "Total time took 7336 ms\n",
      "Found a total of 0 fully identical images (d>0.990), which are 0.00 %\n",
      "Found a total of 2 nearly identical images(d>0.980), which are 0.25 %\n",
      "Found a total of 432 above threshold images (d>0.900), which are 54.34 %\n",
      "Found a total of 26 outlier images         (d<0.050), which are 3.27 %\n",
      "Min distance found 0.657 max distance 0.984\n",
      "\u001b[1;32m1676546297 : INFO:     (add_vertices:460): Num vertices for group 0: 265\n",
      "\u001b[0m\u001b[1;32m1676546297 : INFO:     (commit_edge_buffer:609): In commit edge buffer (0,0)\n",
      "\u001b[0m\u001b[1;32m1676546297 : INFO:     (commit_edge_buffer:680): Shuffling edges ...\n",
      "\u001b[0m\u001b[1;32m1676546297 : INFO:     (commit_edge_buffer:688): Done shuffling edges in 0.004046 secs\n",
      "\u001b[0m\u001b[1;32m1676546297 : INFO:     (commit_edge_buffer:692): Aggregating unique vertices...\n",
      "\u001b[0m\u001b[1;32m1676546297 : INFO:     (commit_edge_buffer:705): Done aggregating unique vertex in 0.000517 secs\n",
      "\u001b[0m\u001b[1;32m1676546297 : INFO:     (commit_edge_buffer:713): Combine vertex data\n",
      "\u001b[0m\u001b[1;32m1676546297 : INFO:     (commit_edge_buffer:779): Done phase 2 in 0.000713 secs\n",
      "\u001b[0m\u001b[1;32m1676546297 : INFO:     (commit_edge_buffer:787): Rename id columns \n",
      "\u001b[0m\u001b[1;32m1676546297 : INFO:     (commit_edge_buffer:890): Done in 0.006263 secs\n",
      "\u001b[0m\u001b[1;32m1676546297 : INFO:     (commit_edge_buffer:892): Finish committing edge in 0.011563 secs\n",
      "\u001b[0m\u001b[1;32m1676546297 : INFO:     (add_edges:584): Num vertices for group 0: 265\n",
      "\u001b[0m\u001b[1;32mNum vertices for group 0: 265\n",
      "\u001b[0m\u001b[1;32mNum edges 0 -> 0: 2\n",
      "\u001b[0m1676546297 : PROGRESS: (_p:516): +-----------------------------+\n",
      "\u001b[0m1676546297 : PROGRESS: (_p:516): | Number of components merged |\n",
      "\u001b[0m1676546297 : PROGRESS: (_p:516): +-----------------------------+\n",
      "\u001b[0m1676546297 : PROGRESS: (_p:516): | 1                           |\n",
      "\u001b[0m1676546297 : PROGRESS: (_p:516): | 0                           |\n",
      "\u001b[0m1676546297 : PROGRESS: (_p:516): +-----------------------------+\n",
      "\u001b[0m1676546297 : PROGRESS: (triple_apply_pagerank:69): Counting out degree\n",
      "\u001b[0m1676546297 : PROGRESS: (triple_apply_pagerank:78): Done counting out degree\n",
      "\u001b[0m1676546297 : PROGRESS: (_p:516): +-----------+-----------------------+\n",
      "\u001b[0m1676546297 : PROGRESS: (_p:516): | Iteration | L1 change in pagerank |\n",
      "\u001b[0m1676546297 : PROGRESS: (_p:516): +-----------+-----------------------+\n",
      "\u001b[0m1676546297 : PROGRESS: (_p:516): | 1         | 223.55                |\n",
      "\u001b[0m1676546297 : PROGRESS: (_p:516): | 2         | 0                     |\n",
      "\u001b[0m1676546297 : PROGRESS: (_p:516): +-----------+-----------------------+\n",
      "\u001b[0mWrote total of 265 components \n"
     ]
    },
    {
     "name": "stderr",
     "output_type": "stream",
     "text": [
      "100%|██████████████████████████████████████████████████████████████████████████████| 20/20 [00:00<00:00, 27.45it/s]\n"
     ]
    },
    {
     "name": "stdout",
     "output_type": "stream",
     "text": [
      "Stored similar images view in  /home/yiwei/Documents/New Fast Image Analysis/Karta_sorted_images/9_out/similar-gallery/topk_similarity.html\n",
      "read outliers 26\n"
     ]
    },
    {
     "name": "stderr",
     "output_type": "stream",
     "text": [
      "100%|███████████████████████████████████████████████████████████████████████████| 18/18 [00:00<00:00, 21213.11it/s]\n"
     ]
    },
    {
     "name": "stdout",
     "output_type": "stream",
     "text": [
      "Stored outliers visual view in  /home/yiwei/Documents/New Fast Image Analysis/Karta_sorted_images/9_out/outlier-gallery/outliers.html\n",
      "FastDup Software, (C) copyright 2022 Dr. Amir Alush and Dr. Danny Bickson.\n",
      "Going to loop over dir Karta_sorted_images/21\n",
      "Found total 139 images to run on\n",
      "Found total 139 images to run on■■■■■■■■■■■■■■■■■■■] 100% Estimated: 0 Minutes 0 Features\n",
      "10) Finished write_index() NN model\n",
      "Stored nn model index file Karta_sorted_images/21_out/nnf.index\n",
      "Total time took 5019 ms\n",
      "Found a total of 0 fully identical images (d>0.990), which are 0.00 %\n",
      "Found a total of 12 nearly identical images(d>0.980), which are 2.88 %\n",
      "Found a total of 102 above threshold images (d>0.900), which are 24.46 %\n",
      "Found a total of 13 outlier images         (d<0.050), which are 3.12 %\n",
      "Min distance found 0.702 max distance 0.988\n",
      "\u001b[1;32m1676546306 : INFO:     (add_vertices:460): Num vertices for group 0: 139\n",
      "\u001b[0m\u001b[1;32m1676546306 : INFO:     (commit_edge_buffer:609): In commit edge buffer (0,0)\n",
      "\u001b[0m\u001b[1;32m1676546306 : INFO:     (commit_edge_buffer:680): Shuffling edges ...\n",
      "\u001b[0m\u001b[1;32m1676546306 : INFO:     (commit_edge_buffer:688): Done shuffling edges in 0.003956 secs\n",
      "\u001b[0m\u001b[1;32m1676546306 : INFO:     (commit_edge_buffer:692): Aggregating unique vertices...\n",
      "\u001b[0m\u001b[1;32m1676546306 : INFO:     (commit_edge_buffer:705): Done aggregating unique vertex in 0.000713 secs\n",
      "\u001b[0m\u001b[1;32m1676546306 : INFO:     (commit_edge_buffer:713): Combine vertex data\n",
      "\u001b[0m\u001b[1;32m1676546306 : INFO:     (commit_edge_buffer:779): Done phase 2 in 0.000766 secs\n",
      "\u001b[0m\u001b[1;32m1676546306 : INFO:     (commit_edge_buffer:787): Rename id columns \n",
      "\u001b[0m\u001b[1;32m1676546306 : INFO:     (commit_edge_buffer:890): Done in 0.00704 secs\n",
      "\u001b[0m\u001b[1;32m1676546306 : INFO:     (commit_edge_buffer:892): Finish committing edge in 0.012499 secs\n",
      "\u001b[0m\u001b[1;32m1676546306 : INFO:     (add_edges:584): Num vertices for group 0: 139\n",
      "\u001b[0m\u001b[1;32mNum vertices for group 0: 139\n",
      "\u001b[0m\u001b[1;32mNum edges 0 -> 0: 12\n",
      "\u001b[0m1676546306 : PROGRESS: (_p:516): +-----------------------------+\n",
      "\u001b[0m1676546306 : PROGRESS: (_p:516): | Number of components merged |\n",
      "\u001b[0m1676546306 : PROGRESS: (_p:516): +-----------------------------+\n",
      "\u001b[0m1676546306 : PROGRESS: (_p:516): | 8                           |\n",
      "\u001b[0m1676546306 : PROGRESS: (_p:516): | 0                           |\n",
      "\u001b[0m1676546306 : PROGRESS: (_p:516): +-----------------------------+\n",
      "\u001b[0m1676546306 : PROGRESS: (triple_apply_pagerank:69): Counting out degree\n",
      "\u001b[0m1676546306 : PROGRESS: (triple_apply_pagerank:78): Done counting out degree\n",
      "\u001b[0m1676546306 : PROGRESS: (_p:516): +-----------+-----------------------+\n",
      "\u001b[0m1676546306 : PROGRESS: (_p:516): | Iteration | L1 change in pagerank |\n",
      "\u001b[0m1676546306 : PROGRESS: (_p:516): +-----------+-----------------------+\n",
      "\u001b[0m1676546306 : PROGRESS: (_p:516): | 1         | 111.35                |\n",
      "\u001b[0m1676546306 : PROGRESS: (_p:516): | 2         | 0.7225                |\n",
      "\u001b[0m1676546306 : PROGRESS: (_p:516): | 3         | 0.307062              |\n",
      "\u001b[0m1676546306 : PROGRESS: (_p:516): | 4         | 0.130502              |\n",
      "\u001b[0m1676546306 : PROGRESS: (_p:516): | 5         | 0.0554631             |\n",
      "\u001b[0m1676546306 : PROGRESS: (_p:516): | 6         | 0.0235717             |\n",
      "\u001b[0m1676546306 : PROGRESS: (_p:516): | 7         | 0.0100181             |\n",
      "\u001b[0m1676546306 : PROGRESS: (_p:516): | 8         | 0.00425768            |\n",
      "\u001b[0m1676546306 : PROGRESS: (_p:516): +-----------+-----------------------+\n",
      "\u001b[0mWrote total of 139 components \n"
     ]
    },
    {
     "name": "stderr",
     "output_type": "stream",
     "text": [
      "100%|██████████████████████████████████████████████████████████████████████████████| 20/20 [00:00<00:00, 24.74it/s]\n"
     ]
    },
    {
     "name": "stdout",
     "output_type": "stream",
     "text": [
      "Stored similar images view in  /home/yiwei/Documents/New Fast Image Analysis/Karta_sorted_images/21_out/similar-gallery/topk_similarity.html\n",
      "read outliers 13\n"
     ]
    },
    {
     "name": "stderr",
     "output_type": "stream",
     "text": [
      "100%|█████████████████████████████████████████████████████████████████████████████| 9/9 [00:00<00:00, 18724.57it/s]\n"
     ]
    },
    {
     "name": "stdout",
     "output_type": "stream",
     "text": [
      "Stored outliers visual view in  /home/yiwei/Documents/New Fast Image Analysis/Karta_sorted_images/21_out/outlier-gallery/outliers.html\n",
      "FastDup Software, (C) copyright 2022 Dr. Amir Alush and Dr. Danny Bickson.\n",
      "Going to loop over dir Karta_sorted_images/20\n",
      "Found total 337 images to run on\n",
      "Found total 337 images to run on■■■■■■■■■■■■■■■■■■■] 100% Estimated: 0 Minutes 0 Features\n",
      "66) Finished write_index() NN model\n",
      "Stored nn model index file Karta_sorted_images/20_out/nnf.index\n",
      "Total time took 12223 ms\n",
      "Found a total of 4 fully identical images (d>0.990), which are 0.40 %\n",
      "Found a total of 29 nearly identical images(d>0.980), which are 2.87 %\n",
      "Found a total of 432 above threshold images (d>0.900), which are 42.73 %\n",
      "Found a total of 33 outlier images         (d<0.050), which are 3.26 %\n",
      "Min distance found 0.718 max distance 0.991\n",
      "\u001b[1;32m1676546322 : INFO:     (add_vertices:460): Num vertices for group 0: 337\n",
      "\u001b[0m\u001b[1;32m1676546322 : INFO:     (commit_edge_buffer:609): In commit edge buffer (0,0)\n",
      "\u001b[0m\u001b[1;32m1676546322 : INFO:     (commit_edge_buffer:680): Shuffling edges ...\n",
      "\u001b[0m\u001b[1;32m1676546322 : INFO:     (commit_edge_buffer:688): Done shuffling edges in 0.012961 secs\n",
      "\u001b[0m\u001b[1;32m1676546322 : INFO:     (commit_edge_buffer:692): Aggregating unique vertices...\n",
      "\u001b[0m\u001b[1;32m1676546322 : INFO:     (commit_edge_buffer:705): Done aggregating unique vertex in 0.000622 secs\n",
      "\u001b[0m\u001b[1;32m1676546322 : INFO:     (commit_edge_buffer:713): Combine vertex data\n",
      "\u001b[0m\u001b[1;32m1676546322 : INFO:     (commit_edge_buffer:779): Done phase 2 in 0.000632 secs\n",
      "\u001b[0m\u001b[1;32m1676546322 : INFO:     (commit_edge_buffer:787): Rename id columns \n",
      "\u001b[0m\u001b[1;32m1676546322 : INFO:     (commit_edge_buffer:890): Done in 0.006013 secs\n",
      "\u001b[0m\u001b[1;32m1676546322 : INFO:     (commit_edge_buffer:892): Finish committing edge in 0.02025 secs\n",
      "\u001b[0m\u001b[1;32m1676546322 : INFO:     (add_edges:584): Num vertices for group 0: 337\n",
      "\u001b[0m\u001b[1;32mNum vertices for group 0: 337\n",
      "\u001b[0m\u001b[1;32mNum edges 0 -> 0: 33\n",
      "\u001b[0m1676546322 : PROGRESS: (_p:516): +-----------------------------+\n",
      "\u001b[0m1676546322 : PROGRESS: (_p:516): | Number of components merged |\n",
      "\u001b[0m1676546322 : PROGRESS: (_p:516): +-----------------------------+\n",
      "\u001b[0m1676546322 : PROGRESS: (_p:516): | 21                          |\n",
      "\u001b[0m1676546322 : PROGRESS: (_p:516): | 0                           |\n",
      "\u001b[0m1676546322 : PROGRESS: (_p:516): +-----------------------------+\n",
      "\u001b[0m1676546322 : PROGRESS: (triple_apply_pagerank:69): Counting out degree\n",
      "\u001b[0m1676546322 : PROGRESS: (triple_apply_pagerank:78): Done counting out degree\n",
      "\u001b[0m1676546322 : PROGRESS: (_p:516): +-----------+-----------------------+\n",
      "\u001b[0m1676546322 : PROGRESS: (_p:516): | Iteration | L1 change in pagerank |\n",
      "\u001b[0m1676546322 : PROGRESS: (_p:516): +-----------+-----------------------+\n",
      "\u001b[0m1676546322 : PROGRESS: (_p:516): | 1         | 279.65                |\n",
      "\u001b[0m1676546322 : PROGRESS: (_p:516): | 2         | 3.6125                |\n",
      "\u001b[0m1676546322 : PROGRESS: (_p:516): | 3         | 0.921188              |\n",
      "\u001b[0m1676546322 : PROGRESS: (_p:516): | 4         | 0.326254              |\n",
      "\u001b[0m1676546322 : PROGRESS: (_p:516): | 5         | 0.138658              |\n",
      "\u001b[0m1676546322 : PROGRESS: (_p:516): | 6         | 0.0589289             |\n",
      "\u001b[0m1676546322 : PROGRESS: (_p:516): | 7         | 0.0300539             |\n",
      "\u001b[0m1676546322 : PROGRESS: (_p:516): | 8         | 0.0170301             |\n",
      "\u001b[0m1676546322 : PROGRESS: (_p:516): | 9         | 0.00995201            |\n",
      "\u001b[0m1676546322 : PROGRESS: (_p:516): +-----------+-----------------------+\n",
      "\u001b[0mWrote total of 337 components \n"
     ]
    },
    {
     "name": "stderr",
     "output_type": "stream",
     "text": [
      "100%|██████████████████████████████████████████████████████████████████████████████| 20/20 [00:00<00:00, 24.64it/s]\n"
     ]
    },
    {
     "name": "stdout",
     "output_type": "stream",
     "text": [
      "Stored similar images view in  /home/yiwei/Documents/New Fast Image Analysis/Karta_sorted_images/20_out/similar-gallery/topk_similarity.html\n",
      "read outliers 33\n"
     ]
    },
    {
     "name": "stderr",
     "output_type": "stream",
     "text": [
      "100%|███████████████████████████████████████████████████████████████████████████| 20/20 [00:00<00:00, 32375.95it/s]\n"
     ]
    },
    {
     "name": "stdout",
     "output_type": "stream",
     "text": [
      "Stored outliers visual view in  /home/yiwei/Documents/New Fast Image Analysis/Karta_sorted_images/20_out/outlier-gallery/outliers.html\n",
      "FastDup Software, (C) copyright 2022 Dr. Amir Alush and Dr. Danny Bickson.\n",
      "Going to loop over dir Karta_sorted_images/12\n",
      "Found total 577 images to run on\n",
      "Found total 577 images to run on■■■■■■■■■■■■■■■■■■■] 100% Estimated: 0 Minutes 0 Features\n",
      "167) Finished write_index() NN model\n",
      "Stored nn model index file Karta_sorted_images/12_out/nnf.index\n",
      "Total time took 17209 ms\n",
      "Found a total of 2 fully identical images (d>0.990), which are 0.12 %\n",
      "Found a total of 13 nearly identical images(d>0.980), which are 0.75 %\n",
      "Found a total of 517 above threshold images (d>0.900), which are 29.87 %\n",
      "Found a total of 57 outlier images         (d<0.050), which are 3.29 %\n",
      "Min distance found 0.695 max distance 0.990\n",
      "\u001b[1;32m1676546343 : INFO:     (add_vertices:460): Num vertices for group 0: 577\n",
      "\u001b[0m\u001b[1;32m1676546343 : INFO:     (commit_edge_buffer:609): In commit edge buffer (0,0)\n",
      "\u001b[0m\u001b[1;32m1676546343 : INFO:     (commit_edge_buffer:680): Shuffling edges ...\n",
      "\u001b[0m\u001b[1;32m1676546343 : INFO:     (commit_edge_buffer:688): Done shuffling edges in 0.003955 secs\n",
      "\u001b[0m\u001b[1;32m1676546343 : INFO:     (commit_edge_buffer:692): Aggregating unique vertices...\n",
      "\u001b[0m\u001b[1;32m1676546343 : INFO:     (commit_edge_buffer:705): Done aggregating unique vertex in 0.00072 secs\n",
      "\u001b[0m\u001b[1;32m1676546343 : INFO:     (commit_edge_buffer:713): Combine vertex data\n",
      "\u001b[0m\u001b[1;32m1676546343 : INFO:     (commit_edge_buffer:779): Done phase 2 in 0.000796 secs\n",
      "\u001b[0m\u001b[1;32m1676546343 : INFO:     (commit_edge_buffer:787): Rename id columns \n",
      "\u001b[0m\u001b[1;32m1676546343 : INFO:     (commit_edge_buffer:890): Done in 0.008143 secs\n",
      "\u001b[0m\u001b[1;32m1676546343 : INFO:     (commit_edge_buffer:892): Finish committing edge in 0.013638 secs\n",
      "\u001b[0m\u001b[1;32m1676546343 : INFO:     (add_edges:584): Num vertices for group 0: 577\n",
      "\u001b[0m\u001b[1;32mNum vertices for group 0: 577\n",
      "\u001b[0m\u001b[1;32mNum edges 0 -> 0: 15\n",
      "\u001b[0m1676546343 : PROGRESS: (_p:516): +-----------------------------+\n",
      "\u001b[0m1676546343 : PROGRESS: (_p:516): | Number of components merged |\n",
      "\u001b[0m1676546343 : PROGRESS: (_p:516): +-----------------------------+\n",
      "\u001b[0m1676546343 : PROGRESS: (_p:516): | 11                          |\n",
      "\u001b[0m1676546343 : PROGRESS: (_p:516): | 0                           |\n",
      "\u001b[0m1676546343 : PROGRESS: (_p:516): +-----------------------------+\n",
      "\u001b[0m1676546343 : PROGRESS: (triple_apply_pagerank:69): Counting out degree\n",
      "\u001b[0m1676546343 : PROGRESS: (triple_apply_pagerank:78): Done counting out degree\n",
      "\u001b[0m1676546343 : PROGRESS: (_p:516): +-----------+-----------------------+\n",
      "\u001b[0m1676546343 : PROGRESS: (_p:516): | Iteration | L1 change in pagerank |\n",
      "\u001b[0m1676546343 : PROGRESS: (_p:516): +-----------+-----------------------+\n",
      "\u001b[0m1676546343 : PROGRESS: (_p:516): | 1         | 488.75                |\n",
      "\u001b[0m1676546343 : PROGRESS: (_p:516): | 2         | 2.89                  |\n",
      "\u001b[0m1676546343 : PROGRESS: (_p:516): | 3         | 1.22825               |\n",
      "\u001b[0m1676546343 : PROGRESS: (_p:516): | 4         | 0.652508              |\n",
      "\u001b[0m1676546343 : PROGRESS: (_p:516): | 5         | 0.277316              |\n",
      "\u001b[0m1676546343 : PROGRESS: (_p:516): | 6         | 0.165002              |\n",
      "\u001b[0m1676546343 : PROGRESS: (_p:516): | 7         | 0.0701263             |\n",
      "\u001b[0m1676546343 : PROGRESS: (_p:516): | 8         | 0.0468335             |\n",
      "\u001b[0m1676546343 : PROGRESS: (_p:516): | 9         | 0.0199047             |\n",
      "\u001b[0m1676546343 : PROGRESS: (_p:516): | 10        | 0.0146115             |\n",
      "\u001b[0m1676546343 : PROGRESS: (_p:516): | 11        | 0.00621021            |\n",
      "\u001b[0m1676546343 : PROGRESS: (_p:516): +-----------+-----------------------+\n",
      "\u001b[0mWrote total of 577 components \n"
     ]
    },
    {
     "name": "stderr",
     "output_type": "stream",
     "text": [
      "100%|██████████████████████████████████████████████████████████████████████████████| 20/20 [00:00<00:00, 28.69it/s]\n"
     ]
    },
    {
     "name": "stdout",
     "output_type": "stream",
     "text": [
      "Stored similar images view in  /home/yiwei/Documents/New Fast Image Analysis/Karta_sorted_images/12_out/similar-gallery/topk_similarity.html\n",
      "read outliers 57\n"
     ]
    },
    {
     "name": "stderr",
     "output_type": "stream",
     "text": [
      "100%|███████████████████████████████████████████████████████████████████████████| 20/20 [00:00<00:00, 32413.48it/s]\n"
     ]
    },
    {
     "name": "stdout",
     "output_type": "stream",
     "text": [
      "Stored outliers visual view in  /home/yiwei/Documents/New Fast Image Analysis/Karta_sorted_images/12_out/outlier-gallery/outliers.html\n",
      "FastDup Software, (C) copyright 2022 Dr. Amir Alush and Dr. Danny Bickson.\n",
      "Going to loop over dir Karta_sorted_images/0\n",
      "Found total 146 images to run on\n",
      "Found total 146 images to run on■■■■■■■■■■■■■■■■■■■] 100% Estimated: 0 Minutes 0 Features\n",
      "40) Finished write_index() NN model\n",
      "Stored nn model index file Karta_sorted_images/0_out/nnf.index\n",
      "Total time took 1096 ms\n",
      "Found a total of 0 fully identical images (d>0.990), which are 0.00 %\n",
      "Found a total of 49 nearly identical images(d>0.980), which are 11.19 %\n",
      "Found a total of 224 above threshold images (d>0.900), which are 51.14 %\n",
      "Found a total of 14 outlier images         (d<0.050), which are 3.20 %\n",
      "Min distance found 0.709 max distance 0.988\n",
      "\u001b[1;32m1676546349 : INFO:     (add_vertices:460): Num vertices for group 0: 146\n",
      "\u001b[0m\u001b[1;32m1676546349 : INFO:     (commit_edge_buffer:609): In commit edge buffer (0,0)\n",
      "\u001b[0m\u001b[1;32m1676546349 : INFO:     (commit_edge_buffer:680): Shuffling edges ...\n",
      "\u001b[0m\u001b[1;32m1676546349 : INFO:     (commit_edge_buffer:688): Done shuffling edges in 0.017733 secs\n",
      "\u001b[0m\u001b[1;32m1676546349 : INFO:     (commit_edge_buffer:692): Aggregating unique vertices...\n",
      "\u001b[0m\u001b[1;32m1676546349 : INFO:     (commit_edge_buffer:705): Done aggregating unique vertex in 0.00354 secs\n",
      "\u001b[0m\u001b[1;32m1676546349 : INFO:     (commit_edge_buffer:713): Combine vertex data\n",
      "\u001b[0m\u001b[1;32m1676546349 : INFO:     (commit_edge_buffer:779): Done phase 2 in 0.003009 secs\n",
      "\u001b[0m\u001b[1;32m1676546349 : INFO:     (commit_edge_buffer:787): Rename id columns \n",
      "\u001b[0m\u001b[1;32m1676546349 : INFO:     (commit_edge_buffer:890): Done in 0.020708 secs\n",
      "\u001b[0m\u001b[1;32m1676546349 : INFO:     (commit_edge_buffer:892): Finish committing edge in 0.045063 secs\n",
      "\u001b[0m\u001b[1;32m1676546349 : INFO:     (add_edges:584): Num vertices for group 0: 146\n",
      "\u001b[0m\u001b[1;32mNum vertices for group 0: 146\n",
      "\u001b[0m\u001b[1;32mNum edges 0 -> 0: 49\n",
      "\u001b[0m1676546349 : PROGRESS: (_p:516): +-----------------------------+\n",
      "\u001b[0m1676546349 : PROGRESS: (_p:516): | Number of components merged |\n",
      "\u001b[0m1676546349 : PROGRESS: (_p:516): +-----------------------------+\n",
      "\u001b[0m1676546349 : PROGRESS: (_p:516): | 34                          |\n",
      "\u001b[0m1676546349 : PROGRESS: (_p:516): | 0                           |\n",
      "\u001b[0m1676546349 : PROGRESS: (_p:516): +-----------------------------+\n",
      "\u001b[0m1676546349 : PROGRESS: (triple_apply_pagerank:69): Counting out degree\n",
      "\u001b[0m1676546349 : PROGRESS: (triple_apply_pagerank:78): Done counting out degree\n",
      "\u001b[0m1676546349 : PROGRESS: (_p:516): +-----------+-----------------------+\n",
      "\u001b[0m1676546349 : PROGRESS: (_p:516): | Iteration | L1 change in pagerank |\n",
      "\u001b[0m1676546349 : PROGRESS: (_p:516): +-----------+-----------------------+\n",
      "\u001b[0m1676546349 : PROGRESS: (_p:516): | 1         | 110.5                 |\n",
      "\u001b[0m1676546349 : PROGRESS: (_p:516): | 2         | 9.03125               |\n",
      "\u001b[0m1676546349 : PROGRESS: (_p:516): | 3         | 6.14125               |\n",
      "\u001b[0m1676546349 : PROGRESS: (_p:516): | 4         | 4.5023                |\n",
      "\u001b[0m1676546349 : PROGRESS: (_p:516): | 5         | 3.43872               |\n",
      "\u001b[0m1676546349 : PROGRESS: (_p:516): | 6         | 2.7579                |\n",
      "\u001b[0m1676546349 : PROGRESS: (_p:516): | 7         | 2.29914               |\n",
      "\u001b[0m1676546349 : PROGRESS: (_p:516): | 8         | 1.91382               |\n",
      "\u001b[0m1676546349 : PROGRESS: (_p:516): | 9         | 1.5996                |\n",
      "\u001b[0m1676546349 : PROGRESS: (_p:516): | 10        | 1.33775               |\n",
      "\u001b[0m1676546349 : PROGRESS: (_p:516): | 11        | 1.12172               |\n",
      "\u001b[0m1676546349 : PROGRESS: (_p:516): | 12        | 0.941587              |\n",
      "\u001b[0m1676546349 : PROGRESS: (_p:516): | 13        | 0.791788              |\n",
      "\u001b[0m1676546349 : PROGRESS: (_p:516): | 14        | 0.666522              |\n",
      "\u001b[0m1676546349 : PROGRESS: (_p:516): | 15        | 0.561777              |\n",
      "\u001b[0m1676546349 : PROGRESS: (_p:516): | 16        | 0.473917              |\n",
      "\u001b[0m1676546349 : PROGRESS: (_p:516): | 17        | 0.400164              |\n",
      "\u001b[0m1676546349 : PROGRESS: (_p:516): | 18        | 0.338132              |\n",
      "\u001b[0m1676546349 : PROGRESS: (_p:516): | 19        | 0.285913              |\n",
      "\u001b[0m1676546349 : PROGRESS: (_p:516): | 20        | 0.241895              |\n",
      "\u001b[0m1676546349 : PROGRESS: (_p:516): +-----------+-----------------------+\n",
      "\u001b[0mWrote total of 146 components \n"
     ]
    },
    {
     "name": "stderr",
     "output_type": "stream",
     "text": [
      "100%|██████████████████████████████████████████████████████████████████████████████| 20/20 [00:00<00:00, 24.80it/s]\n"
     ]
    },
    {
     "name": "stdout",
     "output_type": "stream",
     "text": [
      "Stored similar images view in  /home/yiwei/Documents/New Fast Image Analysis/Karta_sorted_images/0_out/similar-gallery/topk_similarity.html\n",
      "read outliers 14\n"
     ]
    },
    {
     "name": "stderr",
     "output_type": "stream",
     "text": [
      "100%|█████████████████████████████████████████████████████████████████████████████| 9/9 [00:00<00:00, 28468.13it/s]\n"
     ]
    },
    {
     "name": "stdout",
     "output_type": "stream",
     "text": [
      "Stored outliers visual view in  /home/yiwei/Documents/New Fast Image Analysis/Karta_sorted_images/0_out/outlier-gallery/outliers.html\n",
      "FastDup Software, (C) copyright 2022 Dr. Amir Alush and Dr. Danny Bickson.\n",
      "Going to loop over dir Karta_sorted_images/8\n",
      "Found total 572 images to run on\n",
      "Found total 572 images to run on■■■■■■■■■■■■■■■■■■■] 100% Estimated: 0 Minutes 0 Features\n",
      "174) Finished write_index() NN model\n",
      "Stored nn model index file Karta_sorted_images/8_out/nnf.index\n",
      "Total time took 18217 ms\n",
      "Found a total of 2 fully identical images (d>0.990), which are 0.12 %\n",
      "Found a total of 8 nearly identical images(d>0.980), which are 0.47 %\n",
      "Found a total of 418 above threshold images (d>0.900), which are 24.36 %\n",
      "Found a total of 57 outlier images         (d<0.050), which are 3.32 %\n",
      "Min distance found 0.750 max distance 0.994\n",
      "\u001b[1;32m1676546371 : INFO:     (add_vertices:460): Num vertices for group 0: 572\n",
      "\u001b[0m\u001b[1;32m1676546371 : INFO:     (commit_edge_buffer:609): In commit edge buffer (0,0)\n",
      "\u001b[0m\u001b[1;32m1676546371 : INFO:     (commit_edge_buffer:680): Shuffling edges ...\n",
      "\u001b[0m\u001b[1;32m1676546371 : INFO:     (commit_edge_buffer:688): Done shuffling edges in 0.003954 secs\n",
      "\u001b[0m\u001b[1;32m1676546371 : INFO:     (commit_edge_buffer:692): Aggregating unique vertices...\n",
      "\u001b[0m\u001b[1;32m1676546371 : INFO:     (commit_edge_buffer:705): Done aggregating unique vertex in 0.000584 secs\n",
      "\u001b[0m\u001b[1;32m1676546371 : INFO:     (commit_edge_buffer:713): Combine vertex data\n",
      "\u001b[0m\u001b[1;32m1676546371 : INFO:     (commit_edge_buffer:779): Done phase 2 in 0.000634 secs\n",
      "\u001b[0m\u001b[1;32m1676546371 : INFO:     (commit_edge_buffer:787): Rename id columns \n",
      "\u001b[0m\u001b[1;32m1676546371 : INFO:     (commit_edge_buffer:890): Done in 0.006171 secs\n",
      "\u001b[0m\u001b[1;32m1676546371 : INFO:     (commit_edge_buffer:892): Finish committing edge in 0.011365 secs\n",
      "\u001b[0m\u001b[1;32m1676546371 : INFO:     (add_edges:584): Num vertices for group 0: 572\n",
      "\u001b[0m\u001b[1;32mNum vertices for group 0: 572\n",
      "\u001b[0m\u001b[1;32mNum edges 0 -> 0: 10\n",
      "\u001b[0m1676546371 : PROGRESS: (_p:516): +-----------------------------+\n",
      "\u001b[0m1676546371 : PROGRESS: (_p:516): | Number of components merged |\n",
      "\u001b[0m1676546371 : PROGRESS: (_p:516): +-----------------------------+\n",
      "\u001b[0m1676546371 : PROGRESS: (_p:516): | 6                           |\n",
      "\u001b[0m1676546371 : PROGRESS: (_p:516): | 0                           |\n",
      "\u001b[0m1676546371 : PROGRESS: (_p:516): +-----------------------------+\n",
      "\u001b[0m1676546371 : PROGRESS: (triple_apply_pagerank:69): Counting out degree\n",
      "\u001b[0m1676546371 : PROGRESS: (triple_apply_pagerank:78): Done counting out degree\n",
      "\u001b[0m1676546371 : PROGRESS: (_p:516): +-----------+-----------------------+\n",
      "\u001b[0m1676546371 : PROGRESS: (_p:516): | Iteration | L1 change in pagerank |\n",
      "\u001b[0m1676546371 : PROGRESS: (_p:516): +-----------+-----------------------+\n",
      "\u001b[0m1676546371 : PROGRESS: (_p:516): | 1         | 480.25                |\n",
      "\u001b[0m1676546371 : PROGRESS: (_p:516): | 2         | 1.445                 |\n",
      "\u001b[0m1676546371 : PROGRESS: (_p:516): | 3         | 1.22825               |\n",
      "\u001b[0m1676546371 : PROGRESS: (_p:516): | 4         | 1.04401               |\n",
      "\u001b[0m1676546371 : PROGRESS: (_p:516): | 5         | 0.887411              |\n",
      "\u001b[0m1676546371 : PROGRESS: (_p:516): | 6         | 0.754299              |\n",
      "\u001b[0m1676546371 : PROGRESS: (_p:516): | 7         | 0.641154              |\n",
      "\u001b[0m1676546371 : PROGRESS: (_p:516): | 8         | 0.544981              |\n",
      "\u001b[0m1676546371 : PROGRESS: (_p:516): | 9         | 0.463234              |\n",
      "\u001b[0m1676546371 : PROGRESS: (_p:516): | 10        | 0.393749              |\n",
      "\u001b[0m1676546371 : PROGRESS: (_p:516): | 11        | 0.334686              |\n",
      "\u001b[0m1676546371 : PROGRESS: (_p:516): | 12        | 0.284483              |\n",
      "\u001b[0m1676546371 : PROGRESS: (_p:516): | 13        | 0.241811              |\n",
      "\u001b[0m1676546371 : PROGRESS: (_p:516): | 14        | 0.205539              |\n",
      "\u001b[0m1676546371 : PROGRESS: (_p:516): | 15        | 0.174708              |\n",
      "\u001b[0m1676546371 : PROGRESS: (_p:516): | 16        | 0.148502              |\n",
      "\u001b[0m1676546371 : PROGRESS: (_p:516): | 17        | 0.126227              |\n",
      "\u001b[0m1676546371 : PROGRESS: (_p:516): | 18        | 0.107293              |\n",
      "\u001b[0m1676546371 : PROGRESS: (_p:516): | 19        | 0.0911989             |\n",
      "\u001b[0m1676546371 : PROGRESS: (_p:516): | 20        | 0.0775191             |\n",
      "\u001b[0m1676546371 : PROGRESS: (_p:516): +-----------+-----------------------+\n",
      "\u001b[0mWrote total of 572 components \n"
     ]
    },
    {
     "name": "stderr",
     "output_type": "stream",
     "text": [
      "100%|██████████████████████████████████████████████████████████████████████████████| 20/20 [00:00<00:00, 30.01it/s]\n"
     ]
    },
    {
     "name": "stdout",
     "output_type": "stream",
     "text": [
      "Stored similar images view in  /home/yiwei/Documents/New Fast Image Analysis/Karta_sorted_images/8_out/similar-gallery/topk_similarity.html\n",
      "read outliers 57\n"
     ]
    },
    {
     "name": "stderr",
     "output_type": "stream",
     "text": [
      "100%|███████████████████████████████████████████████████████████████████████████| 20/20 [00:00<00:00, 32909.41it/s]\n"
     ]
    },
    {
     "name": "stdout",
     "output_type": "stream",
     "text": [
      "Stored outliers visual view in  /home/yiwei/Documents/New Fast Image Analysis/Karta_sorted_images/8_out/outlier-gallery/outliers.html\n",
      "FastDup Software, (C) copyright 2022 Dr. Amir Alush and Dr. Danny Bickson.\n",
      "Going to loop over dir Karta_sorted_images/1\n",
      "Found total 435 images to run on\n",
      "Found total 435 images to run on■■■■■■■■■■■■■■■■■■■] 100% Estimated: 0 Minutes 0 Features\n",
      "96) Finished write_index() NN model\n",
      "Stored nn model index file Karta_sorted_images/1_out/nnf.index\n",
      "Total time took 13126 ms\n",
      "Found a total of 44 fully identical images (d>0.990), which are 3.37 %\n",
      "Found a total of 36 nearly identical images(d>0.980), which are 2.76 %\n",
      "Found a total of 543 above threshold images (d>0.900), which are 41.61 %\n",
      "Found a total of 43 outlier images         (d<0.050), which are 3.30 %\n",
      "Min distance found 0.760 max distance 0.996\n",
      "\u001b[1;32m1676546388 : INFO:     (add_vertices:460): Num vertices for group 0: 435\n",
      "\u001b[0m\u001b[1;32m1676546388 : INFO:     (commit_edge_buffer:609): In commit edge buffer (0,0)\n",
      "\u001b[0m\u001b[1;32m1676546388 : INFO:     (commit_edge_buffer:680): Shuffling edges ...\n",
      "\u001b[0m\u001b[1;32m1676546388 : INFO:     (commit_edge_buffer:688): Done shuffling edges in 0.006377 secs\n",
      "\u001b[0m\u001b[1;32m1676546388 : INFO:     (commit_edge_buffer:692): Aggregating unique vertices...\n",
      "\u001b[0m\u001b[1;32m1676546388 : INFO:     (commit_edge_buffer:705): Done aggregating unique vertex in 0.001469 secs\n",
      "\u001b[0m\u001b[1;32m1676546388 : INFO:     (commit_edge_buffer:713): Combine vertex data\n",
      "\u001b[0m\u001b[1;32m1676546388 : INFO:     (commit_edge_buffer:779): Done phase 2 in 0.000848 secs\n",
      "\u001b[0m\u001b[1;32m1676546388 : INFO:     (commit_edge_buffer:787): Rename id columns \n",
      "\u001b[0m\u001b[1;32m1676546388 : INFO:     (commit_edge_buffer:890): Done in 0.008725 secs\n",
      "\u001b[0m\u001b[1;32m1676546388 : INFO:     (commit_edge_buffer:892): Finish committing edge in 0.017444 secs\n",
      "\u001b[0m\u001b[1;32m1676546388 : INFO:     (add_edges:584): Num vertices for group 0: 435\n",
      "\u001b[0m\u001b[1;32mNum vertices for group 0: 435\n",
      "\u001b[0m\u001b[1;32mNum edges 0 -> 0: 80\n",
      "\u001b[0m1676546388 : PROGRESS: (_p:516): +-----------------------------+\n",
      "\u001b[0m1676546388 : PROGRESS: (_p:516): | Number of components merged |\n",
      "\u001b[0m1676546388 : PROGRESS: (_p:516): +-----------------------------+\n",
      "\u001b[0m1676546388 : PROGRESS: (_p:516): | 57                          |\n",
      "\u001b[0m1676546388 : PROGRESS: (_p:516): | 0                           |\n",
      "\u001b[0m1676546388 : PROGRESS: (_p:516): +-----------------------------+\n",
      "\u001b[0m1676546388 : PROGRESS: (triple_apply_pagerank:69): Counting out degree\n",
      "\u001b[0m1676546388 : PROGRESS: (triple_apply_pagerank:78): Done counting out degree\n",
      "\u001b[0m1676546388 : PROGRESS: (_p:516): +-----------+-----------------------+\n",
      "\u001b[0m1676546388 : PROGRESS: (_p:516): | Iteration | L1 change in pagerank |\n",
      "\u001b[0m1676546388 : PROGRESS: (_p:516): +-----------+-----------------------+\n",
      "\u001b[0m1676546388 : PROGRESS: (_p:516): | 1         | 348.5                 |\n",
      "\u001b[0m1676546388 : PROGRESS: (_p:516): | 2         | 7.225                 |\n",
      "\u001b[0m1676546388 : PROGRESS: (_p:516): | 3         | 4.75947               |\n",
      "\u001b[0m1676546388 : PROGRESS: (_p:516): | 4         | 2.67528               |\n",
      "\u001b[0m1676546388 : PROGRESS: (_p:516): | 5         | 1.83028               |\n",
      "\u001b[0m1676546388 : PROGRESS: (_p:516): | 6         | 1.29645               |\n",
      "\u001b[0m1676546388 : PROGRESS: (_p:516): | 7         | 0.846525              |\n",
      "\u001b[0m1676546388 : PROGRESS: (_p:516): | 8         | 0.655681              |\n",
      "\u001b[0m1676546388 : PROGRESS: (_p:516): | 9         | 0.432473              |\n",
      "\u001b[0m1676546388 : PROGRESS: (_p:516): | 10        | 0.347607              |\n",
      "\u001b[0m1676546388 : PROGRESS: (_p:516): | 11        | 0.235                 |\n",
      "\u001b[0m1676546388 : PROGRESS: (_p:516): | 12        | 0.189053              |\n",
      "\u001b[0m1676546388 : PROGRESS: (_p:516): | 13        | 0.131177              |\n",
      "\u001b[0m1676546388 : PROGRESS: (_p:516): | 14        | 0.104914              |\n",
      "\u001b[0m1676546388 : PROGRESS: (_p:516): | 15        | 0.0741421             |\n",
      "\u001b[0m1676546388 : PROGRESS: (_p:516): | 16        | 0.0590375             |\n",
      "\u001b[0m1676546388 : PROGRESS: (_p:516): | 17        | 0.0424092             |\n",
      "\u001b[0m1676546388 : PROGRESS: (_p:516): | 18        | 0.0336736             |\n",
      "\u001b[0m1676546388 : PROGRESS: (_p:516): | 19        | 0.0245526             |\n",
      "\u001b[0m1676546388 : PROGRESS: (_p:516): | 20        | 0.0194651             |\n",
      "\u001b[0m1676546388 : PROGRESS: (_p:516): +-----------+-----------------------+\n",
      "\u001b[0mWrote total of 435 components \n"
     ]
    },
    {
     "name": "stderr",
     "output_type": "stream",
     "text": [
      "100%|██████████████████████████████████████████████████████████████████████████████| 20/20 [00:00<00:00, 34.50it/s]\n"
     ]
    },
    {
     "name": "stdout",
     "output_type": "stream",
     "text": [
      "Stored similar images view in  /home/yiwei/Documents/New Fast Image Analysis/Karta_sorted_images/1_out/similar-gallery/topk_similarity.html\n",
      "read outliers 43\n"
     ]
    },
    {
     "name": "stderr",
     "output_type": "stream",
     "text": [
      "100%|███████████████████████████████████████████████████████████████████████████| 20/20 [00:00<00:00, 33852.33it/s]\n"
     ]
    },
    {
     "name": "stdout",
     "output_type": "stream",
     "text": [
      "Stored outliers visual view in  /home/yiwei/Documents/New Fast Image Analysis/Karta_sorted_images/1_out/outlier-gallery/outliers.html\n",
      "FastDup Software, (C) copyright 2022 Dr. Amir Alush and Dr. Danny Bickson.\n",
      "Going to loop over dir Karta_sorted_images/15\n",
      "Found total 200 images to run on\n",
      "Found total 200 images to run on■■■■■■■■■■■■■■■■■■■] 100% Estimated: 0 Minutes 0 Features\n",
      "16) Finished write_index() NN model\n",
      "Stored nn model index file Karta_sorted_images/15_out/nnf.index\n",
      "Total time took 7028 ms\n",
      "Found a total of 0 fully identical images (d>0.990), which are 0.00 %\n",
      "Found a total of 0 nearly identical images(d>0.980), which are 0.00 %\n",
      "Found a total of 342 above threshold images (d>0.900), which are 57.00 %\n",
      "Found a total of 20 outlier images         (d<0.050), which are 3.33 %\n",
      "Min distance found 0.831 max distance 0.972\n",
      "\u001b[1;32m1676546399 : INFO:     (add_vertices:460): Num vertices for group 0: 200\n",
      "\u001b[0m1676546399 : PROGRESS: (_p:516): +-----------------------------+\n",
      "\u001b[0m1676546399 : PROGRESS: (_p:516): | Number of components merged |\n",
      "\u001b[0m1676546399 : PROGRESS: (_p:516): +-----------------------------+\n",
      "\u001b[0m1676546399 : PROGRESS: (_p:516): | 0                           |\n",
      "\u001b[0m1676546399 : PROGRESS: (_p:516): +-----------------------------+\n",
      "\u001b[0m1676546399 : PROGRESS: (triple_apply_pagerank:69): Counting out degree\n",
      "\u001b[0m1676546399 : PROGRESS: (triple_apply_pagerank:78): Done counting out degree\n",
      "\u001b[0m1676546399 : PROGRESS: (_p:516): +-----------+-----------------------+\n",
      "\u001b[0m1676546399 : PROGRESS: (_p:516): | Iteration | L1 change in pagerank |\n",
      "\u001b[0m1676546399 : PROGRESS: (_p:516): +-----------+-----------------------+\n",
      "\u001b[0m1676546399 : PROGRESS: (_p:516): | 1         | 170                   |\n",
      "\u001b[0m1676546399 : PROGRESS: (_p:516): | 2         | 0                     |\n",
      "\u001b[0m1676546399 : PROGRESS: (_p:516): +-----------+-----------------------+\n",
      "\u001b[0mWrote total of 200 components \n"
     ]
    },
    {
     "name": "stderr",
     "output_type": "stream",
     "text": [
      "100%|██████████████████████████████████████████████████████████████████████████████| 20/20 [00:00<00:00, 23.45it/s]\n"
     ]
    },
    {
     "name": "stdout",
     "output_type": "stream",
     "text": [
      "Stored similar images view in  /home/yiwei/Documents/New Fast Image Analysis/Karta_sorted_images/15_out/similar-gallery/topk_similarity.html\n",
      "read outliers 20\n"
     ]
    },
    {
     "name": "stderr",
     "output_type": "stream",
     "text": [
      "100%|███████████████████████████████████████████████████████████████████████████| 15/15 [00:00<00:00, 30885.89it/s]\n"
     ]
    },
    {
     "name": "stdout",
     "output_type": "stream",
     "text": [
      "Stored outliers visual view in  /home/yiwei/Documents/New Fast Image Analysis/Karta_sorted_images/15_out/outlier-gallery/outliers.html\n",
      "FastDup Software, (C) copyright 2022 Dr. Amir Alush and Dr. Danny Bickson.\n",
      "Going to loop over dir Karta_sorted_images/23\n",
      "Found total 466 images to run on\n",
      "Found total 466 images to run on■■■■■■■■■■■■■■■■■■■] 100% Estimated: 0 Minutes 0 Features\n",
      "89) Finished write_index() NN model\n",
      "Stored nn model index file Karta_sorted_images/23_out/nnf.index\n",
      "Total time took 14137 ms\n",
      "Found a total of 0 fully identical images (d>0.990), which are 0.00 %\n",
      "Found a total of 0 nearly identical images(d>0.980), which are 0.00 %\n",
      "Found a total of 311 above threshold images (d>0.900), which are 22.25 %\n",
      "Found a total of 46 outlier images         (d<0.050), which are 3.29 %\n",
      "Min distance found 0.747 max distance 0.976\n",
      "\u001b[1;32m1676546418 : INFO:     (add_vertices:460): Num vertices for group 0: 466\n",
      "\u001b[0m1676546418 : PROGRESS: (_p:516): +-----------------------------+\n",
      "\u001b[0m1676546418 : PROGRESS: (_p:516): | Number of components merged |\n",
      "\u001b[0m1676546418 : PROGRESS: (_p:516): +-----------------------------+\n",
      "\u001b[0m1676546418 : PROGRESS: (_p:516): | 0                           |\n",
      "\u001b[0m1676546418 : PROGRESS: (_p:516): +-----------------------------+\n",
      "\u001b[0m1676546418 : PROGRESS: (triple_apply_pagerank:69): Counting out degree\n",
      "\u001b[0m1676546418 : PROGRESS: (triple_apply_pagerank:78): Done counting out degree\n",
      "\u001b[0m1676546418 : PROGRESS: (_p:516): +-----------+-----------------------+\n",
      "\u001b[0m1676546418 : PROGRESS: (_p:516): | Iteration | L1 change in pagerank |\n",
      "\u001b[0m1676546418 : PROGRESS: (_p:516): +-----------+-----------------------+\n",
      "\u001b[0m1676546418 : PROGRESS: (_p:516): | 1         | 396.1                 |\n",
      "\u001b[0m1676546418 : PROGRESS: (_p:516): | 2         | 0                     |\n",
      "\u001b[0m1676546418 : PROGRESS: (_p:516): +-----------+-----------------------+\n",
      "\u001b[0mWrote total of 466 components \n"
     ]
    },
    {
     "name": "stderr",
     "output_type": "stream",
     "text": [
      "100%|██████████████████████████████████████████████████████████████████████████████| 20/20 [00:00<00:00, 33.94it/s]\n"
     ]
    },
    {
     "name": "stdout",
     "output_type": "stream",
     "text": [
      "Stored similar images view in  /home/yiwei/Documents/New Fast Image Analysis/Karta_sorted_images/23_out/similar-gallery/topk_similarity.html\n",
      "read outliers 46\n"
     ]
    },
    {
     "name": "stderr",
     "output_type": "stream",
     "text": [
      "100%|███████████████████████████████████████████████████████████████████████████| 20/20 [00:00<00:00, 34464.29it/s]\n"
     ]
    },
    {
     "name": "stdout",
     "output_type": "stream",
     "text": [
      "Stored outliers visual view in  /home/yiwei/Documents/New Fast Image Analysis/Karta_sorted_images/23_out/outlier-gallery/outliers.html\n",
      "FastDup Software, (C) copyright 2022 Dr. Amir Alush and Dr. Danny Bickson.\n",
      "Going to loop over dir Karta_sorted_images/25\n",
      "Found total 182 images to run on\n",
      "Found total 182 images to run on■■■■■■■■■■■■■■■■■■■] 100% Estimated: 0 Minutes 0 Features\n",
      "13) Finished write_index() NN model\n",
      "Stored nn model index file Karta_sorted_images/25_out/nnf.index\n",
      "Total time took 4021 ms\n",
      "Found a total of 0 fully identical images (d>0.990), which are 0.00 %\n",
      "Found a total of 0 nearly identical images(d>0.980), which are 0.00 %\n",
      "Found a total of 258 above threshold images (d>0.900), which are 47.25 %\n",
      "Found a total of 18 outlier images         (d<0.050), which are 3.30 %\n",
      "Min distance found 0.818 max distance 0.959\n",
      "\u001b[1;32m1676546426 : INFO:     (add_vertices:460): Num vertices for group 0: 182\n",
      "\u001b[0m1676546426 : PROGRESS: (_p:516): +-----------------------------+\n",
      "\u001b[0m1676546426 : PROGRESS: (_p:516): | Number of components merged |\n",
      "\u001b[0m1676546426 : PROGRESS: (_p:516): +-----------------------------+\n",
      "\u001b[0m1676546426 : PROGRESS: (_p:516): | 0                           |\n",
      "\u001b[0m1676546426 : PROGRESS: (_p:516): +-----------------------------+\n",
      "\u001b[0m1676546426 : PROGRESS: (triple_apply_pagerank:69): Counting out degree\n",
      "\u001b[0m1676546426 : PROGRESS: (triple_apply_pagerank:78): Done counting out degree\n",
      "\u001b[0m1676546426 : PROGRESS: (_p:516): +-----------+-----------------------+\n",
      "\u001b[0m1676546426 : PROGRESS: (_p:516): | Iteration | L1 change in pagerank |\n",
      "\u001b[0m1676546426 : PROGRESS: (_p:516): +-----------+-----------------------+\n",
      "\u001b[0m1676546426 : PROGRESS: (_p:516): | 1         | 154.7                 |\n",
      "\u001b[0m1676546426 : PROGRESS: (_p:516): | 2         | 0                     |\n",
      "\u001b[0m1676546426 : PROGRESS: (_p:516): +-----------+-----------------------+\n",
      "\u001b[0mWrote total of 182 components \n"
     ]
    },
    {
     "name": "stderr",
     "output_type": "stream",
     "text": [
      "100%|██████████████████████████████████████████████████████████████████████████████| 20/20 [00:00<00:00, 27.43it/s]\n"
     ]
    },
    {
     "name": "stdout",
     "output_type": "stream",
     "text": [
      "Stored similar images view in  /home/yiwei/Documents/New Fast Image Analysis/Karta_sorted_images/25_out/similar-gallery/topk_similarity.html\n",
      "read outliers 18\n"
     ]
    },
    {
     "name": "stderr",
     "output_type": "stream",
     "text": [
      "100%|███████████████████████████████████████████████████████████████████████████| 12/12 [00:00<00:00, 32263.88it/s]\n"
     ]
    },
    {
     "name": "stdout",
     "output_type": "stream",
     "text": [
      "Stored outliers visual view in  /home/yiwei/Documents/New Fast Image Analysis/Karta_sorted_images/25_out/outlier-gallery/outliers.html\n",
      "FastDup Software, (C) copyright 2022 Dr. Amir Alush and Dr. Danny Bickson.\n",
      "Going to loop over dir Karta_sorted_images/24\n",
      "Found total 382 images to run on\n",
      "Found total 382 images to run on■■■■■■■■■■■■■■■■■■■] 100% Estimated: 0 Minutes 0 Features\n",
      "45) Finished write_index() NN model\n",
      "Stored nn model index file Karta_sorted_images/24_out/nnf.index\n",
      "Total time took 12075 ms\n",
      "Found a total of 0 fully identical images (d>0.990), which are 0.00 %\n",
      "Found a total of 33 nearly identical images(d>0.980), which are 2.88 %\n",
      "Found a total of 538 above threshold images (d>0.900), which are 46.95 %\n",
      "Found a total of 38 outlier images         (d<0.050), which are 3.32 %\n",
      "Min distance found 0.798 max distance 0.989\n",
      "\u001b[1;32m1676546443 : INFO:     (add_vertices:460): Num vertices for group 0: 382\n",
      "\u001b[0m\u001b[1;32m1676546443 : INFO:     (commit_edge_buffer:609): In commit edge buffer (0,0)\n",
      "\u001b[0m\u001b[1;32m1676546443 : INFO:     (commit_edge_buffer:680): Shuffling edges ...\n",
      "\u001b[0m\u001b[1;32m1676546443 : INFO:     (commit_edge_buffer:688): Done shuffling edges in 0.005648 secs\n",
      "\u001b[0m\u001b[1;32m1676546443 : INFO:     (commit_edge_buffer:692): Aggregating unique vertices...\n",
      "\u001b[0m\u001b[1;32m1676546443 : INFO:     (commit_edge_buffer:705): Done aggregating unique vertex in 0.001049 secs\n",
      "\u001b[0m\u001b[1;32m1676546443 : INFO:     (commit_edge_buffer:713): Combine vertex data\n",
      "\u001b[0m\u001b[1;32m1676546443 : INFO:     (commit_edge_buffer:779): Done phase 2 in 0.001121 secs\n",
      "\u001b[0m\u001b[1;32m1676546443 : INFO:     (commit_edge_buffer:787): Rename id columns \n",
      "\u001b[0m\u001b[1;32m1676546443 : INFO:     (commit_edge_buffer:890): Done in 0.011393 secs\n",
      "\u001b[0m\u001b[1;32m1676546443 : INFO:     (commit_edge_buffer:892): Finish committing edge in 0.019239 secs\n",
      "\u001b[0m\u001b[1;32m1676546443 : INFO:     (add_edges:584): Num vertices for group 0: 382\n",
      "\u001b[0m\u001b[1;32mNum vertices for group 0: 382\n",
      "\u001b[0m\u001b[1;32mNum edges 0 -> 0: 33\n",
      "\u001b[0m1676546443 : PROGRESS: (_p:516): +-----------------------------+\n",
      "\u001b[0m1676546443 : PROGRESS: (_p:516): | Number of components merged |\n",
      "\u001b[0m1676546443 : PROGRESS: (_p:516): +-----------------------------+\n",
      "\u001b[0m1676546443 : PROGRESS: (_p:516): | 20                          |\n",
      "\u001b[0m1676546443 : PROGRESS: (_p:516): | 0                           |\n",
      "\u001b[0m1676546443 : PROGRESS: (_p:516): +-----------------------------+\n",
      "\u001b[0m1676546443 : PROGRESS: (triple_apply_pagerank:69): Counting out degree\n",
      "\u001b[0m1676546443 : PROGRESS: (triple_apply_pagerank:78): Done counting out degree\n",
      "\u001b[0m1676546443 : PROGRESS: (_p:516): +-----------+-----------------------+\n",
      "\u001b[0m1676546443 : PROGRESS: (_p:516): | Iteration | L1 change in pagerank |\n",
      "\u001b[0m1676546443 : PROGRESS: (_p:516): +-----------+-----------------------+\n",
      "\u001b[0m1676546443 : PROGRESS: (_p:516): | 1         | 311.1                 |\n",
      "\u001b[0m1676546443 : PROGRESS: (_p:516): | 2         | 2.52875               |\n",
      "\u001b[0m1676546443 : PROGRESS: (_p:516): | 3         | 1.38178               |\n",
      "\u001b[0m1676546443 : PROGRESS: (_p:516): | 4         | 0.978762              |\n",
      "\u001b[0m1676546443 : PROGRESS: (_p:516): | 5         | 0.582363              |\n",
      "\u001b[0m1676546443 : PROGRESS: (_p:516): | 6         | 0.459651              |\n",
      "\u001b[0m1676546443 : PROGRESS: (_p:516): | 7         | 0.285514              |\n",
      "\u001b[0m1676546443 : PROGRESS: (_p:516): | 8         | 0.236301              |\n",
      "\u001b[0m1676546443 : PROGRESS: (_p:516): | 9         | 0.149284              |\n",
      "\u001b[0m1676546443 : PROGRESS: (_p:516): | 10        | 0.125738              |\n",
      "\u001b[0m1676546443 : PROGRESS: (_p:516): | 11        | 0.079913              |\n",
      "\u001b[0m1676546443 : PROGRESS: (_p:516): | 12        | 0.0677175             |\n",
      "\u001b[0m1676546443 : PROGRESS: (_p:516): | 13        | 0.0431258             |\n",
      "\u001b[0m1676546443 : PROGRESS: (_p:516): | 14        | 0.036619              |\n",
      "\u001b[0m1676546443 : PROGRESS: (_p:516): | 15        | 0.023337              |\n",
      "\u001b[0m1676546443 : PROGRESS: (_p:516): | 16        | 0.0198295             |\n",
      "\u001b[0m1676546443 : PROGRESS: (_p:516): | 17        | 0.0126399             |\n",
      "\u001b[0m1676546443 : PROGRESS: (_p:516): | 18        | 0.0107428             |\n",
      "\u001b[0m1676546443 : PROGRESS: (_p:516): | 19        | 0.00684828            |\n",
      "\u001b[0m1676546443 : PROGRESS: (_p:516): +-----------+-----------------------+\n",
      "\u001b[0mWrote total of 382 components \n"
     ]
    },
    {
     "name": "stderr",
     "output_type": "stream",
     "text": [
      "100%|██████████████████████████████████████████████████████████████████████████████| 20/20 [00:00<00:00, 28.37it/s]\n"
     ]
    },
    {
     "name": "stdout",
     "output_type": "stream",
     "text": [
      "Stored similar images view in  /home/yiwei/Documents/New Fast Image Analysis/Karta_sorted_images/24_out/similar-gallery/topk_similarity.html\n",
      "read outliers 38\n"
     ]
    },
    {
     "name": "stderr",
     "output_type": "stream",
     "text": [
      "100%|███████████████████████████████████████████████████████████████████████████| 20/20 [00:00<00:00, 30515.13it/s]\n"
     ]
    },
    {
     "name": "stdout",
     "output_type": "stream",
     "text": [
      "Stored outliers visual view in  /home/yiwei/Documents/New Fast Image Analysis/Karta_sorted_images/24_out/outlier-gallery/outliers.html\n",
      "FastDup Software, (C) copyright 2022 Dr. Amir Alush and Dr. Danny Bickson.\n",
      "Going to loop over dir Karta_sorted_images/22\n",
      "Found total 667 images to run on\n",
      "Found total 667 images to run on■■■■■■■■■■■■■■■■■■■] 100% Estimated: 0 Minutes 0 Features\n",
      "91) Finished write_index() NN model\n",
      "Stored nn model index file Karta_sorted_images/22_out/nnf.index\n",
      "Total time took 20143 ms\n",
      "Found a total of 0 fully identical images (d>0.990), which are 0.00 %\n",
      "Found a total of 0 nearly identical images(d>0.980), which are 0.00 %\n",
      "Found a total of 112 above threshold images (d>0.900), which are 5.60 %\n",
      "Found a total of 66 outlier images         (d<0.050), which are 3.30 %\n",
      "Min distance found 0.702 max distance 0.959\n",
      "\u001b[1;32m1676546467 : INFO:     (add_vertices:460): Num vertices for group 0: 667\n",
      "\u001b[0m1676546467 : PROGRESS: (_p:516): +-----------------------------+\n",
      "\u001b[0m1676546467 : PROGRESS: (_p:516): | Number of components merged |\n",
      "\u001b[0m1676546467 : PROGRESS: (_p:516): +-----------------------------+\n",
      "\u001b[0m1676546467 : PROGRESS: (_p:516): | 0                           |\n",
      "\u001b[0m1676546467 : PROGRESS: (_p:516): +-----------------------------+\n",
      "\u001b[0m1676546467 : PROGRESS: (triple_apply_pagerank:69): Counting out degree\n",
      "\u001b[0m1676546467 : PROGRESS: (triple_apply_pagerank:78): Done counting out degree\n",
      "\u001b[0m1676546467 : PROGRESS: (_p:516): +-----------+-----------------------+\n",
      "\u001b[0m1676546467 : PROGRESS: (_p:516): | Iteration | L1 change in pagerank |\n",
      "\u001b[0m1676546467 : PROGRESS: (_p:516): +-----------+-----------------------+\n",
      "\u001b[0m1676546467 : PROGRESS: (_p:516): | 1         | 566.95                |\n",
      "\u001b[0m1676546467 : PROGRESS: (_p:516): | 2         | 0                     |\n",
      "\u001b[0m1676546467 : PROGRESS: (_p:516): +-----------+-----------------------+\n",
      "\u001b[0mWrote total of 667 components \n"
     ]
    },
    {
     "name": "stderr",
     "output_type": "stream",
     "text": [
      "100%|██████████████████████████████████████████████████████████████████████████████| 20/20 [00:00<00:00, 32.36it/s]\n"
     ]
    },
    {
     "name": "stdout",
     "output_type": "stream",
     "text": [
      "Stored similar images view in  /home/yiwei/Documents/New Fast Image Analysis/Karta_sorted_images/22_out/similar-gallery/topk_similarity.html\n",
      "read outliers 66\n"
     ]
    },
    {
     "name": "stderr",
     "output_type": "stream",
     "text": [
      "100%|███████████████████████████████████████████████████████████████████████████| 20/20 [00:00<00:00, 34592.20it/s]\n"
     ]
    },
    {
     "name": "stdout",
     "output_type": "stream",
     "text": [
      "Stored outliers visual view in  /home/yiwei/Documents/New Fast Image Analysis/Karta_sorted_images/22_out/outlier-gallery/outliers.html\n",
      "FastDup Software, (C) copyright 2022 Dr. Amir Alush and Dr. Danny Bickson.\n",
      "Going to loop over dir Karta_sorted_images/14\n",
      "Found total 683 images to run on\n",
      "Found total 683 images to run on■■■■■■■■■■■■■■■■■■■] 100% Estimated: 0 Minutes 0 Features\n",
      "130) Finished write_index() NN model\n",
      "Stored nn model index file Karta_sorted_images/14_out/nnf.index\n",
      "Total time took 22173 ms\n",
      "Found a total of 0 fully identical images (d>0.990), which are 0.00 %\n",
      "Found a total of 14 nearly identical images(d>0.980), which are 0.68 %\n",
      "Found a total of 966 above threshold images (d>0.900), which are 47.14 %\n",
      "Found a total of 68 outlier images         (d<0.050), which are 3.32 %\n",
      "Min distance found 0.802 max distance 0.989\n",
      "\u001b[1;32m1676546493 : INFO:     (add_vertices:460): Num vertices for group 0: 683\n",
      "\u001b[0m\u001b[1;32m1676546493 : INFO:     (commit_edge_buffer:609): In commit edge buffer (0,0)\n",
      "\u001b[0m\u001b[1;32m1676546493 : INFO:     (commit_edge_buffer:680): Shuffling edges ...\n",
      "\u001b[0m\u001b[1;32m1676546493 : INFO:     (commit_edge_buffer:688): Done shuffling edges in 0.004008 secs\n",
      "\u001b[0m\u001b[1;32m1676546493 : INFO:     (commit_edge_buffer:692): Aggregating unique vertices...\n",
      "\u001b[0m\u001b[1;32m1676546493 : INFO:     (commit_edge_buffer:705): Done aggregating unique vertex in 0.000732 secs\n",
      "\u001b[0m\u001b[1;32m1676546493 : INFO:     (commit_edge_buffer:713): Combine vertex data\n",
      "\u001b[0m\u001b[1;32m1676546493 : INFO:     (commit_edge_buffer:779): Done phase 2 in 0.000901 secs\n",
      "\u001b[0m\u001b[1;32m1676546493 : INFO:     (commit_edge_buffer:787): Rename id columns \n",
      "\u001b[0m\u001b[1;32m1676546493 : INFO:     (commit_edge_buffer:890): Done in 0.008023 secs\n",
      "\u001b[0m\u001b[1;32m1676546493 : INFO:     (commit_edge_buffer:892): Finish committing edge in 0.013686 secs\n",
      "\u001b[0m\u001b[1;32m1676546493 : INFO:     (add_edges:584): Num vertices for group 0: 683\n",
      "\u001b[0m\u001b[1;32mNum vertices for group 0: 683\n",
      "\u001b[0m\u001b[1;32mNum edges 0 -> 0: 14\n",
      "\u001b[0m1676546493 : PROGRESS: (_p:516): +-----------------------------+\n",
      "\u001b[0m1676546493 : PROGRESS: (_p:516): | Number of components merged |\n",
      "\u001b[0m1676546493 : PROGRESS: (_p:516): +-----------------------------+\n",
      "\u001b[0m1676546493 : PROGRESS: (_p:516): | 8                           |\n",
      "\u001b[0m1676546493 : PROGRESS: (_p:516): | 0                           |\n",
      "\u001b[0m1676546493 : PROGRESS: (_p:516): +-----------------------------+\n",
      "\u001b[0m1676546493 : PROGRESS: (triple_apply_pagerank:69): Counting out degree\n",
      "\u001b[0m1676546493 : PROGRESS: (triple_apply_pagerank:78): Done counting out degree\n",
      "\u001b[0m1676546493 : PROGRESS: (_p:516): +-----------+-----------------------+\n",
      "\u001b[0m1676546493 : PROGRESS: (_p:516): | Iteration | L1 change in pagerank |\n",
      "\u001b[0m1676546493 : PROGRESS: (_p:516): +-----------+-----------------------+\n",
      "\u001b[0m1676546493 : PROGRESS: (_p:516): | 1         | 573.75                |\n",
      "\u001b[0m1676546493 : PROGRESS: (_p:516): | 2         | 1.80625               |\n",
      "\u001b[0m1676546493 : PROGRESS: (_p:516): | 3         | 0.921187              |\n",
      "\u001b[0m1676546493 : PROGRESS: (_p:516): | 4         | 0.587256              |\n",
      "\u001b[0m1676546493 : PROGRESS: (_p:516): | 5         | 0.36051               |\n",
      "\u001b[0m1676546493 : PROGRESS: (_p:516): | 6         | 0.235718              |\n",
      "\u001b[0m1676546493 : PROGRESS: (_p:516): | 7         | 0.155279              |\n",
      "\u001b[0m1676546493 : PROGRESS: (_p:516): | 8         | 0.104312              |\n",
      "\u001b[0m1676546493 : PROGRESS: (_p:516): | 9         | 0.0705706             |\n",
      "\u001b[0m1676546493 : PROGRESS: (_p:516): | 10        | 0.0480648             |\n",
      "\u001b[0m1676546493 : PROGRESS: (_p:516): | 11        | 0.0328474             |\n",
      "\u001b[0m1676546493 : PROGRESS: (_p:516): | 12        | 0.0225029             |\n",
      "\u001b[0m1676546493 : PROGRESS: (_p:516): | 13        | 0.0154378             |\n",
      "\u001b[0m1676546493 : PROGRESS: (_p:516): | 14        | 0.0106004             |\n",
      "\u001b[0m1676546493 : PROGRESS: (_p:516): | 15        | 0.00728273            |\n",
      "\u001b[0m1676546493 : PROGRESS: (_p:516): +-----------+-----------------------+\n",
      "\u001b[0mWrote total of 683 components \n"
     ]
    },
    {
     "name": "stderr",
     "output_type": "stream",
     "text": [
      "100%|██████████████████████████████████████████████████████████████████████████████| 20/20 [00:00<00:00, 27.54it/s]\n"
     ]
    },
    {
     "name": "stdout",
     "output_type": "stream",
     "text": [
      "Stored similar images view in  /home/yiwei/Documents/New Fast Image Analysis/Karta_sorted_images/14_out/similar-gallery/topk_similarity.html\n",
      "read outliers 68\n"
     ]
    },
    {
     "name": "stderr",
     "output_type": "stream",
     "text": [
      "100%|███████████████████████████████████████████████████████████████████████████| 20/20 [00:00<00:00, 35833.44it/s]\n"
     ]
    },
    {
     "name": "stdout",
     "output_type": "stream",
     "text": [
      "Stored outliers visual view in  /home/yiwei/Documents/New Fast Image Analysis/Karta_sorted_images/14_out/outlier-gallery/outliers.html\n",
      "FastDup Software, (C) copyright 2022 Dr. Amir Alush and Dr. Danny Bickson.\n",
      "Going to loop over dir Karta_sorted_images/5\n",
      "Found total 194 images to run on\n",
      "Found total 194 images to run on■■■■■■■■■■■■■■■■■■■] 100% Estimated: 0 Minutes 0 Features\n",
      "15) Finished write_index() NN model\n",
      "Stored nn model index file Karta_sorted_images/5_out/nnf.index\n",
      "Total time took 6025 ms\n",
      "Found a total of 0 fully identical images (d>0.990), which are 0.00 %\n",
      "Found a total of 2 nearly identical images(d>0.980), which are 0.34 %\n",
      "Found a total of 373 above threshold images (d>0.900), which are 64.09 %\n",
      "Found a total of 19 outlier images         (d<0.050), which are 3.26 %\n",
      "Min distance found 0.822 max distance 0.984\n",
      "\u001b[1;32m1676546503 : INFO:     (add_vertices:460): Num vertices for group 0: 194\n",
      "\u001b[0m\u001b[1;32m1676546503 : INFO:     (commit_edge_buffer:609): In commit edge buffer (0,0)\n",
      "\u001b[0m\u001b[1;32m1676546503 : INFO:     (commit_edge_buffer:680): Shuffling edges ...\n",
      "\u001b[0m\u001b[1;32m1676546503 : INFO:     (commit_edge_buffer:688): Done shuffling edges in 0.003823 secs\n",
      "\u001b[0m\u001b[1;32m1676546503 : INFO:     (commit_edge_buffer:692): Aggregating unique vertices...\n",
      "\u001b[0m\u001b[1;32m1676546503 : INFO:     (commit_edge_buffer:705): Done aggregating unique vertex in 0.000636 secs\n",
      "\u001b[0m\u001b[1;32m1676546503 : INFO:     (commit_edge_buffer:713): Combine vertex data\n",
      "\u001b[0m\u001b[1;32m1676546503 : INFO:     (commit_edge_buffer:779): Done phase 2 in 0.000759 secs\n",
      "\u001b[0m\u001b[1;32m1676546503 : INFO:     (commit_edge_buffer:787): Rename id columns \n",
      "\u001b[0m\u001b[1;32m1676546503 : INFO:     (commit_edge_buffer:890): Done in 0.007427 secs\n",
      "\u001b[0m\u001b[1;32m1676546503 : INFO:     (commit_edge_buffer:892): Finish committing edge in 0.012667 secs\n",
      "\u001b[0m\u001b[1;32m1676546503 : INFO:     (add_edges:584): Num vertices for group 0: 194\n",
      "\u001b[0m\u001b[1;32mNum vertices for group 0: 194\n",
      "\u001b[0m\u001b[1;32mNum edges 0 -> 0: 2\n",
      "\u001b[0m1676546503 : PROGRESS: (_p:516): +-----------------------------+\n",
      "\u001b[0m1676546503 : PROGRESS: (_p:516): | Number of components merged |\n",
      "\u001b[0m1676546503 : PROGRESS: (_p:516): +-----------------------------+\n",
      "\u001b[0m1676546503 : PROGRESS: (_p:516): | 2                           |\n",
      "\u001b[0m1676546503 : PROGRESS: (_p:516): | 0                           |\n",
      "\u001b[0m1676546503 : PROGRESS: (_p:516): +-----------------------------+\n",
      "\u001b[0m1676546503 : PROGRESS: (triple_apply_pagerank:69): Counting out degree\n",
      "\u001b[0m1676546503 : PROGRESS: (triple_apply_pagerank:78): Done counting out degree\n",
      "\u001b[0m1676546503 : PROGRESS: (_p:516): +-----------+-----------------------+\n",
      "\u001b[0m1676546503 : PROGRESS: (_p:516): | Iteration | L1 change in pagerank |\n",
      "\u001b[0m1676546503 : PROGRESS: (_p:516): +-----------+-----------------------+\n",
      "\u001b[0m1676546503 : PROGRESS: (_p:516): | 1         | 163.2                 |\n",
      "\u001b[0m1676546503 : PROGRESS: (_p:516): | 2         | 0                     |\n",
      "\u001b[0m1676546503 : PROGRESS: (_p:516): +-----------+-----------------------+\n",
      "\u001b[0mWrote total of 194 components \n"
     ]
    },
    {
     "name": "stderr",
     "output_type": "stream",
     "text": [
      "100%|██████████████████████████████████████████████████████████████████████████████| 20/20 [00:00<00:00, 22.62it/s]\n"
     ]
    },
    {
     "name": "stdout",
     "output_type": "stream",
     "text": [
      "Stored similar images view in  /home/yiwei/Documents/New Fast Image Analysis/Karta_sorted_images/5_out/similar-gallery/topk_similarity.html\n",
      "read outliers 19\n"
     ]
    },
    {
     "name": "stderr",
     "output_type": "stream",
     "text": [
      "100%|███████████████████████████████████████████████████████████████████████████| 12/12 [00:00<00:00, 32896.50it/s]\n"
     ]
    },
    {
     "name": "stdout",
     "output_type": "stream",
     "text": [
      "Stored outliers visual view in  /home/yiwei/Documents/New Fast Image Analysis/Karta_sorted_images/5_out/outlier-gallery/outliers.html\n",
      "FastDup Software, (C) copyright 2022 Dr. Amir Alush and Dr. Danny Bickson.\n",
      "Going to loop over dir Karta_sorted_images/4\n",
      "Found total 670 images to run on\n",
      "Found total 670 images to run on■■■■■■■■■■■■■■■■■■■] 100% Estimated: 0 Minutes 0 Features\n",
      "185) Finished write_index() NN model\n",
      "Stored nn model index file Karta_sorted_images/4_out/nnf.index\n",
      "Total time took 21233 ms\n",
      "Found a total of 2 fully identical images (d>0.990), which are 0.10 %\n",
      "Found a total of 0 nearly identical images(d>0.980), which are 0.00 %\n",
      "Found a total of 572 above threshold images (d>0.900), which are 28.46 %\n",
      "Found a total of 67 outlier images         (d<0.050), which are 3.33 %\n",
      "Min distance found 0.789 max distance 0.992\n",
      "\u001b[1;32m1676546529 : INFO:     (add_vertices:460): Num vertices for group 0: 670\n",
      "\u001b[0m\u001b[1;32m1676546529 : INFO:     (commit_edge_buffer:609): In commit edge buffer (0,0)\n",
      "\u001b[0m\u001b[1;32m1676546529 : INFO:     (commit_edge_buffer:680): Shuffling edges ...\n",
      "\u001b[0m\u001b[1;32m1676546529 : INFO:     (commit_edge_buffer:688): Done shuffling edges in 0.00404 secs\n",
      "\u001b[0m\u001b[1;32m1676546529 : INFO:     (commit_edge_buffer:692): Aggregating unique vertices...\n",
      "\u001b[0m\u001b[1;32m1676546529 : INFO:     (commit_edge_buffer:705): Done aggregating unique vertex in 0.000703 secs\n",
      "\u001b[0m\u001b[1;32m1676546529 : INFO:     (commit_edge_buffer:713): Combine vertex data\n",
      "\u001b[0m\u001b[1;32m1676546529 : INFO:     (commit_edge_buffer:779): Done phase 2 in 0.000928 secs\n",
      "\u001b[0m\u001b[1;32m1676546529 : INFO:     (commit_edge_buffer:787): Rename id columns \n",
      "\u001b[0m\u001b[1;32m1676546529 : INFO:     (commit_edge_buffer:890): Done in 0.008218 secs\n",
      "\u001b[0m\u001b[1;32m1676546529 : INFO:     (commit_edge_buffer:892): Finish committing edge in 0.013922 secs\n",
      "\u001b[0m\u001b[1;32m1676546529 : INFO:     (add_edges:584): Num vertices for group 0: 670\n",
      "\u001b[0m\u001b[1;32mNum vertices for group 0: 670\n",
      "\u001b[0m\u001b[1;32mNum edges 0 -> 0: 2\n",
      "\u001b[0m1676546529 : PROGRESS: (_p:516): +-----------------------------+\n",
      "\u001b[0m1676546529 : PROGRESS: (_p:516): | Number of components merged |\n",
      "\u001b[0m1676546529 : PROGRESS: (_p:516): +-----------------------------+\n",
      "\u001b[0m1676546529 : PROGRESS: (_p:516): | 2                           |\n",
      "\u001b[0m1676546529 : PROGRESS: (_p:516): | 0                           |\n",
      "\u001b[0m1676546529 : PROGRESS: (_p:516): +-----------------------------+\n",
      "\u001b[0m1676546529 : PROGRESS: (triple_apply_pagerank:69): Counting out degree\n",
      "\u001b[0m1676546529 : PROGRESS: (triple_apply_pagerank:78): Done counting out degree\n",
      "\u001b[0m1676546529 : PROGRESS: (_p:516): +-----------+-----------------------+\n",
      "\u001b[0m1676546529 : PROGRESS: (_p:516): | Iteration | L1 change in pagerank |\n",
      "\u001b[0m1676546529 : PROGRESS: (_p:516): +-----------+-----------------------+\n",
      "\u001b[0m1676546529 : PROGRESS: (_p:516): | 1         | 567.8                 |\n",
      "\u001b[0m1676546529 : PROGRESS: (_p:516): | 2         | 0                     |\n",
      "\u001b[0m1676546529 : PROGRESS: (_p:516): +-----------+-----------------------+\n",
      "\u001b[0mWrote total of 670 components \n"
     ]
    },
    {
     "name": "stderr",
     "output_type": "stream",
     "text": [
      "100%|██████████████████████████████████████████████████████████████████████████████| 20/20 [00:00<00:00, 31.18it/s]\n"
     ]
    },
    {
     "name": "stdout",
     "output_type": "stream",
     "text": [
      "Stored similar images view in  /home/yiwei/Documents/New Fast Image Analysis/Karta_sorted_images/4_out/similar-gallery/topk_similarity.html\n",
      "read outliers 67\n"
     ]
    },
    {
     "name": "stderr",
     "output_type": "stream",
     "text": [
      "100%|███████████████████████████████████████████████████████████████████████████| 20/20 [00:00<00:00, 22227.37it/s]\n"
     ]
    },
    {
     "name": "stdout",
     "output_type": "stream",
     "text": [
      "Stored outliers visual view in  /home/yiwei/Documents/New Fast Image Analysis/Karta_sorted_images/4_out/outlier-gallery/outliers.html\n",
      "FastDup Software, (C) copyright 2022 Dr. Amir Alush and Dr. Danny Bickson.\n",
      "Going to loop over dir Karta_sorted_images/10\n",
      "Found total 713 images to run on\n",
      "Found total 713 images to run on■■■■■■■■■■■■■■■■■■■] 100% Estimated: 0 Minutes 0 Features\n",
      "122) Finished write_index() NN model\n",
      "Stored nn model index file Karta_sorted_images/10_out/nnf.index\n",
      "Total time took 23365 ms\n",
      "Found a total of 0 fully identical images (d>0.990), which are 0.00 %\n",
      "Found a total of 0 nearly identical images(d>0.980), which are 0.00 %\n",
      "Found a total of 800 above threshold images (d>0.900), which are 37.40 %\n",
      "Found a total of 71 outlier images         (d<0.050), which are 3.32 %\n",
      "Min distance found 0.810 max distance 0.978\n",
      "\u001b[1;32m1676546559 : INFO:     (add_vertices:460): Num vertices for group 0: 713\n",
      "\u001b[0m1676546559 : PROGRESS: (_p:516): +-----------------------------+\n",
      "\u001b[0m1676546559 : PROGRESS: (_p:516): | Number of components merged |\n",
      "\u001b[0m1676546559 : PROGRESS: (_p:516): +-----------------------------+\n",
      "\u001b[0m1676546559 : PROGRESS: (_p:516): | 0                           |\n",
      "\u001b[0m1676546559 : PROGRESS: (_p:516): +-----------------------------+\n",
      "\u001b[0m1676546559 : PROGRESS: (triple_apply_pagerank:69): Counting out degree\n",
      "\u001b[0m1676546559 : PROGRESS: (triple_apply_pagerank:78): Done counting out degree\n",
      "\u001b[0m1676546559 : PROGRESS: (_p:516): +-----------+-----------------------+\n",
      "\u001b[0m1676546559 : PROGRESS: (_p:516): | Iteration | L1 change in pagerank |\n",
      "\u001b[0m1676546559 : PROGRESS: (_p:516): +-----------+-----------------------+\n",
      "\u001b[0m1676546559 : PROGRESS: (_p:516): | 1         | 606.05                |\n",
      "\u001b[0m1676546559 : PROGRESS: (_p:516): | 2         | 0                     |\n",
      "\u001b[0m1676546559 : PROGRESS: (_p:516): +-----------+-----------------------+\n",
      "\u001b[0mWrote total of 713 components \n"
     ]
    },
    {
     "name": "stderr",
     "output_type": "stream",
     "text": [
      "100%|██████████████████████████████████████████████████████████████████████████████| 20/20 [00:00<00:00, 32.76it/s]\n"
     ]
    },
    {
     "name": "stdout",
     "output_type": "stream",
     "text": [
      "Stored similar images view in  /home/yiwei/Documents/New Fast Image Analysis/Karta_sorted_images/10_out/similar-gallery/topk_similarity.html\n",
      "read outliers 71\n"
     ]
    },
    {
     "name": "stderr",
     "output_type": "stream",
     "text": [
      "100%|███████████████████████████████████████████████████████████████████████████| 20/20 [00:00<00:00, 32313.59it/s]\n"
     ]
    },
    {
     "name": "stdout",
     "output_type": "stream",
     "text": [
      "Stored outliers visual view in  /home/yiwei/Documents/New Fast Image Analysis/Karta_sorted_images/10_out/outlier-gallery/outliers.html\n",
      "FastDup Software, (C) copyright 2022 Dr. Amir Alush and Dr. Danny Bickson.\n",
      "Going to loop over dir Karta_sorted_images/11\n",
      "Found total 518 images to run on\n",
      "Found total 518 images to run on■■■■■■■■■■■■■■■■■■■] 100% Estimated: 0 Minutes 0 Features\n",
      "70) Finished write_index() NN model\n",
      "Stored nn model index file Karta_sorted_images/11_out/nnf.index\n",
      "Total time took 17102 ms\n",
      "Found a total of 66 fully identical images (d>0.990), which are 4.25 %\n",
      "Found a total of 21 nearly identical images(d>0.980), which are 1.35 %\n",
      "Found a total of 475 above threshold images (d>0.900), which are 30.57 %\n",
      "Found a total of 51 outlier images         (d<0.050), which are 3.28 %\n",
      "Min distance found 0.764 max distance 0.997\n",
      "\u001b[1;32m1676546581 : INFO:     (add_vertices:460): Num vertices for group 0: 518\n",
      "\u001b[0m\u001b[1;32m1676546581 : INFO:     (commit_edge_buffer:609): In commit edge buffer (0,0)\n",
      "\u001b[0m\u001b[1;32m1676546581 : INFO:     (commit_edge_buffer:680): Shuffling edges ...\n",
      "\u001b[0m\u001b[1;32m1676546581 : INFO:     (commit_edge_buffer:688): Done shuffling edges in 0.006708 secs\n",
      "\u001b[0m\u001b[1;32m1676546581 : INFO:     (commit_edge_buffer:692): Aggregating unique vertices...\n",
      "\u001b[0m\u001b[1;32m1676546581 : INFO:     (commit_edge_buffer:705): Done aggregating unique vertex in 0.001185 secs\n",
      "\u001b[0m\u001b[1;32m1676546581 : INFO:     (commit_edge_buffer:713): Combine vertex data\n",
      "\u001b[0m\u001b[1;32m1676546581 : INFO:     (commit_edge_buffer:779): Done phase 2 in 0.000901 secs\n",
      "\u001b[0m\u001b[1;32m1676546581 : INFO:     (commit_edge_buffer:787): Rename id columns \n",
      "\u001b[0m\u001b[1;32m1676546581 : INFO:     (commit_edge_buffer:890): Done in 0.009621 secs\n",
      "\u001b[0m\u001b[1;32m1676546581 : INFO:     (commit_edge_buffer:892): Finish committing edge in 0.018445 secs\n",
      "\u001b[0m\u001b[1;32m1676546581 : INFO:     (add_edges:584): Num vertices for group 0: 518\n",
      "\u001b[0m\u001b[1;32mNum vertices for group 0: 518\n",
      "\u001b[0m\u001b[1;32mNum edges 0 -> 0: 87\n",
      "\u001b[0m1676546581 : PROGRESS: (_p:516): +-----------------------------+\n",
      "\u001b[0m1676546581 : PROGRESS: (_p:516): | Number of components merged |\n",
      "\u001b[0m1676546581 : PROGRESS: (_p:516): +-----------------------------+\n",
      "\u001b[0m1676546581 : PROGRESS: (_p:516): | 69                          |\n",
      "\u001b[0m1676546581 : PROGRESS: (_p:516): | 0                           |\n",
      "\u001b[0m1676546581 : PROGRESS: (_p:516): +-----------------------------+\n",
      "\u001b[0m1676546581 : PROGRESS: (triple_apply_pagerank:69): Counting out degree\n",
      "\u001b[0m1676546581 : PROGRESS: (triple_apply_pagerank:78): Done counting out degree\n",
      "\u001b[0m1676546581 : PROGRESS: (_p:516): +-----------+-----------------------+\n",
      "\u001b[0m1676546581 : PROGRESS: (_p:516): | Iteration | L1 change in pagerank |\n",
      "\u001b[0m1676546581 : PROGRESS: (_p:516): +-----------+-----------------------+\n",
      "\u001b[0m1676546581 : PROGRESS: (_p:516): | 1         | 422.45                |\n",
      "\u001b[0m1676546581 : PROGRESS: (_p:516): | 2         | 10.8375               |\n",
      "\u001b[0m1676546581 : PROGRESS: (_p:516): | 3         | 5.83419               |\n",
      "\u001b[0m1676546581 : PROGRESS: (_p:516): | 4         | 3.58879               |\n",
      "\u001b[0m1676546581 : PROGRESS: (_p:516): | 5         | 2.6345                |\n",
      "\u001b[0m1676546581 : PROGRESS: (_p:516): | 6         | 1.87396               |\n",
      "\u001b[0m1676546581 : PROGRESS: (_p:516): | 7         | 1.47766               |\n",
      "\u001b[0m1676546581 : PROGRESS: (_p:516): | 8         | 1.12615               |\n",
      "\u001b[0m1676546581 : PROGRESS: (_p:516): | 9         | 0.892991              |\n",
      "\u001b[0m1676546581 : PROGRESS: (_p:516): | 10        | 0.704056              |\n",
      "\u001b[0m1676546581 : PROGRESS: (_p:516): | 11        | 0.562985              |\n",
      "\u001b[0m1676546581 : PROGRESS: (_p:516): | 12        | 0.453049              |\n",
      "\u001b[0m1676546581 : PROGRESS: (_p:516): | 13        | 0.365815              |\n",
      "\u001b[0m1676546581 : PROGRESS: (_p:516): | 14        | 0.29826               |\n",
      "\u001b[0m1676546581 : PROGRESS: (_p:516): | 15        | 0.243171              |\n",
      "\u001b[0m1676546581 : PROGRESS: (_p:516): | 16        | 0.200024              |\n",
      "\u001b[0m1676546581 : PROGRESS: (_p:516): | 17        | 0.164507              |\n",
      "\u001b[0m1676546581 : PROGRESS: (_p:516): | 18        | 0.136168              |\n",
      "\u001b[0m1676546581 : PROGRESS: (_p:516): | 19        | 0.112763              |\n",
      "\u001b[0m1676546581 : PROGRESS: (_p:516): | 20        | 0.0938214             |\n",
      "\u001b[0m1676546581 : PROGRESS: (_p:516): +-----------+-----------------------+\n",
      "\u001b[0mWrote total of 518 components \n"
     ]
    },
    {
     "name": "stderr",
     "output_type": "stream",
     "text": [
      "100%|██████████████████████████████████████████████████████████████████████████████| 20/20 [00:00<00:00, 32.20it/s]\n"
     ]
    },
    {
     "name": "stdout",
     "output_type": "stream",
     "text": [
      "Stored similar images view in  /home/yiwei/Documents/New Fast Image Analysis/Karta_sorted_images/11_out/similar-gallery/topk_similarity.html\n",
      "read outliers 51\n"
     ]
    },
    {
     "name": "stderr",
     "output_type": "stream",
     "text": [
      "100%|███████████████████████████████████████████████████████████████████████████| 20/20 [00:00<00:00, 37415.74it/s]\n"
     ]
    },
    {
     "name": "stdout",
     "output_type": "stream",
     "text": [
      "Stored outliers visual view in  /home/yiwei/Documents/New Fast Image Analysis/Karta_sorted_images/11_out/outlier-gallery/outliers.html\n"
     ]
    }
   ],
   "source": [
    "for key in DataFrameDict.keys():\n",
    "    fastdup_run_cluster(key)\n",
    "    results_dir = results_dir_cluster(key)\n",
    "    df_simi = fastdup_similar_gallery(results_dir, key)\n",
    "    uniqueness_punishment_score(df_simi, results_dir, key)\n",
    "    fastdup_outlier_gallery(results_dir, key)"
   ]
  },
  {
   "cell_type": "markdown",
   "id": "6c68326e",
   "metadata": {},
   "source": [
    "# 5. Set cluster's priority"
   ]
  },
  {
   "cell_type": "code",
   "execution_count": 9,
   "id": "723391d6",
   "metadata": {},
   "outputs": [],
   "source": [
    "uniqueness_dir = '/home/yiwei/Documents/New Fast Image Analysis/Karta_uniqueness_out/'\n",
    "# read df_combined.csv\n",
    "df_all_score = pd.read_csv(uniqueness_dir+'/df_combined.csv')"
   ]
  },
  {
   "cell_type": "code",
   "execution_count": 10,
   "id": "0de978fd",
   "metadata": {},
   "outputs": [],
   "source": [
    "# rename first column as filepath\n",
    "df_all_score.rename(columns={\"index\": \"filepath\"}, inplace=True)"
   ]
  },
  {
   "cell_type": "code",
   "execution_count": 12,
   "id": "d7a78952",
   "metadata": {},
   "outputs": [],
   "source": [
    "# create a data frame dictionary to store your data frames\n",
    "DF_Dict_Score = {elem : pd.DataFrame() for elem in UniqueClusters}\n",
    "\n",
    "for key in DF_Dict_Score.keys():\n",
    "    DF_Dict_Score[key] = df_all_score[:][df_all_score.cluster == key]"
   ]
  },
  {
   "cell_type": "markdown",
   "id": "136263aa",
   "metadata": {},
   "source": [
    "## 5.1 Compute labeled number in clusters"
   ]
  },
  {
   "cell_type": "code",
   "execution_count": 15,
   "id": "77353dd3",
   "metadata": {},
   "outputs": [],
   "source": [
    "df_labeled = pd.DataFrame(columns=['cluster id', 'cluster number', 'labeled number', 'labeled percent(%)'])"
   ]
  },
  {
   "cell_type": "code",
   "execution_count": 16,
   "id": "4409aa34",
   "metadata": {},
   "outputs": [],
   "source": [
    "for key in DF_Dict_Score.keys():\n",
    "    cluster_number = len(DF_Dict_Score[key].index)\n",
    "    labeled_number = len(DF_Dict_Score[key][DF_Dict_Score[key]['Labeled']==1])\n",
    "    labeled_percent = \"{:.2f}\".format(100*labeled_number/cluster_number)\n",
    "    df_labeled.loc[len(df_labeled)] = [key, cluster_number, labeled_number, labeled_percent]"
   ]
  },
  {
   "cell_type": "code",
   "execution_count": 17,
   "id": "fda4fedb",
   "metadata": {},
   "outputs": [
    {
     "name": "stdout",
     "output_type": "stream",
     "text": [
      "    cluster id  cluster number  labeled number labeled percent(%)\n",
      "0            3             438               5               1.14\n",
      "1            7             413               1               0.24\n",
      "2            6             668              82              12.28\n",
      "3           18             122              19              15.57\n",
      "4           17             412               2               0.49\n",
      "5            2             338               0               0.00\n",
      "6           13             308              99              32.14\n",
      "7           19             606             103              17.00\n",
      "8           16             633              22               3.48\n",
      "9            9             265              52              19.62\n",
      "10          21             139               1               0.72\n",
      "11          20             337               2               0.59\n",
      "12          12             577             122              21.14\n",
      "13           0             146               0               0.00\n",
      "14           8             572              13               2.27\n",
      "15           1             435              12               2.76\n",
      "16          15             200               0               0.00\n",
      "17          23             466               4               0.86\n",
      "18          25             182               0               0.00\n",
      "19          24             382               4               1.05\n",
      "20          22             667              14               2.10\n",
      "21          14             683               0               0.00\n",
      "22           5             194               0               0.00\n",
      "23           4             670               0               0.00\n",
      "24          10             713               7               0.98\n",
      "25          11             518              34               6.56\n"
     ]
    }
   ],
   "source": [
    "print(df_labeled)"
   ]
  },
  {
   "cell_type": "markdown",
   "id": "36552118",
   "metadata": {},
   "source": [
    "## 5.2 Compute cluster priority"
   ]
  },
  {
   "cell_type": "code",
   "execution_count": 18,
   "id": "ded111ff",
   "metadata": {},
   "outputs": [],
   "source": [
    "# generate rank column\n",
    "df_labeled['cluster rank'] = np.nan"
   ]
  },
  {
   "cell_type": "code",
   "execution_count": 19,
   "id": "2472ee0e",
   "metadata": {},
   "outputs": [],
   "source": [
    "# add rank based on cluster's labeled number and labeled percent\n",
    "for i in range(len(df_labeled.index)):\n",
    "    if df_labeled['labeled number'][i] == 0:\n",
    "        df_labeled.at[i, 'cluster rank'] = 1\n",
    "    elif df_labeled['labeled number'][i] < 10 and float(df_labeled['labeled percent(%)'][i]) < 3:\n",
    "        df_labeled.at[i, 'cluster rank'] = 2\n",
    "    elif df_labeled['labeled number'][i] < 50 and float(df_labeled['labeled percent(%)'][i]) < 30:\n",
    "        df_labeled.at[i, 'cluster rank'] = 3\n",
    "    else:\n",
    "        df_labeled.at[i, 'cluster rank'] = 4"
   ]
  },
  {
   "cell_type": "code",
   "execution_count": 21,
   "id": "201d9272",
   "metadata": {},
   "outputs": [],
   "source": [
    "# seperate clusters based on cluster rank\n",
    "df_labeled_1 = pd.DataFrame(columns=['cluster id', 'cluster number', 'labeled number', 'labeled percent(%)', 'cluster rank'])\n",
    "df_labeled_2 = pd.DataFrame(columns=['cluster id', 'cluster number', 'labeled number', 'labeled percent(%)', 'cluster rank'])\n",
    "df_labeled_3 = pd.DataFrame(columns=['cluster id', 'cluster number', 'labeled number', 'labeled percent(%)', 'cluster rank'])\n",
    "df_labeled_4 = pd.DataFrame(columns=['cluster id', 'cluster number', 'labeled number', 'labeled percent(%)', 'cluster rank'])\n",
    "\n",
    "for i in range(len(df_labeled.index)):\n",
    "    if df_labeled['cluster rank'][i] == 1:\n",
    "        df_labeled_1.loc[len(df_labeled_1)] = df_labeled.values[i]\n",
    "    elif df_labeled['cluster rank'][i] == 2:\n",
    "        df_labeled_2.loc[len(df_labeled_2)] = df_labeled.values[i]\n",
    "    elif df_labeled['cluster rank'][i] == 3:\n",
    "        df_labeled_3.loc[len(df_labeled_3)] = df_labeled.values[i]\n",
    "    else:\n",
    "        df_labeled_4.loc[len(df_labeled_4)] = df_labeled.values[i]"
   ]
  },
  {
   "cell_type": "code",
   "execution_count": 22,
   "id": "6f89577d",
   "metadata": {},
   "outputs": [
    {
     "name": "stdout",
     "output_type": "stream",
     "text": [
      "  cluster id cluster number labeled number labeled percent(%) cluster rank\n",
      "0          2            338              0               0.00          1.0\n",
      "1          0            146              0               0.00          1.0\n",
      "2         15            200              0               0.00          1.0\n",
      "3         25            182              0               0.00          1.0\n",
      "4         14            683              0               0.00          1.0\n",
      "5          5            194              0               0.00          1.0\n",
      "6          4            670              0               0.00          1.0\n"
     ]
    }
   ],
   "source": [
    "print(df_labeled_1)"
   ]
  },
  {
   "cell_type": "code",
   "execution_count": 23,
   "id": "dc26d47e",
   "metadata": {},
   "outputs": [],
   "source": [
    "# creating a more specific rank column and passing the returned rank series\n",
    "df_labeled_1[\"specific rank\"] = df_labeled_1[\"cluster number\"].rank()\n",
    "df_labeled_2[\"specific rank\"] = df_labeled_2[\"labeled number\"].rank()\n",
    "df_labeled_3[\"specific rank\"] = df_labeled_3[\"labeled number\"].rank()\n",
    "df_labeled_4[\"specific rank\"] = df_labeled_4[\"labeled number\"].rank()"
   ]
  },
  {
   "cell_type": "code",
   "execution_count": 24,
   "id": "240b8fcd",
   "metadata": {},
   "outputs": [
    {
     "name": "stdout",
     "output_type": "stream",
     "text": [
      "  cluster id cluster number labeled number labeled percent(%) cluster rank  \\\n",
      "0          6            668             82              12.28          4.0   \n",
      "1         13            308             99              32.14          4.0   \n",
      "2         19            606            103              17.00          4.0   \n",
      "3          9            265             52              19.62          4.0   \n",
      "4         12            577            122              21.14          4.0   \n",
      "\n",
      "   specific rank  \n",
      "0            2.0  \n",
      "1            3.0  \n",
      "2            4.0  \n",
      "3            1.0  \n",
      "4            5.0  \n"
     ]
    }
   ],
   "source": [
    "print(df_labeled_4)"
   ]
  },
  {
   "cell_type": "markdown",
   "id": "8b229542",
   "metadata": {},
   "source": [
    "# df_labeled_info = pd.DataFrame()\n",
    "df_labeled_info = pd.concat([df_labeled_info, df_labeled_1], ignore_index=True)\n",
    "df_labeled_info = pd.concat([df_labeled_info, df_labeled_2], ignore_index=True)\n",
    "df_labeled_info = pd.concat([df_labeled_info, df_labeled_3], ignore_index=True)\n",
    "df_labeled_info = pd.concat([df_labeled_info, df_labeled_4], ignore_index=True)"
   ]
  },
  {
   "cell_type": "code",
   "execution_count": 26,
   "id": "2248a973",
   "metadata": {},
   "outputs": [],
   "source": [
    "# save dataframe 'df_labeled_info' as 'cluster_labeled_info.csv'\n",
    "df_labeled_info.to_csv(sorted_folder + '/cluster_labeled_info.csv')"
   ]
  },
  {
   "cell_type": "markdown",
   "id": "77228630",
   "metadata": {},
   "source": [
    "# 6. add uniqueness punishment value and outlier value into DF_Dict_Score"
   ]
  },
  {
   "cell_type": "markdown",
   "id": "10641c73",
   "metadata": {},
   "source": [
    "## 6.1 Define Generate file name column function"
   ]
  },
  {
   "cell_type": "code",
   "execution_count": 82,
   "id": "9ddf4bbe",
   "metadata": {},
   "outputs": [],
   "source": [
    "# define Generate file name column function\n",
    "def gen_filename_col(df_dict, clutser_id):\n",
    "    # generate file name column\n",
    "    df_dict[clutser_id]['file name'] = np.nan\n",
    "    \n",
    "    # reset index\n",
    "    df_dict[clutser_id].reset_index(inplace=True)\n",
    "    \n",
    "    # set the last part of filepath as file name value\n",
    "    for i in range(len(df_dict[clutser_id].index)):\n",
    "        df_dict[clutser_id].at[i, 'file name'] = df_dict[clutser_id]['filepath'][i].split('/')[-1]"
   ]
  },
  {
   "cell_type": "markdown",
   "id": "6f70b2a9",
   "metadata": {},
   "source": [
    "## 6.2 Define Generate uniqueness punishment column function"
   ]
  },
  {
   "cell_type": "code",
   "execution_count": 66,
   "id": "2c4d90ae",
   "metadata": {},
   "outputs": [],
   "source": [
    "# define Generate uniqueness punishment column function\n",
    "def gen_uniq_puni_col(parent_folder, df_dict, clutser_id):\n",
    "    # read 'cluster_id_uniqueness_punishment_score.csv' and save as 'df_uniq_punish'\n",
    "    df_uniq_punish = pd.read_csv(parent_folder+'/'+str(clutser_id)+'_out/cluster_'+str(clutser_id)+'_uniqueness_punishment_score.csv')\n",
    "    \n",
    "    # generate file name column\n",
    "    df_uniq_punish['file name'] = np.nan\n",
    "    \n",
    "    # set the last part of filepath as file name value\n",
    "    for i in range(len(df_uniq_punish.index)):\n",
    "        df_uniq_punish.at[i, 'file name'] = df_uniq_punish['filepath'][i].split('/')[-1]\n",
    "        \n",
    "    # set index as filename\n",
    "    df_dict[clutser_id].set_index('file name', inplace=True)\n",
    "    df_uniq_punish.set_index('file name', inplace=True)\n",
    "    \n",
    "    # concatenate uniqueness score into 'df_dict[clutser_id]'\n",
    "    df_dict[clutser_id] = pd.concat([df_dict[clutser_id], df_uniq_punish['uniqueness punishment']], axis=1)\n",
    "    \n",
    "    # reset index\n",
    "    df_dict[clutser_id].reset_index(inplace=True)\n",
    "    \n",
    "    # change NaN in column 'uniqueness punishment' as 1\n",
    "    for i in range(len(df_dict[clutser_id].index)):\n",
    "        if math.isnan(df_dict[clutser_id]['uniqueness punishment'][i]):\n",
    "            df_dict[clutser_id].at[i, 'uniqueness punishment'] = 1\n",
    "        else:\n",
    "            pass"
   ]
  },
  {
   "cell_type": "markdown",
   "id": "1c06d55d",
   "metadata": {},
   "source": [
    "## 6.3 Define Generate outlier column function"
   ]
  },
  {
   "cell_type": "code",
   "execution_count": 67,
   "id": "9cffe0ee",
   "metadata": {},
   "outputs": [],
   "source": [
    "# define Generate outlier column function\n",
    "def gen_outl_col(parent_folder, df_dict, clutser_id):\n",
    "    # read 'cluster_id_outlier_distance.csv' and save as 'df_outl_dist'\n",
    "    df_outl_dist = pd.read_csv(parent_folder+'/'+str(clutser_id)+'_out/outlier-gallery/cluster_'+str(clutser_id)+'_outlier_distance.csv')\n",
    "    \n",
    "    # generate file name column\n",
    "    df_outl_dist['file name'] = np.nan\n",
    "    \n",
    "    # set the last part of filepath as file name value\n",
    "    for i in range(len(df_outl_dist.index)):\n",
    "        df_outl_dist.at[i, 'file name'] = df_outl_dist['filepath'][i].split('/')[-1]\n",
    "        \n",
    "    # set index as filename\n",
    "    df_dict[clutser_id].set_index('file name', inplace=True)\n",
    "    df_outl_dist.set_index('file name', inplace=True)\n",
    "    \n",
    "    # concatenate uniqueness score into 'df_dict[clutser_id]'\n",
    "    df_dict[clutser_id] = pd.concat([df_dict[clutser_id], df_outl_dist['outlier distance']], axis=1)\n",
    "    \n",
    "    # reset index\n",
    "    df_dict[clutser_id].reset_index(inplace=True)\n",
    "    \n",
    "    # change NaN in column 'outlier distance' as 0\n",
    "    for i in range(len(df_dict[clutser_id].index)):\n",
    "        if math.isnan(df_dict[clutser_id]['outlier distance'][i]):\n",
    "            df_dict[clutser_id].at[i, 'outlier distance'] = 0\n",
    "        else:\n",
    "            pass"
   ]
  },
  {
   "cell_type": "markdown",
   "id": "13669121",
   "metadata": {},
   "source": [
    "## 6.4 add uniqueness punishment value and outlier value into DF_Dict_Score"
   ]
  },
  {
   "cell_type": "code",
   "execution_count": 99,
   "id": "75321a08",
   "metadata": {},
   "outputs": [],
   "source": [
    "for key in DataFrameDict.keys():\n",
    "    gen_filename_col(DF_Dict_Score, key)\n",
    "    gen_uniq_puni_col(sorted_folder, DF_Dict_Score, key)\n",
    "    gen_outl_col(sorted_folder, DF_Dict_Score, key)"
   ]
  },
  {
   "cell_type": "code",
   "execution_count": 104,
   "id": "0f29913c",
   "metadata": {},
   "outputs": [],
   "source": [
    "# make parent folder\n",
    "score_dir = sorted_folder + '/score'\n",
    "os.makedirs(score_dir, exist_ok=True)"
   ]
  },
  {
   "cell_type": "code",
   "execution_count": 105,
   "id": "3f9ee57b",
   "metadata": {
    "scrolled": true
   },
   "outputs": [],
   "source": [
    "# create '0~25_score.csv' file based on clusters\n",
    "for key in DataFrameDict.keys():\n",
    "    file_path = score_dir + '/' + str(key) + '_score.csv'\n",
    "    DF_Dict_Score[key].to_csv(file_path)"
   ]
  },
  {
   "cell_type": "code",
   "execution_count": 109,
   "id": "ad36892c",
   "metadata": {
    "scrolled": true
   },
   "outputs": [
    {
     "name": "stdout",
     "output_type": "stream",
     "text": [
      "       level_0                        file name  index  Unnamed: 0  \\\n",
      "0            0   186544_94bd6_5919bf66b7cd8.jpg     49          49   \n",
      "1            1   186544_a9b9c_5919bf519228d.jpg     55          55   \n",
      "2            2   186544_b32c8_5919c13c5c0d4.jpg     62          62   \n",
      "3            3   186544_ba53c_5919bf5c1728c.jpg     67          67   \n",
      "4            4  3659305_d7c07_60c43b9230ccf.jpg    379         379   \n",
      "...        ...                              ...    ...         ...   \n",
      "11079      513    54822_8fa60_58cea16dc7f04.jpg  10612       10612   \n",
      "11080      514    54822_a4473_58cea13232758.jpg  10623       10623   \n",
      "11081      515    54822_bcba4_58cea13feada8.jpg  10644       10644   \n",
      "11082      516    54822_d72a3_58cea140a1fb5.jpg  10661       10661   \n",
      "11083      517    54822_e2477_58cea1353fbde.jpg  10669       10669   \n",
      "\n",
      "                                                          filepath      blur  \\\n",
      "0       Kartaview_Dataset/Basic_set/186544_94bd6_5919bf66b7cd8.jpg  0.402757   \n",
      "1       Kartaview_Dataset/Basic_set/186544_a9b9c_5919bf519228d.jpg  0.265389   \n",
      "2       Kartaview_Dataset/Basic_set/186544_b32c8_5919c13c5c0d4.jpg  0.078034   \n",
      "3       Kartaview_Dataset/Basic_set/186544_ba53c_5919bf5c1728c.jpg  0.295271   \n",
      "4      Kartaview_Dataset/Basic_set/3659305_d7c07_60c43b9230ccf.jpg  0.211934   \n",
      "...                                                            ...       ...   \n",
      "11079     Kartaview_Dataset/Rest_set/54822_8fa60_58cea16dc7f04.jpg  0.390455   \n",
      "11080     Kartaview_Dataset/Rest_set/54822_a4473_58cea13232758.jpg  0.410564   \n",
      "11081     Kartaview_Dataset/Rest_set/54822_bcba4_58cea13feada8.jpg  0.359231   \n",
      "11082     Kartaview_Dataset/Rest_set/54822_d72a3_58cea140a1fb5.jpg  0.341255   \n",
      "11083     Kartaview_Dataset/Rest_set/54822_e2477_58cea1353fbde.jpg  0.394133   \n",
      "\n",
      "       brightness  cluster    distance  Labeled  uniqueness  \\\n",
      "0        0.353014        3  135.751953        1    0.674558   \n",
      "1        0.522278        3  242.474121        1    0.595724   \n",
      "2        0.431997        3  120.097687        1    0.654321   \n",
      "3        0.470567        3  172.058838        1    0.815016   \n",
      "4        0.404815        3   96.784180        1    0.675886   \n",
      "...           ...      ...         ...      ...         ...   \n",
      "11079    0.414986       11   58.237823        0    0.638887   \n",
      "11080    0.485720       11   56.587463        0    0.547676   \n",
      "11081    0.513463       11   49.817139        0    0.540750   \n",
      "11082    0.457122       11   63.528442        0    0.566554   \n",
      "11083    0.410003       11   44.092621        0    0.553908   \n",
      "\n",
      "       uniqueness punishment  outlier distance  \n",
      "0                        1.0          0.765286  \n",
      "1                        1.0          0.772433  \n",
      "2                        1.0          0.759177  \n",
      "3                        1.0          0.758507  \n",
      "4                        1.0          0.000000  \n",
      "...                      ...               ...  \n",
      "11079                    1.0          0.000000  \n",
      "11080                    1.0          0.000000  \n",
      "11081                    1.0          0.000000  \n",
      "11082                    1.0          0.000000  \n",
      "11083                    1.0          0.000000  \n",
      "\n",
      "[11084 rows x 13 columns]\n"
     ]
    }
   ],
   "source": [
    "# Add all score into dataframe 'df_all_score'\n",
    "df_all_score = pd.DataFrame()\n",
    "for key in DataFrameDict.keys():\n",
    "    df_all_score = pd.concat([df_all_score, DF_Dict_Score[key]])\n",
    "# reset index\n",
    "df_all_score.reset_index(inplace=True)\n",
    "print(df_all_score)"
   ]
  },
  {
   "cell_type": "code",
   "execution_count": 110,
   "id": "54d9ef9d",
   "metadata": {},
   "outputs": [],
   "source": [
    "# save dataframe 'df_all_score' as 'all_score.csv'\n",
    "df_all_score.to_csv(score_dir + '/all_score.csv')"
   ]
  },
  {
   "cell_type": "code",
   "execution_count": null,
   "id": "c4f0b4a6",
   "metadata": {},
   "outputs": [],
   "source": []
  }
 ],
 "metadata": {
  "kernelspec": {
   "display_name": "Python 3",
   "language": "python",
   "name": "python3"
  },
  "language_info": {
   "codemirror_mode": {
    "name": "ipython",
    "version": 3
   },
   "file_extension": ".py",
   "mimetype": "text/x-python",
   "name": "python",
   "nbconvert_exporter": "python",
   "pygments_lexer": "ipython3",
   "version": "3.7.13"
  }
 },
 "nbformat": 4,
 "nbformat_minor": 5
}
